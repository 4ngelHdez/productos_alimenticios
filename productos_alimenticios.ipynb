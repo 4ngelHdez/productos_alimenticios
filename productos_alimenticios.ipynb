{
 "cells": [
  {
   "cell_type": "markdown",
   "metadata": {},
   "source": [
    "# Empresa de productos alimenticios.\n",
    "\n",
    "Para este proyecto se estará trabajando en una empresa emergente que vende productos alimenticios. Se deberá de investigar el comportamiento del usuario para la app de la empresa del día 25 de julio del 2019 al 7 de agosto de 2019.<br>\n",
    "Las actividades que realizaremos serán: <br>\n",
    "1 Estudiar y comprobar datos.<br>\n",
    "2 Estudiar el embudo de eventos.<br>\n",
    "3 Estudiar los resultados del experimento.\n"
   ]
  },
  {
   "cell_type": "code",
   "execution_count": 1,
   "metadata": {},
   "outputs": [],
   "source": [
    "# Importar las librerias necesarias para la realización del proyecto.\n",
    "\n",
    "import pandas as pd\n",
    "import numpy as np\n",
    "import seaborn as sns\n",
    "import matplotlib.pyplot as plt\n",
    "import datetime as dt\n",
    "from scipy import stats as st\n",
    "from scipy.stats import shapiro\n",
    "from scipy.stats import levene\n",
    "import matplotlib.cm as cm\n",
    "import plotly.express as px\n",
    "from statsmodels.stats.proportion import proportions_ztest"
   ]
  },
  {
   "cell_type": "markdown",
   "metadata": {},
   "source": [
    "Paso 1. Abrir el archivo de datos y leer la información general"
   ]
  },
  {
   "cell_type": "code",
   "execution_count": 2,
   "metadata": {},
   "outputs": [],
   "source": [
    "# Cargar el archivo de datos en un DataFrame utilizando el separador '\\t' para archivos CSV.\n",
    "\n",
    "archivo = pd.read_csv('/Users/angelhdez/Documents/Tripleten/repositorios/Productos_alimenticios/logs_experiencia_usuario.csv', sep = '\\t')"
   ]
  },
  {
   "cell_type": "markdown",
   "metadata": {},
   "source": [
    "Paso 2. Preparar los datos para el análisis"
   ]
  },
  {
   "cell_type": "code",
   "execution_count": 3,
   "metadata": {},
   "outputs": [],
   "source": [
    "data = archivo.copy()"
   ]
  },
  {
   "cell_type": "code",
   "execution_count": 4,
   "metadata": {},
   "outputs": [
    {
     "name": "stdout",
     "output_type": "stream",
     "text": [
      "<class 'pandas.core.frame.DataFrame'>\n",
      "RangeIndex: 244126 entries, 0 to 244125\n",
      "Data columns (total 4 columns):\n",
      " #   Column          Non-Null Count   Dtype \n",
      "---  ------          --------------   ----- \n",
      " 0   EventName       244126 non-null  object\n",
      " 1   DeviceIDHash    244126 non-null  int64 \n",
      " 2   EventTimestamp  244126 non-null  int64 \n",
      " 3   ExpId           244126 non-null  int64 \n",
      "dtypes: int64(3), object(1)\n",
      "memory usage: 7.5+ MB\n"
     ]
    },
    {
     "data": {
      "text/html": [
       "<div>\n",
       "<style scoped>\n",
       "    .dataframe tbody tr th:only-of-type {\n",
       "        vertical-align: middle;\n",
       "    }\n",
       "\n",
       "    .dataframe tbody tr th {\n",
       "        vertical-align: top;\n",
       "    }\n",
       "\n",
       "    .dataframe thead th {\n",
       "        text-align: right;\n",
       "    }\n",
       "</style>\n",
       "<table border=\"1\" class=\"dataframe\">\n",
       "  <thead>\n",
       "    <tr style=\"text-align: right;\">\n",
       "      <th></th>\n",
       "      <th>DeviceIDHash</th>\n",
       "      <th>EventTimestamp</th>\n",
       "      <th>ExpId</th>\n",
       "    </tr>\n",
       "  </thead>\n",
       "  <tbody>\n",
       "    <tr>\n",
       "      <th>count</th>\n",
       "      <td>2.441260e+05</td>\n",
       "      <td>2.441260e+05</td>\n",
       "      <td>244126.000000</td>\n",
       "    </tr>\n",
       "    <tr>\n",
       "      <th>mean</th>\n",
       "      <td>4.627568e+18</td>\n",
       "      <td>1.564914e+09</td>\n",
       "      <td>247.022296</td>\n",
       "    </tr>\n",
       "    <tr>\n",
       "      <th>std</th>\n",
       "      <td>2.642425e+18</td>\n",
       "      <td>1.771343e+05</td>\n",
       "      <td>0.824434</td>\n",
       "    </tr>\n",
       "    <tr>\n",
       "      <th>min</th>\n",
       "      <td>6.888747e+15</td>\n",
       "      <td>1.564030e+09</td>\n",
       "      <td>246.000000</td>\n",
       "    </tr>\n",
       "    <tr>\n",
       "      <th>25%</th>\n",
       "      <td>2.372212e+18</td>\n",
       "      <td>1.564757e+09</td>\n",
       "      <td>246.000000</td>\n",
       "    </tr>\n",
       "    <tr>\n",
       "      <th>50%</th>\n",
       "      <td>4.623192e+18</td>\n",
       "      <td>1.564919e+09</td>\n",
       "      <td>247.000000</td>\n",
       "    </tr>\n",
       "    <tr>\n",
       "      <th>75%</th>\n",
       "      <td>6.932517e+18</td>\n",
       "      <td>1.565075e+09</td>\n",
       "      <td>248.000000</td>\n",
       "    </tr>\n",
       "    <tr>\n",
       "      <th>max</th>\n",
       "      <td>9.222603e+18</td>\n",
       "      <td>1.565213e+09</td>\n",
       "      <td>248.000000</td>\n",
       "    </tr>\n",
       "  </tbody>\n",
       "</table>\n",
       "</div>"
      ],
      "text/plain": [
       "       DeviceIDHash  EventTimestamp          ExpId\n",
       "count  2.441260e+05    2.441260e+05  244126.000000\n",
       "mean   4.627568e+18    1.564914e+09     247.022296\n",
       "std    2.642425e+18    1.771343e+05       0.824434\n",
       "min    6.888747e+15    1.564030e+09     246.000000\n",
       "25%    2.372212e+18    1.564757e+09     246.000000\n",
       "50%    4.623192e+18    1.564919e+09     247.000000\n",
       "75%    6.932517e+18    1.565075e+09     248.000000\n",
       "max    9.222603e+18    1.565213e+09     248.000000"
      ]
     },
     "execution_count": 4,
     "metadata": {},
     "output_type": "execute_result"
    }
   ],
   "source": [
    "data.head()\n",
    "data.info()\n",
    "data.describe()"
   ]
  },
  {
   "cell_type": "code",
   "execution_count": 5,
   "metadata": {},
   "outputs": [],
   "source": [
    "# Cambiar el nombre de las columnas para facilitar su manipulación.\n",
    "\n",
    "data.columns = ['evento', 'userId', 'fechahr', 'expId']"
   ]
  },
  {
   "cell_type": "code",
   "execution_count": 6,
   "metadata": {},
   "outputs": [],
   "source": [
    "# Cambiar el formato de la columna 'fechahr' a datetime.\n",
    "\n",
    "data['fechahr'] = pd.to_datetime(data['fechahr'], unit = 's') "
   ]
  },
  {
   "cell_type": "code",
   "execution_count": 7,
   "metadata": {},
   "outputs": [],
   "source": [
    "# Crear una nueva columna 'fecha' con la fecha sin la hora.\n",
    "\n",
    "data['fecha'] = data['fechahr'].dt.date\n",
    "data['fecha'] = pd.to_datetime(data['fecha'])"
   ]
  },
  {
   "cell_type": "code",
   "execution_count": 8,
   "metadata": {},
   "outputs": [
    {
     "name": "stdout",
     "output_type": "stream",
     "text": [
      "<class 'pandas.core.frame.DataFrame'>\n",
      "RangeIndex: 244126 entries, 0 to 244125\n",
      "Data columns (total 5 columns):\n",
      " #   Column   Non-Null Count   Dtype         \n",
      "---  ------   --------------   -----         \n",
      " 0   evento   244126 non-null  object        \n",
      " 1   userId   244126 non-null  int64         \n",
      " 2   fechahr  244126 non-null  datetime64[ns]\n",
      " 3   expId    244126 non-null  int64         \n",
      " 4   fecha    244126 non-null  datetime64[ns]\n",
      "dtypes: datetime64[ns](2), int64(2), object(1)\n",
      "memory usage: 9.3+ MB\n"
     ]
    }
   ],
   "source": [
    "# Impresión de los primeros 5 registros del DataFrame.\n",
    "\n",
    "data.head()\n",
    "data.info()"
   ]
  },
  {
   "cell_type": "code",
   "execution_count": 9,
   "metadata": {},
   "outputs": [
    {
     "data": {
      "text/plain": [
       "evento     0\n",
       "userId     0\n",
       "fechahr    0\n",
       "expId      0\n",
       "fecha      0\n",
       "dtype: int64"
      ]
     },
     "execution_count": 9,
     "metadata": {},
     "output_type": "execute_result"
    }
   ],
   "source": [
    "# Buscar valores nulos en el DataFrame.\n",
    "\n",
    "data.isna().sum()"
   ]
  },
  {
   "cell_type": "code",
   "execution_count": 10,
   "metadata": {},
   "outputs": [
    {
     "name": "stdout",
     "output_type": "stream",
     "text": [
      "                evento               userId             fechahr  expId  \\\n",
      "453   MainScreenAppear  5613408041324010552 2019-07-30 08:19:44    248   \n",
      "2350  CartScreenAppear  1694940645335807244 2019-07-31 21:51:39    248   \n",
      "3573  MainScreenAppear   434103746454591587 2019-08-01 02:59:37    248   \n",
      "4076  MainScreenAppear  3761373764179762633 2019-08-01 03:47:46    247   \n",
      "4803  MainScreenAppear  2835328739789306622 2019-08-01 04:44:01    248   \n",
      "\n",
      "          fecha  \n",
      "453  2019-07-30  \n",
      "2350 2019-07-31  \n",
      "3573 2019-08-01  \n",
      "4076 2019-08-01  \n",
      "4803 2019-08-01  \n",
      "Número de filas duplicadas: 413\n"
     ]
    }
   ],
   "source": [
    "# Buscar valores duplicados en el DataFrame.\n",
    "\n",
    "print(data[data.duplicated()].head())\n",
    "print(f\"Número de filas duplicadas:\", data.duplicated().sum())"
   ]
  },
  {
   "cell_type": "code",
   "execution_count": 11,
   "metadata": {},
   "outputs": [],
   "source": [
    "# Eliminar los valores duplicados del DataFrame.\n",
    "\n",
    "datos = data.copy()"
   ]
  },
  {
   "cell_type": "code",
   "execution_count": 12,
   "metadata": {},
   "outputs": [
    {
     "name": "stdout",
     "output_type": "stream",
     "text": [
      "<class 'pandas.core.frame.DataFrame'>\n",
      "Index: 243713 entries, 0 to 244125\n",
      "Data columns (total 5 columns):\n",
      " #   Column   Non-Null Count   Dtype         \n",
      "---  ------   --------------   -----         \n",
      " 0   evento   243713 non-null  object        \n",
      " 1   userId   243713 non-null  int64         \n",
      " 2   fechahr  243713 non-null  datetime64[ns]\n",
      " 3   expId    243713 non-null  int64         \n",
      " 4   fecha    243713 non-null  datetime64[ns]\n",
      "dtypes: datetime64[ns](2), int64(2), object(1)\n",
      "memory usage: 11.2+ MB\n",
      "None\n"
     ]
    }
   ],
   "source": [
    "datos.drop_duplicates(inplace = True)\n",
    "print(datos.info())"
   ]
  },
  {
   "cell_type": "markdown",
   "metadata": {},
   "source": [
    "Paso 3. Estudiar y comprobar los datos\n"
   ]
  },
  {
   "cell_type": "code",
   "execution_count": 13,
   "metadata": {},
   "outputs": [
    {
     "data": {
      "text/html": [
       "<div>\n",
       "<style scoped>\n",
       "    .dataframe tbody tr th:only-of-type {\n",
       "        vertical-align: middle;\n",
       "    }\n",
       "\n",
       "    .dataframe tbody tr th {\n",
       "        vertical-align: top;\n",
       "    }\n",
       "\n",
       "    .dataframe thead th {\n",
       "        text-align: right;\n",
       "    }\n",
       "</style>\n",
       "<table border=\"1\" class=\"dataframe\">\n",
       "  <thead>\n",
       "    <tr style=\"text-align: right;\">\n",
       "      <th></th>\n",
       "      <th>evento</th>\n",
       "      <th>total</th>\n",
       "      <th>porcentaje</th>\n",
       "    </tr>\n",
       "  </thead>\n",
       "  <tbody>\n",
       "    <tr>\n",
       "      <th>0</th>\n",
       "      <td>MainScreenAppear</td>\n",
       "      <td>119101</td>\n",
       "      <td>0.488694</td>\n",
       "    </tr>\n",
       "    <tr>\n",
       "      <th>1</th>\n",
       "      <td>OffersScreenAppear</td>\n",
       "      <td>46808</td>\n",
       "      <td>0.192062</td>\n",
       "    </tr>\n",
       "    <tr>\n",
       "      <th>2</th>\n",
       "      <td>CartScreenAppear</td>\n",
       "      <td>42668</td>\n",
       "      <td>0.175075</td>\n",
       "    </tr>\n",
       "    <tr>\n",
       "      <th>3</th>\n",
       "      <td>PaymentScreenSuccessful</td>\n",
       "      <td>34118</td>\n",
       "      <td>0.139993</td>\n",
       "    </tr>\n",
       "    <tr>\n",
       "      <th>4</th>\n",
       "      <td>Tutorial</td>\n",
       "      <td>1018</td>\n",
       "      <td>0.004177</td>\n",
       "    </tr>\n",
       "  </tbody>\n",
       "</table>\n",
       "</div>"
      ],
      "text/plain": [
       "                    evento   total  porcentaje\n",
       "0         MainScreenAppear  119101    0.488694\n",
       "1       OffersScreenAppear   46808    0.192062\n",
       "2         CartScreenAppear   42668    0.175075\n",
       "3  PaymentScreenSuccessful   34118    0.139993\n",
       "4                 Tutorial    1018    0.004177"
      ]
     },
     "execution_count": 13,
     "metadata": {},
     "output_type": "execute_result"
    }
   ],
   "source": [
    "# ¿Cuántos eventos hay en los registros?\n",
    "\n",
    "total_eventos = datos['evento'].count()\n",
    "total_eventos\n",
    "embudo = datos['evento'].value_counts().reset_index()\n",
    "embudo.columns = ['evento', 'total']\n",
    "embudo['porcentaje'] = embudo['total'] / total_eventos\n",
    "embudo"
   ]
  },
  {
   "cell_type": "code",
   "execution_count": 14,
   "metadata": {},
   "outputs": [
    {
     "data": {
      "application/vnd.plotly.v1+json": {
       "config": {
        "plotlyServerURL": "https://plot.ly"
       },
       "data": [
        {
         "hovertemplate": "total=%{x}<br>evento=%{y}<extra></extra>",
         "legendgroup": "",
         "marker": {
          "color": [
           "gold",
           "mediumturquoise",
           "darkorange",
           "lightgreen",
           "red"
          ],
          "line": {
           "color": "lightgray",
           "width": 2
          }
         },
         "name": "",
         "orientation": "h",
         "showlegend": false,
         "type": "funnel",
         "x": [
          119101,
          46808,
          42668,
          34118,
          1018
         ],
         "xaxis": "x",
         "y": [
          "MainScreenAppear",
          "OffersScreenAppear",
          "CartScreenAppear",
          "PaymentScreenSuccessful",
          "Tutorial"
         ],
         "yaxis": "y"
        }
       ],
       "layout": {
        "font": {
         "color": "white"
        },
        "legend": {
         "tracegroupgap": 0
        },
        "paper_bgcolor": "black",
        "plot_bgcolor": "black",
        "template": {
         "data": {
          "bar": [
           {
            "error_x": {
             "color": "#2a3f5f"
            },
            "error_y": {
             "color": "#2a3f5f"
            },
            "marker": {
             "line": {
              "color": "#E5ECF6",
              "width": 0.5
             },
             "pattern": {
              "fillmode": "overlay",
              "size": 10,
              "solidity": 0.2
             }
            },
            "type": "bar"
           }
          ],
          "barpolar": [
           {
            "marker": {
             "line": {
              "color": "#E5ECF6",
              "width": 0.5
             },
             "pattern": {
              "fillmode": "overlay",
              "size": 10,
              "solidity": 0.2
             }
            },
            "type": "barpolar"
           }
          ],
          "carpet": [
           {
            "aaxis": {
             "endlinecolor": "#2a3f5f",
             "gridcolor": "white",
             "linecolor": "white",
             "minorgridcolor": "white",
             "startlinecolor": "#2a3f5f"
            },
            "baxis": {
             "endlinecolor": "#2a3f5f",
             "gridcolor": "white",
             "linecolor": "white",
             "minorgridcolor": "white",
             "startlinecolor": "#2a3f5f"
            },
            "type": "carpet"
           }
          ],
          "choropleth": [
           {
            "colorbar": {
             "outlinewidth": 0,
             "ticks": ""
            },
            "type": "choropleth"
           }
          ],
          "contour": [
           {
            "colorbar": {
             "outlinewidth": 0,
             "ticks": ""
            },
            "colorscale": [
             [
              0,
              "#0d0887"
             ],
             [
              0.1111111111111111,
              "#46039f"
             ],
             [
              0.2222222222222222,
              "#7201a8"
             ],
             [
              0.3333333333333333,
              "#9c179e"
             ],
             [
              0.4444444444444444,
              "#bd3786"
             ],
             [
              0.5555555555555556,
              "#d8576b"
             ],
             [
              0.6666666666666666,
              "#ed7953"
             ],
             [
              0.7777777777777778,
              "#fb9f3a"
             ],
             [
              0.8888888888888888,
              "#fdca26"
             ],
             [
              1,
              "#f0f921"
             ]
            ],
            "type": "contour"
           }
          ],
          "contourcarpet": [
           {
            "colorbar": {
             "outlinewidth": 0,
             "ticks": ""
            },
            "type": "contourcarpet"
           }
          ],
          "heatmap": [
           {
            "colorbar": {
             "outlinewidth": 0,
             "ticks": ""
            },
            "colorscale": [
             [
              0,
              "#0d0887"
             ],
             [
              0.1111111111111111,
              "#46039f"
             ],
             [
              0.2222222222222222,
              "#7201a8"
             ],
             [
              0.3333333333333333,
              "#9c179e"
             ],
             [
              0.4444444444444444,
              "#bd3786"
             ],
             [
              0.5555555555555556,
              "#d8576b"
             ],
             [
              0.6666666666666666,
              "#ed7953"
             ],
             [
              0.7777777777777778,
              "#fb9f3a"
             ],
             [
              0.8888888888888888,
              "#fdca26"
             ],
             [
              1,
              "#f0f921"
             ]
            ],
            "type": "heatmap"
           }
          ],
          "heatmapgl": [
           {
            "colorbar": {
             "outlinewidth": 0,
             "ticks": ""
            },
            "colorscale": [
             [
              0,
              "#0d0887"
             ],
             [
              0.1111111111111111,
              "#46039f"
             ],
             [
              0.2222222222222222,
              "#7201a8"
             ],
             [
              0.3333333333333333,
              "#9c179e"
             ],
             [
              0.4444444444444444,
              "#bd3786"
             ],
             [
              0.5555555555555556,
              "#d8576b"
             ],
             [
              0.6666666666666666,
              "#ed7953"
             ],
             [
              0.7777777777777778,
              "#fb9f3a"
             ],
             [
              0.8888888888888888,
              "#fdca26"
             ],
             [
              1,
              "#f0f921"
             ]
            ],
            "type": "heatmapgl"
           }
          ],
          "histogram": [
           {
            "marker": {
             "pattern": {
              "fillmode": "overlay",
              "size": 10,
              "solidity": 0.2
             }
            },
            "type": "histogram"
           }
          ],
          "histogram2d": [
           {
            "colorbar": {
             "outlinewidth": 0,
             "ticks": ""
            },
            "colorscale": [
             [
              0,
              "#0d0887"
             ],
             [
              0.1111111111111111,
              "#46039f"
             ],
             [
              0.2222222222222222,
              "#7201a8"
             ],
             [
              0.3333333333333333,
              "#9c179e"
             ],
             [
              0.4444444444444444,
              "#bd3786"
             ],
             [
              0.5555555555555556,
              "#d8576b"
             ],
             [
              0.6666666666666666,
              "#ed7953"
             ],
             [
              0.7777777777777778,
              "#fb9f3a"
             ],
             [
              0.8888888888888888,
              "#fdca26"
             ],
             [
              1,
              "#f0f921"
             ]
            ],
            "type": "histogram2d"
           }
          ],
          "histogram2dcontour": [
           {
            "colorbar": {
             "outlinewidth": 0,
             "ticks": ""
            },
            "colorscale": [
             [
              0,
              "#0d0887"
             ],
             [
              0.1111111111111111,
              "#46039f"
             ],
             [
              0.2222222222222222,
              "#7201a8"
             ],
             [
              0.3333333333333333,
              "#9c179e"
             ],
             [
              0.4444444444444444,
              "#bd3786"
             ],
             [
              0.5555555555555556,
              "#d8576b"
             ],
             [
              0.6666666666666666,
              "#ed7953"
             ],
             [
              0.7777777777777778,
              "#fb9f3a"
             ],
             [
              0.8888888888888888,
              "#fdca26"
             ],
             [
              1,
              "#f0f921"
             ]
            ],
            "type": "histogram2dcontour"
           }
          ],
          "mesh3d": [
           {
            "colorbar": {
             "outlinewidth": 0,
             "ticks": ""
            },
            "type": "mesh3d"
           }
          ],
          "parcoords": [
           {
            "line": {
             "colorbar": {
              "outlinewidth": 0,
              "ticks": ""
             }
            },
            "type": "parcoords"
           }
          ],
          "pie": [
           {
            "automargin": true,
            "type": "pie"
           }
          ],
          "scatter": [
           {
            "fillpattern": {
             "fillmode": "overlay",
             "size": 10,
             "solidity": 0.2
            },
            "type": "scatter"
           }
          ],
          "scatter3d": [
           {
            "line": {
             "colorbar": {
              "outlinewidth": 0,
              "ticks": ""
             }
            },
            "marker": {
             "colorbar": {
              "outlinewidth": 0,
              "ticks": ""
             }
            },
            "type": "scatter3d"
           }
          ],
          "scattercarpet": [
           {
            "marker": {
             "colorbar": {
              "outlinewidth": 0,
              "ticks": ""
             }
            },
            "type": "scattercarpet"
           }
          ],
          "scattergeo": [
           {
            "marker": {
             "colorbar": {
              "outlinewidth": 0,
              "ticks": ""
             }
            },
            "type": "scattergeo"
           }
          ],
          "scattergl": [
           {
            "marker": {
             "colorbar": {
              "outlinewidth": 0,
              "ticks": ""
             }
            },
            "type": "scattergl"
           }
          ],
          "scattermapbox": [
           {
            "marker": {
             "colorbar": {
              "outlinewidth": 0,
              "ticks": ""
             }
            },
            "type": "scattermapbox"
           }
          ],
          "scatterpolar": [
           {
            "marker": {
             "colorbar": {
              "outlinewidth": 0,
              "ticks": ""
             }
            },
            "type": "scatterpolar"
           }
          ],
          "scatterpolargl": [
           {
            "marker": {
             "colorbar": {
              "outlinewidth": 0,
              "ticks": ""
             }
            },
            "type": "scatterpolargl"
           }
          ],
          "scatterternary": [
           {
            "marker": {
             "colorbar": {
              "outlinewidth": 0,
              "ticks": ""
             }
            },
            "type": "scatterternary"
           }
          ],
          "surface": [
           {
            "colorbar": {
             "outlinewidth": 0,
             "ticks": ""
            },
            "colorscale": [
             [
              0,
              "#0d0887"
             ],
             [
              0.1111111111111111,
              "#46039f"
             ],
             [
              0.2222222222222222,
              "#7201a8"
             ],
             [
              0.3333333333333333,
              "#9c179e"
             ],
             [
              0.4444444444444444,
              "#bd3786"
             ],
             [
              0.5555555555555556,
              "#d8576b"
             ],
             [
              0.6666666666666666,
              "#ed7953"
             ],
             [
              0.7777777777777778,
              "#fb9f3a"
             ],
             [
              0.8888888888888888,
              "#fdca26"
             ],
             [
              1,
              "#f0f921"
             ]
            ],
            "type": "surface"
           }
          ],
          "table": [
           {
            "cells": {
             "fill": {
              "color": "#EBF0F8"
             },
             "line": {
              "color": "white"
             }
            },
            "header": {
             "fill": {
              "color": "#C8D4E3"
             },
             "line": {
              "color": "white"
             }
            },
            "type": "table"
           }
          ]
         },
         "layout": {
          "annotationdefaults": {
           "arrowcolor": "#2a3f5f",
           "arrowhead": 0,
           "arrowwidth": 1
          },
          "autotypenumbers": "strict",
          "coloraxis": {
           "colorbar": {
            "outlinewidth": 0,
            "ticks": ""
           }
          },
          "colorscale": {
           "diverging": [
            [
             0,
             "#8e0152"
            ],
            [
             0.1,
             "#c51b7d"
            ],
            [
             0.2,
             "#de77ae"
            ],
            [
             0.3,
             "#f1b6da"
            ],
            [
             0.4,
             "#fde0ef"
            ],
            [
             0.5,
             "#f7f7f7"
            ],
            [
             0.6,
             "#e6f5d0"
            ],
            [
             0.7,
             "#b8e186"
            ],
            [
             0.8,
             "#7fbc41"
            ],
            [
             0.9,
             "#4d9221"
            ],
            [
             1,
             "#276419"
            ]
           ],
           "sequential": [
            [
             0,
             "#0d0887"
            ],
            [
             0.1111111111111111,
             "#46039f"
            ],
            [
             0.2222222222222222,
             "#7201a8"
            ],
            [
             0.3333333333333333,
             "#9c179e"
            ],
            [
             0.4444444444444444,
             "#bd3786"
            ],
            [
             0.5555555555555556,
             "#d8576b"
            ],
            [
             0.6666666666666666,
             "#ed7953"
            ],
            [
             0.7777777777777778,
             "#fb9f3a"
            ],
            [
             0.8888888888888888,
             "#fdca26"
            ],
            [
             1,
             "#f0f921"
            ]
           ],
           "sequentialminus": [
            [
             0,
             "#0d0887"
            ],
            [
             0.1111111111111111,
             "#46039f"
            ],
            [
             0.2222222222222222,
             "#7201a8"
            ],
            [
             0.3333333333333333,
             "#9c179e"
            ],
            [
             0.4444444444444444,
             "#bd3786"
            ],
            [
             0.5555555555555556,
             "#d8576b"
            ],
            [
             0.6666666666666666,
             "#ed7953"
            ],
            [
             0.7777777777777778,
             "#fb9f3a"
            ],
            [
             0.8888888888888888,
             "#fdca26"
            ],
            [
             1,
             "#f0f921"
            ]
           ]
          },
          "colorway": [
           "#636efa",
           "#EF553B",
           "#00cc96",
           "#ab63fa",
           "#FFA15A",
           "#19d3f3",
           "#FF6692",
           "#B6E880",
           "#FF97FF",
           "#FECB52"
          ],
          "font": {
           "color": "#2a3f5f"
          },
          "geo": {
           "bgcolor": "white",
           "lakecolor": "white",
           "landcolor": "#E5ECF6",
           "showlakes": true,
           "showland": true,
           "subunitcolor": "white"
          },
          "hoverlabel": {
           "align": "left"
          },
          "hovermode": "closest",
          "mapbox": {
           "style": "light"
          },
          "paper_bgcolor": "white",
          "plot_bgcolor": "#E5ECF6",
          "polar": {
           "angularaxis": {
            "gridcolor": "white",
            "linecolor": "white",
            "ticks": ""
           },
           "bgcolor": "#E5ECF6",
           "radialaxis": {
            "gridcolor": "white",
            "linecolor": "white",
            "ticks": ""
           }
          },
          "scene": {
           "xaxis": {
            "backgroundcolor": "#E5ECF6",
            "gridcolor": "white",
            "gridwidth": 2,
            "linecolor": "white",
            "showbackground": true,
            "ticks": "",
            "zerolinecolor": "white"
           },
           "yaxis": {
            "backgroundcolor": "#E5ECF6",
            "gridcolor": "white",
            "gridwidth": 2,
            "linecolor": "white",
            "showbackground": true,
            "ticks": "",
            "zerolinecolor": "white"
           },
           "zaxis": {
            "backgroundcolor": "#E5ECF6",
            "gridcolor": "white",
            "gridwidth": 2,
            "linecolor": "white",
            "showbackground": true,
            "ticks": "",
            "zerolinecolor": "white"
           }
          },
          "shapedefaults": {
           "line": {
            "color": "#2a3f5f"
           }
          },
          "ternary": {
           "aaxis": {
            "gridcolor": "white",
            "linecolor": "white",
            "ticks": ""
           },
           "baxis": {
            "gridcolor": "white",
            "linecolor": "white",
            "ticks": ""
           },
           "bgcolor": "#E5ECF6",
           "caxis": {
            "gridcolor": "white",
            "linecolor": "white",
            "ticks": ""
           }
          },
          "title": {
           "x": 0.05
          },
          "xaxis": {
           "automargin": true,
           "gridcolor": "white",
           "linecolor": "white",
           "ticks": "",
           "title": {
            "standoff": 15
           },
           "zerolinecolor": "white",
           "zerolinewidth": 2
          },
          "yaxis": {
           "automargin": true,
           "gridcolor": "white",
           "linecolor": "white",
           "ticks": "",
           "title": {
            "standoff": 15
           },
           "zerolinecolor": "white",
           "zerolinewidth": 2
          }
         }
        },
        "title": {
         "text": "Embudo de eventos"
        },
        "xaxis": {
         "anchor": "y",
         "domain": [
          0,
          1
         ],
         "title": {
          "text": "total"
         }
        },
        "yaxis": {
         "anchor": "x",
         "domain": [
          0,
          1
         ],
         "title": {
          "text": "evento"
         }
        }
       }
      }
     },
     "metadata": {},
     "output_type": "display_data"
    }
   ],
   "source": [
    "fig = px.funnel(embudo, \n",
    "    x = 'total', \n",
    "    y = 'evento',\n",
    "    title = 'Embudo de eventos',\n",
    "    labels = {'index': 'evento', 'value': 'Número de eventos'}\n",
    ")\n",
    "\n",
    "colors = ['gold', 'mediumturquoise', 'darkorange', 'lightgreen', 'red']\n",
    "fig.data[0].marker.color = colors[:len(fig.data[0].y)]\n",
    "fig.data[0].marker.line.width = 2\n",
    "fig.data[0].marker.line.color = 'lightgray'\n",
    "\n",
    "fig.update_layout(\n",
    "    paper_bgcolor = 'black',\n",
    "    plot_bgcolor = 'black',\n",
    "    font_color = 'white')"
   ]
  },
  {
   "cell_type": "code",
   "execution_count": 15,
   "metadata": {},
   "outputs": [
    {
     "name": "stdout",
     "output_type": "stream",
     "text": [
      "Usuarios únicos: 7551\n"
     ]
    }
   ],
   "source": [
    "# ¿Cuántos usuarios hay en los registros?\n",
    "\n",
    "usuariosUnicos = datos['userId'].nunique()\n",
    "print(f\"Usuarios únicos:\", usuariosUnicos)"
   ]
  },
  {
   "cell_type": "code",
   "execution_count": 16,
   "metadata": {},
   "outputs": [],
   "source": [
    "# Número de usuarios por evento.\n",
    "\n",
    "usuariosUnicosPorEvento = datos.groupby('evento')['userId'].nunique().reset_index().sort_values(by = 'userId', ascending = False)"
   ]
  },
  {
   "cell_type": "code",
   "execution_count": 17,
   "metadata": {},
   "outputs": [
    {
     "data": {
      "application/vnd.plotly.v1+json": {
       "config": {
        "plotlyServerURL": "https://plot.ly"
       },
       "data": [
        {
         "hovertemplate": "userId=%{x}<br>evento=%{y}<extra></extra>",
         "legendgroup": "",
         "marker": {
          "color": [
           "blue",
           "green",
           "red",
           "purple",
           "orange"
          ],
          "line": {
           "color": "lightgray",
           "width": 2
          }
         },
         "name": "",
         "orientation": "h",
         "showlegend": false,
         "type": "funnel",
         "x": [
          7439,
          4613,
          3749,
          3547,
          847
         ],
         "xaxis": "x",
         "y": [
          "MainScreenAppear",
          "OffersScreenAppear",
          "CartScreenAppear",
          "PaymentScreenSuccessful",
          "Tutorial"
         ],
         "yaxis": "y"
        }
       ],
       "layout": {
        "font": {
         "color": "white"
        },
        "legend": {
         "tracegroupgap": 0
        },
        "paper_bgcolor": "black",
        "plot_bgcolor": "black",
        "template": {
         "data": {
          "bar": [
           {
            "error_x": {
             "color": "#2a3f5f"
            },
            "error_y": {
             "color": "#2a3f5f"
            },
            "marker": {
             "line": {
              "color": "#E5ECF6",
              "width": 0.5
             },
             "pattern": {
              "fillmode": "overlay",
              "size": 10,
              "solidity": 0.2
             }
            },
            "type": "bar"
           }
          ],
          "barpolar": [
           {
            "marker": {
             "line": {
              "color": "#E5ECF6",
              "width": 0.5
             },
             "pattern": {
              "fillmode": "overlay",
              "size": 10,
              "solidity": 0.2
             }
            },
            "type": "barpolar"
           }
          ],
          "carpet": [
           {
            "aaxis": {
             "endlinecolor": "#2a3f5f",
             "gridcolor": "white",
             "linecolor": "white",
             "minorgridcolor": "white",
             "startlinecolor": "#2a3f5f"
            },
            "baxis": {
             "endlinecolor": "#2a3f5f",
             "gridcolor": "white",
             "linecolor": "white",
             "minorgridcolor": "white",
             "startlinecolor": "#2a3f5f"
            },
            "type": "carpet"
           }
          ],
          "choropleth": [
           {
            "colorbar": {
             "outlinewidth": 0,
             "ticks": ""
            },
            "type": "choropleth"
           }
          ],
          "contour": [
           {
            "colorbar": {
             "outlinewidth": 0,
             "ticks": ""
            },
            "colorscale": [
             [
              0,
              "#0d0887"
             ],
             [
              0.1111111111111111,
              "#46039f"
             ],
             [
              0.2222222222222222,
              "#7201a8"
             ],
             [
              0.3333333333333333,
              "#9c179e"
             ],
             [
              0.4444444444444444,
              "#bd3786"
             ],
             [
              0.5555555555555556,
              "#d8576b"
             ],
             [
              0.6666666666666666,
              "#ed7953"
             ],
             [
              0.7777777777777778,
              "#fb9f3a"
             ],
             [
              0.8888888888888888,
              "#fdca26"
             ],
             [
              1,
              "#f0f921"
             ]
            ],
            "type": "contour"
           }
          ],
          "contourcarpet": [
           {
            "colorbar": {
             "outlinewidth": 0,
             "ticks": ""
            },
            "type": "contourcarpet"
           }
          ],
          "heatmap": [
           {
            "colorbar": {
             "outlinewidth": 0,
             "ticks": ""
            },
            "colorscale": [
             [
              0,
              "#0d0887"
             ],
             [
              0.1111111111111111,
              "#46039f"
             ],
             [
              0.2222222222222222,
              "#7201a8"
             ],
             [
              0.3333333333333333,
              "#9c179e"
             ],
             [
              0.4444444444444444,
              "#bd3786"
             ],
             [
              0.5555555555555556,
              "#d8576b"
             ],
             [
              0.6666666666666666,
              "#ed7953"
             ],
             [
              0.7777777777777778,
              "#fb9f3a"
             ],
             [
              0.8888888888888888,
              "#fdca26"
             ],
             [
              1,
              "#f0f921"
             ]
            ],
            "type": "heatmap"
           }
          ],
          "heatmapgl": [
           {
            "colorbar": {
             "outlinewidth": 0,
             "ticks": ""
            },
            "colorscale": [
             [
              0,
              "#0d0887"
             ],
             [
              0.1111111111111111,
              "#46039f"
             ],
             [
              0.2222222222222222,
              "#7201a8"
             ],
             [
              0.3333333333333333,
              "#9c179e"
             ],
             [
              0.4444444444444444,
              "#bd3786"
             ],
             [
              0.5555555555555556,
              "#d8576b"
             ],
             [
              0.6666666666666666,
              "#ed7953"
             ],
             [
              0.7777777777777778,
              "#fb9f3a"
             ],
             [
              0.8888888888888888,
              "#fdca26"
             ],
             [
              1,
              "#f0f921"
             ]
            ],
            "type": "heatmapgl"
           }
          ],
          "histogram": [
           {
            "marker": {
             "pattern": {
              "fillmode": "overlay",
              "size": 10,
              "solidity": 0.2
             }
            },
            "type": "histogram"
           }
          ],
          "histogram2d": [
           {
            "colorbar": {
             "outlinewidth": 0,
             "ticks": ""
            },
            "colorscale": [
             [
              0,
              "#0d0887"
             ],
             [
              0.1111111111111111,
              "#46039f"
             ],
             [
              0.2222222222222222,
              "#7201a8"
             ],
             [
              0.3333333333333333,
              "#9c179e"
             ],
             [
              0.4444444444444444,
              "#bd3786"
             ],
             [
              0.5555555555555556,
              "#d8576b"
             ],
             [
              0.6666666666666666,
              "#ed7953"
             ],
             [
              0.7777777777777778,
              "#fb9f3a"
             ],
             [
              0.8888888888888888,
              "#fdca26"
             ],
             [
              1,
              "#f0f921"
             ]
            ],
            "type": "histogram2d"
           }
          ],
          "histogram2dcontour": [
           {
            "colorbar": {
             "outlinewidth": 0,
             "ticks": ""
            },
            "colorscale": [
             [
              0,
              "#0d0887"
             ],
             [
              0.1111111111111111,
              "#46039f"
             ],
             [
              0.2222222222222222,
              "#7201a8"
             ],
             [
              0.3333333333333333,
              "#9c179e"
             ],
             [
              0.4444444444444444,
              "#bd3786"
             ],
             [
              0.5555555555555556,
              "#d8576b"
             ],
             [
              0.6666666666666666,
              "#ed7953"
             ],
             [
              0.7777777777777778,
              "#fb9f3a"
             ],
             [
              0.8888888888888888,
              "#fdca26"
             ],
             [
              1,
              "#f0f921"
             ]
            ],
            "type": "histogram2dcontour"
           }
          ],
          "mesh3d": [
           {
            "colorbar": {
             "outlinewidth": 0,
             "ticks": ""
            },
            "type": "mesh3d"
           }
          ],
          "parcoords": [
           {
            "line": {
             "colorbar": {
              "outlinewidth": 0,
              "ticks": ""
             }
            },
            "type": "parcoords"
           }
          ],
          "pie": [
           {
            "automargin": true,
            "type": "pie"
           }
          ],
          "scatter": [
           {
            "fillpattern": {
             "fillmode": "overlay",
             "size": 10,
             "solidity": 0.2
            },
            "type": "scatter"
           }
          ],
          "scatter3d": [
           {
            "line": {
             "colorbar": {
              "outlinewidth": 0,
              "ticks": ""
             }
            },
            "marker": {
             "colorbar": {
              "outlinewidth": 0,
              "ticks": ""
             }
            },
            "type": "scatter3d"
           }
          ],
          "scattercarpet": [
           {
            "marker": {
             "colorbar": {
              "outlinewidth": 0,
              "ticks": ""
             }
            },
            "type": "scattercarpet"
           }
          ],
          "scattergeo": [
           {
            "marker": {
             "colorbar": {
              "outlinewidth": 0,
              "ticks": ""
             }
            },
            "type": "scattergeo"
           }
          ],
          "scattergl": [
           {
            "marker": {
             "colorbar": {
              "outlinewidth": 0,
              "ticks": ""
             }
            },
            "type": "scattergl"
           }
          ],
          "scattermapbox": [
           {
            "marker": {
             "colorbar": {
              "outlinewidth": 0,
              "ticks": ""
             }
            },
            "type": "scattermapbox"
           }
          ],
          "scatterpolar": [
           {
            "marker": {
             "colorbar": {
              "outlinewidth": 0,
              "ticks": ""
             }
            },
            "type": "scatterpolar"
           }
          ],
          "scatterpolargl": [
           {
            "marker": {
             "colorbar": {
              "outlinewidth": 0,
              "ticks": ""
             }
            },
            "type": "scatterpolargl"
           }
          ],
          "scatterternary": [
           {
            "marker": {
             "colorbar": {
              "outlinewidth": 0,
              "ticks": ""
             }
            },
            "type": "scatterternary"
           }
          ],
          "surface": [
           {
            "colorbar": {
             "outlinewidth": 0,
             "ticks": ""
            },
            "colorscale": [
             [
              0,
              "#0d0887"
             ],
             [
              0.1111111111111111,
              "#46039f"
             ],
             [
              0.2222222222222222,
              "#7201a8"
             ],
             [
              0.3333333333333333,
              "#9c179e"
             ],
             [
              0.4444444444444444,
              "#bd3786"
             ],
             [
              0.5555555555555556,
              "#d8576b"
             ],
             [
              0.6666666666666666,
              "#ed7953"
             ],
             [
              0.7777777777777778,
              "#fb9f3a"
             ],
             [
              0.8888888888888888,
              "#fdca26"
             ],
             [
              1,
              "#f0f921"
             ]
            ],
            "type": "surface"
           }
          ],
          "table": [
           {
            "cells": {
             "fill": {
              "color": "#EBF0F8"
             },
             "line": {
              "color": "white"
             }
            },
            "header": {
             "fill": {
              "color": "#C8D4E3"
             },
             "line": {
              "color": "white"
             }
            },
            "type": "table"
           }
          ]
         },
         "layout": {
          "annotationdefaults": {
           "arrowcolor": "#2a3f5f",
           "arrowhead": 0,
           "arrowwidth": 1
          },
          "autotypenumbers": "strict",
          "coloraxis": {
           "colorbar": {
            "outlinewidth": 0,
            "ticks": ""
           }
          },
          "colorscale": {
           "diverging": [
            [
             0,
             "#8e0152"
            ],
            [
             0.1,
             "#c51b7d"
            ],
            [
             0.2,
             "#de77ae"
            ],
            [
             0.3,
             "#f1b6da"
            ],
            [
             0.4,
             "#fde0ef"
            ],
            [
             0.5,
             "#f7f7f7"
            ],
            [
             0.6,
             "#e6f5d0"
            ],
            [
             0.7,
             "#b8e186"
            ],
            [
             0.8,
             "#7fbc41"
            ],
            [
             0.9,
             "#4d9221"
            ],
            [
             1,
             "#276419"
            ]
           ],
           "sequential": [
            [
             0,
             "#0d0887"
            ],
            [
             0.1111111111111111,
             "#46039f"
            ],
            [
             0.2222222222222222,
             "#7201a8"
            ],
            [
             0.3333333333333333,
             "#9c179e"
            ],
            [
             0.4444444444444444,
             "#bd3786"
            ],
            [
             0.5555555555555556,
             "#d8576b"
            ],
            [
             0.6666666666666666,
             "#ed7953"
            ],
            [
             0.7777777777777778,
             "#fb9f3a"
            ],
            [
             0.8888888888888888,
             "#fdca26"
            ],
            [
             1,
             "#f0f921"
            ]
           ],
           "sequentialminus": [
            [
             0,
             "#0d0887"
            ],
            [
             0.1111111111111111,
             "#46039f"
            ],
            [
             0.2222222222222222,
             "#7201a8"
            ],
            [
             0.3333333333333333,
             "#9c179e"
            ],
            [
             0.4444444444444444,
             "#bd3786"
            ],
            [
             0.5555555555555556,
             "#d8576b"
            ],
            [
             0.6666666666666666,
             "#ed7953"
            ],
            [
             0.7777777777777778,
             "#fb9f3a"
            ],
            [
             0.8888888888888888,
             "#fdca26"
            ],
            [
             1,
             "#f0f921"
            ]
           ]
          },
          "colorway": [
           "#636efa",
           "#EF553B",
           "#00cc96",
           "#ab63fa",
           "#FFA15A",
           "#19d3f3",
           "#FF6692",
           "#B6E880",
           "#FF97FF",
           "#FECB52"
          ],
          "font": {
           "color": "#2a3f5f"
          },
          "geo": {
           "bgcolor": "white",
           "lakecolor": "white",
           "landcolor": "#E5ECF6",
           "showlakes": true,
           "showland": true,
           "subunitcolor": "white"
          },
          "hoverlabel": {
           "align": "left"
          },
          "hovermode": "closest",
          "mapbox": {
           "style": "light"
          },
          "paper_bgcolor": "white",
          "plot_bgcolor": "#E5ECF6",
          "polar": {
           "angularaxis": {
            "gridcolor": "white",
            "linecolor": "white",
            "ticks": ""
           },
           "bgcolor": "#E5ECF6",
           "radialaxis": {
            "gridcolor": "white",
            "linecolor": "white",
            "ticks": ""
           }
          },
          "scene": {
           "xaxis": {
            "backgroundcolor": "#E5ECF6",
            "gridcolor": "white",
            "gridwidth": 2,
            "linecolor": "white",
            "showbackground": true,
            "ticks": "",
            "zerolinecolor": "white"
           },
           "yaxis": {
            "backgroundcolor": "#E5ECF6",
            "gridcolor": "white",
            "gridwidth": 2,
            "linecolor": "white",
            "showbackground": true,
            "ticks": "",
            "zerolinecolor": "white"
           },
           "zaxis": {
            "backgroundcolor": "#E5ECF6",
            "gridcolor": "white",
            "gridwidth": 2,
            "linecolor": "white",
            "showbackground": true,
            "ticks": "",
            "zerolinecolor": "white"
           }
          },
          "shapedefaults": {
           "line": {
            "color": "#2a3f5f"
           }
          },
          "ternary": {
           "aaxis": {
            "gridcolor": "white",
            "linecolor": "white",
            "ticks": ""
           },
           "baxis": {
            "gridcolor": "white",
            "linecolor": "white",
            "ticks": ""
           },
           "bgcolor": "#E5ECF6",
           "caxis": {
            "gridcolor": "white",
            "linecolor": "white",
            "ticks": ""
           }
          },
          "title": {
           "x": 0.05
          },
          "xaxis": {
           "automargin": true,
           "gridcolor": "white",
           "linecolor": "white",
           "ticks": "",
           "title": {
            "standoff": 15
           },
           "zerolinecolor": "white",
           "zerolinewidth": 2
          },
          "yaxis": {
           "automargin": true,
           "gridcolor": "white",
           "linecolor": "white",
           "ticks": "",
           "title": {
            "standoff": 15
           },
           "zerolinecolor": "white",
           "zerolinewidth": 2
          }
         }
        },
        "title": {
         "text": "Usuarios únicos por eventos"
        },
        "xaxis": {
         "anchor": "y",
         "domain": [
          0,
          1
         ],
         "title": {
          "text": "userId"
         }
        },
        "yaxis": {
         "anchor": "x",
         "domain": [
          0,
          1
         ],
         "title": {
          "text": "evento"
         }
        }
       }
      }
     },
     "metadata": {},
     "output_type": "display_data"
    }
   ],
   "source": [
    "fig2 = px.funnel(usuariosUnicosPorEvento, \n",
    "    x = 'userId', \n",
    "    y = 'evento',\n",
    "    title = 'Usuarios únicos por eventos',\n",
    "    labels = {'index': 'evento', 'value': 'Número de eventos'}\n",
    ")\n",
    "\n",
    "colors2 = ['blue', 'green', 'red', 'purple', 'orange']\n",
    "fig2.data[0].marker.color = colors2[: len(fig2.data[0].y)]\n",
    "fig2.data[0].marker.line.width = 2\n",
    "fig2.data[0].marker.line.color = 'lightgray'\n",
    "\n",
    "fig2.update_layout(\n",
    "    paper_bgcolor = 'black',\n",
    "    plot_bgcolor = 'black',\n",
    "    font_color = 'white')"
   ]
  },
  {
   "cell_type": "code",
   "execution_count": 18,
   "metadata": {},
   "outputs": [
    {
     "name": "stdout",
     "output_type": "stream",
     "text": [
      "Promedio de eventos por usuario: 32.28\n"
     ]
    }
   ],
   "source": [
    "# ¿Cuál es el promedio de eventos por usuario?\n",
    "\n",
    "promedio_eventos = total_eventos / usuariosUnicos\n",
    "print(f\"Promedio de eventos por usuario:\", round(promedio_eventos, 2))\n"
   ]
  },
  {
   "cell_type": "code",
   "execution_count": 19,
   "metadata": {},
   "outputs": [
    {
     "name": "stdout",
     "output_type": "stream",
     "text": [
      "2019-08-07 21:15:17\n",
      "2019-07-25 04:43:36\n"
     ]
    }
   ],
   "source": [
    "# ¿Qué periodo de tiempo cubren los datos? ¿Cuál es la fecha más antigua y la más reciente?\n",
    "\n",
    "print(datos['fechahr'].max())\n",
    "print(datos['fechahr'].min())"
   ]
  },
  {
   "cell_type": "code",
   "execution_count": 20,
   "metadata": {},
   "outputs": [
    {
     "data": {
      "image/png": "[encoded data removed]",
      "text/plain": [
       "<Figure size 1000x600 with 1 Axes>"
      ]
     },
     "metadata": {},
     "output_type": "display_data"
    }
   ],
   "source": [
    "# ¿Cuántos días de datos tenemos?\n",
    "\n",
    "plt.figure(figsize = (10, 6))\n",
    "datos['fechahr'].hist(bins = 200, color = 'skyblue')\n",
    "plt.title('Distribución de eventos por fecha y hora')\n",
    "plt.xlabel('Fecha y hora')\n",
    "plt.ylabel('Número de eventos')\n",
    "plt.xticks(rotation = 45)\n",
    "plt.show()"
   ]
  },
  {
   "cell_type": "code",
   "execution_count": 21,
   "metadata": {
    "scrolled": false
   },
   "outputs": [
    {
     "data": {
      "image/png": "[encoded data removed]",
      "text/plain": [
       "<Figure size 1000x600 with 1 Axes>"
      ]
     },
     "metadata": {},
     "output_type": "display_data"
    }
   ],
   "source": [
    "# ¿Cómo se ven los datos atípicos en la distribución de eventos por fecha y hora?\n",
    "\n",
    "plt.figure(figsize = (10, 6))\n",
    "sns.boxplot(x = datos['fechahr'].astype('int'), data = datos, color = 'orange')\n",
    "plt.title('Distribución de eventos por fecha y hora')\n",
    "plt.ylabel('Fecha y hora')\n",
    "plt.xticks(rotation = 45)\n",
    "plt.show()"
   ]
  },
  {
   "cell_type": "code",
   "execution_count": 22,
   "metadata": {},
   "outputs": [],
   "source": [
    "# Se eliminan los datos atípicos de la distribución de eventos por fecha y hora, a paritir del mes de agosto.\n",
    "\n",
    "agosto = datos[datos['fecha'] > pd.to_datetime('2019-07-31')]"
   ]
  },
  {
   "cell_type": "code",
   "execution_count": 23,
   "metadata": {},
   "outputs": [
    {
     "data": {
      "text/html": [
       "<div>\n",
       "<style scoped>\n",
       "    .dataframe tbody tr th:only-of-type {\n",
       "        vertical-align: middle;\n",
       "    }\n",
       "\n",
       "    .dataframe tbody tr th {\n",
       "        vertical-align: top;\n",
       "    }\n",
       "\n",
       "    .dataframe thead th {\n",
       "        text-align: right;\n",
       "    }\n",
       "</style>\n",
       "<table border=\"1\" class=\"dataframe\">\n",
       "  <thead>\n",
       "    <tr style=\"text-align: right;\">\n",
       "      <th></th>\n",
       "      <th>evento</th>\n",
       "      <th>userId</th>\n",
       "      <th>fechahr</th>\n",
       "      <th>expId</th>\n",
       "      <th>fecha</th>\n",
       "    </tr>\n",
       "  </thead>\n",
       "  <tbody>\n",
       "    <tr>\n",
       "      <th>2828</th>\n",
       "      <td>Tutorial</td>\n",
       "      <td>3737462046622621720</td>\n",
       "      <td>2019-08-01 00:07:28</td>\n",
       "      <td>246</td>\n",
       "      <td>2019-08-01</td>\n",
       "    </tr>\n",
       "    <tr>\n",
       "      <th>2829</th>\n",
       "      <td>MainScreenAppear</td>\n",
       "      <td>3737462046622621720</td>\n",
       "      <td>2019-08-01 00:08:00</td>\n",
       "      <td>246</td>\n",
       "      <td>2019-08-01</td>\n",
       "    </tr>\n",
       "    <tr>\n",
       "      <th>2830</th>\n",
       "      <td>MainScreenAppear</td>\n",
       "      <td>3737462046622621720</td>\n",
       "      <td>2019-08-01 00:08:55</td>\n",
       "      <td>246</td>\n",
       "      <td>2019-08-01</td>\n",
       "    </tr>\n",
       "    <tr>\n",
       "      <th>2831</th>\n",
       "      <td>OffersScreenAppear</td>\n",
       "      <td>3737462046622621720</td>\n",
       "      <td>2019-08-01 00:08:58</td>\n",
       "      <td>246</td>\n",
       "      <td>2019-08-01</td>\n",
       "    </tr>\n",
       "    <tr>\n",
       "      <th>2832</th>\n",
       "      <td>MainScreenAppear</td>\n",
       "      <td>1433840883824088890</td>\n",
       "      <td>2019-08-01 00:08:59</td>\n",
       "      <td>247</td>\n",
       "      <td>2019-08-01</td>\n",
       "    </tr>\n",
       "    <tr>\n",
       "      <th>...</th>\n",
       "      <td>...</td>\n",
       "      <td>...</td>\n",
       "      <td>...</td>\n",
       "      <td>...</td>\n",
       "      <td>...</td>\n",
       "    </tr>\n",
       "    <tr>\n",
       "      <th>244121</th>\n",
       "      <td>MainScreenAppear</td>\n",
       "      <td>4599628364049201812</td>\n",
       "      <td>2019-08-07 21:12:25</td>\n",
       "      <td>247</td>\n",
       "      <td>2019-08-07</td>\n",
       "    </tr>\n",
       "    <tr>\n",
       "      <th>244122</th>\n",
       "      <td>MainScreenAppear</td>\n",
       "      <td>5849806612437486590</td>\n",
       "      <td>2019-08-07 21:13:59</td>\n",
       "      <td>246</td>\n",
       "      <td>2019-08-07</td>\n",
       "    </tr>\n",
       "    <tr>\n",
       "      <th>244123</th>\n",
       "      <td>MainScreenAppear</td>\n",
       "      <td>5746969938801999050</td>\n",
       "      <td>2019-08-07 21:14:43</td>\n",
       "      <td>246</td>\n",
       "      <td>2019-08-07</td>\n",
       "    </tr>\n",
       "    <tr>\n",
       "      <th>244124</th>\n",
       "      <td>MainScreenAppear</td>\n",
       "      <td>5746969938801999050</td>\n",
       "      <td>2019-08-07 21:14:58</td>\n",
       "      <td>246</td>\n",
       "      <td>2019-08-07</td>\n",
       "    </tr>\n",
       "    <tr>\n",
       "      <th>244125</th>\n",
       "      <td>OffersScreenAppear</td>\n",
       "      <td>5746969938801999050</td>\n",
       "      <td>2019-08-07 21:15:17</td>\n",
       "      <td>246</td>\n",
       "      <td>2019-08-07</td>\n",
       "    </tr>\n",
       "  </tbody>\n",
       "</table>\n",
       "<p>240887 rows × 5 columns</p>\n",
       "</div>"
      ],
      "text/plain": [
       "                    evento               userId             fechahr  expId  \\\n",
       "2828              Tutorial  3737462046622621720 2019-08-01 00:07:28    246   \n",
       "2829      MainScreenAppear  3737462046622621720 2019-08-01 00:08:00    246   \n",
       "2830      MainScreenAppear  3737462046622621720 2019-08-01 00:08:55    246   \n",
       "2831    OffersScreenAppear  3737462046622621720 2019-08-01 00:08:58    246   \n",
       "2832      MainScreenAppear  1433840883824088890 2019-08-01 00:08:59    247   \n",
       "...                    ...                  ...                 ...    ...   \n",
       "244121    MainScreenAppear  4599628364049201812 2019-08-07 21:12:25    247   \n",
       "244122    MainScreenAppear  5849806612437486590 2019-08-07 21:13:59    246   \n",
       "244123    MainScreenAppear  5746969938801999050 2019-08-07 21:14:43    246   \n",
       "244124    MainScreenAppear  5746969938801999050 2019-08-07 21:14:58    246   \n",
       "244125  OffersScreenAppear  5746969938801999050 2019-08-07 21:15:17    246   \n",
       "\n",
       "            fecha  \n",
       "2828   2019-08-01  \n",
       "2829   2019-08-01  \n",
       "2830   2019-08-01  \n",
       "2831   2019-08-01  \n",
       "2832   2019-08-01  \n",
       "...           ...  \n",
       "244121 2019-08-07  \n",
       "244122 2019-08-07  \n",
       "244123 2019-08-07  \n",
       "244124 2019-08-07  \n",
       "244125 2019-08-07  \n",
       "\n",
       "[240887 rows x 5 columns]"
      ]
     },
     "execution_count": 23,
     "metadata": {},
     "output_type": "execute_result"
    }
   ],
   "source": [
    "agosto"
   ]
  },
  {
   "cell_type": "code",
   "execution_count": 24,
   "metadata": {},
   "outputs": [
    {
     "name": "stdout",
     "output_type": "stream",
     "text": [
      "2019-08-01 00:07:28\n",
      "2019-08-07 21:15:17\n"
     ]
    }
   ],
   "source": [
    "# ¿Cuál es la fecha minima y máxima de los datos de agosto?\n",
    "\n",
    "print(agosto['fechahr'].min())\n",
    "print(agosto['fechahr'].max())"
   ]
  },
  {
   "cell_type": "code",
   "execution_count": 25,
   "metadata": {},
   "outputs": [
    {
     "name": "stdout",
     "output_type": "stream",
     "text": [
      "Usuarios únicos: 7534\n",
      "Usuarios perdidos: 17\n",
      "Total de eventos perdidos: 2826\n"
     ]
    }
   ],
   "source": [
    "# ¿Perdiste muchos eventos y usuarios al excluir los datos más antiguos?\n",
    "\n",
    "usuariosUnicosAgosto = agosto['userId'].nunique()\n",
    "print(f\"Usuarios únicos:\", usuariosUnicosAgosto)\n",
    "\n",
    "usuariosPerdidos = usuariosUnicos - usuariosUnicosAgosto\n",
    "print(f\"Usuarios perdidos:\", usuariosPerdidos)\n",
    "\n",
    "total_eventos_agosto = agosto['evento'].count()\n",
    "total_eventos_perdidos = total_eventos - total_eventos_agosto\n",
    "print(f\"Total de eventos perdidos:\", total_eventos_perdidos)"
   ]
  },
  {
   "cell_type": "code",
   "execution_count": 26,
   "metadata": {},
   "outputs": [
    {
     "name": "stdout",
     "output_type": "stream",
     "text": [
      "Número de usuarios unicos en el experimento 246: 2484\n",
      "Número de usuarios unicos en el experimento 247: 2513\n",
      "Número de usuarios unicos en el experimento 248: 2537\n"
     ]
    }
   ],
   "source": [
    "exp246 = agosto[agosto['expId'] == 246]\n",
    "exp247 = agosto[agosto['expId'] == 247]\n",
    "exp248 = agosto[agosto['expId'] == 248]\n",
    "print(\"Número de usuarios unicos en el experimento 246:\", exp246['userId'].nunique())\n",
    "print(\"Número de usuarios unicos en el experimento 247:\", exp247['userId'].nunique())\n",
    "print(\"Número de usuarios unicos en el experimento 248:\", exp248['userId'].nunique())"
   ]
  },
  {
   "cell_type": "code",
   "execution_count": 27,
   "metadata": {},
   "outputs": [
    {
     "name": "stdout",
     "output_type": "stream",
     "text": [
      "El % de usuarios únicos del experimento 246 corresponde al:  0.3297\n",
      "El % de usuarios únicos del experimento 247 corresponde al:  0.3336\n",
      "El % de usuarios únicos del experimento 248 corresponde al:  0.3367\n"
     ]
    }
   ],
   "source": [
    "print(f\"El % de usuarios únicos del experimento 246 corresponde al:\", \"{0: .4f}\".format(exp246['userId'].nunique()/usuariosUnicosAgosto))\n",
    "print(f\"El % de usuarios únicos del experimento 247 corresponde al:\",\"{0: .4f}\".format(exp247['userId'].nunique()/usuariosUnicosAgosto))\n",
    "print(f\"El % de usuarios únicos del experimento 248 corresponde al:\",\"{0: .4f}\".format(exp248['userId'].nunique()/usuariosUnicosAgosto))"
   ]
  },
  {
   "cell_type": "markdown",
   "metadata": {},
   "source": [
    "Paso 4. Estudiar el embudo de eventos"
   ]
  },
  {
   "cell_type": "code",
   "execution_count": 28,
   "metadata": {},
   "outputs": [
    {
     "name": "stdout",
     "output_type": "stream",
     "text": [
      "                    evento   total  porcentaje  eventos_fuera\n",
      "0         MainScreenAppear  117328    0.487067            NaN\n",
      "1       OffersScreenAppear   46333    0.192343        70995.0\n",
      "2         CartScreenAppear   42303    0.175613         4030.0\n",
      "3  PaymentScreenSuccessful   33918    0.140805         8385.0\n",
      "4                 Tutorial    1005    0.004172        32913.0\n"
     ]
    }
   ],
   "source": [
    "# Observa qué eventos hay en los registros y su frecuencia de suceso. Ordénalos por frecuencia. \n",
    " \n",
    "embudoAgosto = agosto['evento'].value_counts().reset_index()\n",
    "embudoAgosto.columns = ['evento', 'total']\n",
    "embudoAgosto['porcentaje'] = embudoAgosto['total']/total_eventos_agosto\n",
    "embudoAgosto['eventos_fuera'] = embudoAgosto['total'] - embudoAgosto['total'].shift(1).fillna(0)\n",
    "embudoAgosto['eventos_fuera'] = embudoAgosto['eventos_fuera'].abs()\n",
    "embudoAgosto.loc[0, 'eventos_fuera'] = np.nan\n",
    "print(embudoAgosto)"
   ]
  },
  {
   "cell_type": "code",
   "execution_count": 29,
   "metadata": {},
   "outputs": [
    {
     "data": {
      "application/vnd.plotly.v1+json": {
       "config": {
        "plotlyServerURL": "https://plot.ly"
       },
       "data": [
        {
         "hovertemplate": "variable=total<br>Número de eventos=%{x}<br>evento=%{y}<extra></extra>",
         "legendgroup": "total",
         "marker": {
          "color": [
           "white",
           "blue",
           "red",
           "green",
           "orange"
          ],
          "line": {
           "color": "lightgray",
           "width": 2
          }
         },
         "name": "total",
         "orientation": "h",
         "showlegend": true,
         "type": "funnel",
         "x": [
          117328,
          46333,
          42303,
          33918,
          1005
         ],
         "xaxis": "x",
         "y": [
          "MainScreenAppear",
          "OffersScreenAppear",
          "CartScreenAppear",
          "PaymentScreenSuccessful",
          "Tutorial"
         ],
         "yaxis": "y"
        },
        {
         "hovertemplate": "variable=eventos_fuera<br>Número de eventos=%{x}<br>evento=%{y}<extra></extra>",
         "legendgroup": "eventos_fuera",
         "marker": {
          "color": [
           "blue",
           "green",
           "purple",
           "orange",
           "red"
          ],
          "line": {
           "color": "lightgray",
           "width": 2
          }
         },
         "name": "eventos_fuera",
         "orientation": "h",
         "showlegend": true,
         "type": "funnel",
         "x": [
          null,
          70995,
          4030,
          8385,
          32913
         ],
         "xaxis": "x",
         "y": [
          "MainScreenAppear",
          "OffersScreenAppear",
          "CartScreenAppear",
          "PaymentScreenSuccessful",
          "Tutorial"
         ],
         "yaxis": "y"
        }
       ],
       "layout": {
        "font": {
         "color": "white"
        },
        "legend": {
         "title": {
          "text": "variable"
         },
         "tracegroupgap": 0
        },
        "paper_bgcolor": "black",
        "plot_bgcolor": "black",
        "template": {
         "data": {
          "bar": [
           {
            "error_x": {
             "color": "#2a3f5f"
            },
            "error_y": {
             "color": "#2a3f5f"
            },
            "marker": {
             "line": {
              "color": "#E5ECF6",
              "width": 0.5
             },
             "pattern": {
              "fillmode": "overlay",
              "size": 10,
              "solidity": 0.2
             }
            },
            "type": "bar"
           }
          ],
          "barpolar": [
           {
            "marker": {
             "line": {
              "color": "#E5ECF6",
              "width": 0.5
             },
             "pattern": {
              "fillmode": "overlay",
              "size": 10,
              "solidity": 0.2
             }
            },
            "type": "barpolar"
           }
          ],
          "carpet": [
           {
            "aaxis": {
             "endlinecolor": "#2a3f5f",
             "gridcolor": "white",
             "linecolor": "white",
             "minorgridcolor": "white",
             "startlinecolor": "#2a3f5f"
            },
            "baxis": {
             "endlinecolor": "#2a3f5f",
             "gridcolor": "white",
             "linecolor": "white",
             "minorgridcolor": "white",
             "startlinecolor": "#2a3f5f"
            },
            "type": "carpet"
           }
          ],
          "choropleth": [
           {
            "colorbar": {
             "outlinewidth": 0,
             "ticks": ""
            },
            "type": "choropleth"
           }
          ],
          "contour": [
           {
            "colorbar": {
             "outlinewidth": 0,
             "ticks": ""
            },
            "colorscale": [
             [
              0,
              "#0d0887"
             ],
             [
              0.1111111111111111,
              "#46039f"
             ],
             [
              0.2222222222222222,
              "#7201a8"
             ],
             [
              0.3333333333333333,
              "#9c179e"
             ],
             [
              0.4444444444444444,
              "#bd3786"
             ],
             [
              0.5555555555555556,
              "#d8576b"
             ],
             [
              0.6666666666666666,
              "#ed7953"
             ],
             [
              0.7777777777777778,
              "#fb9f3a"
             ],
             [
              0.8888888888888888,
              "#fdca26"
             ],
             [
              1,
              "#f0f921"
             ]
            ],
            "type": "contour"
           }
          ],
          "contourcarpet": [
           {
            "colorbar": {
             "outlinewidth": 0,
             "ticks": ""
            },
            "type": "contourcarpet"
           }
          ],
          "heatmap": [
           {
            "colorbar": {
             "outlinewidth": 0,
             "ticks": ""
            },
            "colorscale": [
             [
              0,
              "#0d0887"
             ],
             [
              0.1111111111111111,
              "#46039f"
             ],
             [
              0.2222222222222222,
              "#7201a8"
             ],
             [
              0.3333333333333333,
              "#9c179e"
             ],
             [
              0.4444444444444444,
              "#bd3786"
             ],
             [
              0.5555555555555556,
              "#d8576b"
             ],
             [
              0.6666666666666666,
              "#ed7953"
             ],
             [
              0.7777777777777778,
              "#fb9f3a"
             ],
             [
              0.8888888888888888,
              "#fdca26"
             ],
             [
              1,
              "#f0f921"
             ]
            ],
            "type": "heatmap"
           }
          ],
          "heatmapgl": [
           {
            "colorbar": {
             "outlinewidth": 0,
             "ticks": ""
            },
            "colorscale": [
             [
              0,
              "#0d0887"
             ],
             [
              0.1111111111111111,
              "#46039f"
             ],
             [
              0.2222222222222222,
              "#7201a8"
             ],
             [
              0.3333333333333333,
              "#9c179e"
             ],
             [
              0.4444444444444444,
              "#bd3786"
             ],
             [
              0.5555555555555556,
              "#d8576b"
             ],
             [
              0.6666666666666666,
              "#ed7953"
             ],
             [
              0.7777777777777778,
              "#fb9f3a"
             ],
             [
              0.8888888888888888,
              "#fdca26"
             ],
             [
              1,
              "#f0f921"
             ]
            ],
            "type": "heatmapgl"
           }
          ],
          "histogram": [
           {
            "marker": {
             "pattern": {
              "fillmode": "overlay",
              "size": 10,
              "solidity": 0.2
             }
            },
            "type": "histogram"
           }
          ],
          "histogram2d": [
           {
            "colorbar": {
             "outlinewidth": 0,
             "ticks": ""
            },
            "colorscale": [
             [
              0,
              "#0d0887"
             ],
             [
              0.1111111111111111,
              "#46039f"
             ],
             [
              0.2222222222222222,
              "#7201a8"
             ],
             [
              0.3333333333333333,
              "#9c179e"
             ],
             [
              0.4444444444444444,
              "#bd3786"
             ],
             [
              0.5555555555555556,
              "#d8576b"
             ],
             [
              0.6666666666666666,
              "#ed7953"
             ],
             [
              0.7777777777777778,
              "#fb9f3a"
             ],
             [
              0.8888888888888888,
              "#fdca26"
             ],
             [
              1,
              "#f0f921"
             ]
            ],
            "type": "histogram2d"
           }
          ],
          "histogram2dcontour": [
           {
            "colorbar": {
             "outlinewidth": 0,
             "ticks": ""
            },
            "colorscale": [
             [
              0,
              "#0d0887"
             ],
             [
              0.1111111111111111,
              "#46039f"
             ],
             [
              0.2222222222222222,
              "#7201a8"
             ],
             [
              0.3333333333333333,
              "#9c179e"
             ],
             [
              0.4444444444444444,
              "#bd3786"
             ],
             [
              0.5555555555555556,
              "#d8576b"
             ],
             [
              0.6666666666666666,
              "#ed7953"
             ],
             [
              0.7777777777777778,
              "#fb9f3a"
             ],
             [
              0.8888888888888888,
              "#fdca26"
             ],
             [
              1,
              "#f0f921"
             ]
            ],
            "type": "histogram2dcontour"
           }
          ],
          "mesh3d": [
           {
            "colorbar": {
             "outlinewidth": 0,
             "ticks": ""
            },
            "type": "mesh3d"
           }
          ],
          "parcoords": [
           {
            "line": {
             "colorbar": {
              "outlinewidth": 0,
              "ticks": ""
             }
            },
            "type": "parcoords"
           }
          ],
          "pie": [
           {
            "automargin": true,
            "type": "pie"
           }
          ],
          "scatter": [
           {
            "fillpattern": {
             "fillmode": "overlay",
             "size": 10,
             "solidity": 0.2
            },
            "type": "scatter"
           }
          ],
          "scatter3d": [
           {
            "line": {
             "colorbar": {
              "outlinewidth": 0,
              "ticks": ""
             }
            },
            "marker": {
             "colorbar": {
              "outlinewidth": 0,
              "ticks": ""
             }
            },
            "type": "scatter3d"
           }
          ],
          "scattercarpet": [
           {
            "marker": {
             "colorbar": {
              "outlinewidth": 0,
              "ticks": ""
             }
            },
            "type": "scattercarpet"
           }
          ],
          "scattergeo": [
           {
            "marker": {
             "colorbar": {
              "outlinewidth": 0,
              "ticks": ""
             }
            },
            "type": "scattergeo"
           }
          ],
          "scattergl": [
           {
            "marker": {
             "colorbar": {
              "outlinewidth": 0,
              "ticks": ""
             }
            },
            "type": "scattergl"
           }
          ],
          "scattermapbox": [
           {
            "marker": {
             "colorbar": {
              "outlinewidth": 0,
              "ticks": ""
             }
            },
            "type": "scattermapbox"
           }
          ],
          "scatterpolar": [
           {
            "marker": {
             "colorbar": {
              "outlinewidth": 0,
              "ticks": ""
             }
            },
            "type": "scatterpolar"
           }
          ],
          "scatterpolargl": [
           {
            "marker": {
             "colorbar": {
              "outlinewidth": 0,
              "ticks": ""
             }
            },
            "type": "scatterpolargl"
           }
          ],
          "scatterternary": [
           {
            "marker": {
             "colorbar": {
              "outlinewidth": 0,
              "ticks": ""
             }
            },
            "type": "scatterternary"
           }
          ],
          "surface": [
           {
            "colorbar": {
             "outlinewidth": 0,
             "ticks": ""
            },
            "colorscale": [
             [
              0,
              "#0d0887"
             ],
             [
              0.1111111111111111,
              "#46039f"
             ],
             [
              0.2222222222222222,
              "#7201a8"
             ],
             [
              0.3333333333333333,
              "#9c179e"
             ],
             [
              0.4444444444444444,
              "#bd3786"
             ],
             [
              0.5555555555555556,
              "#d8576b"
             ],
             [
              0.6666666666666666,
              "#ed7953"
             ],
             [
              0.7777777777777778,
              "#fb9f3a"
             ],
             [
              0.8888888888888888,
              "#fdca26"
             ],
             [
              1,
              "#f0f921"
             ]
            ],
            "type": "surface"
           }
          ],
          "table": [
           {
            "cells": {
             "fill": {
              "color": "#EBF0F8"
             },
             "line": {
              "color": "white"
             }
            },
            "header": {
             "fill": {
              "color": "#C8D4E3"
             },
             "line": {
              "color": "white"
             }
            },
            "type": "table"
           }
          ]
         },
         "layout": {
          "annotationdefaults": {
           "arrowcolor": "#2a3f5f",
           "arrowhead": 0,
           "arrowwidth": 1
          },
          "autotypenumbers": "strict",
          "coloraxis": {
           "colorbar": {
            "outlinewidth": 0,
            "ticks": ""
           }
          },
          "colorscale": {
           "diverging": [
            [
             0,
             "#8e0152"
            ],
            [
             0.1,
             "#c51b7d"
            ],
            [
             0.2,
             "#de77ae"
            ],
            [
             0.3,
             "#f1b6da"
            ],
            [
             0.4,
             "#fde0ef"
            ],
            [
             0.5,
             "#f7f7f7"
            ],
            [
             0.6,
             "#e6f5d0"
            ],
            [
             0.7,
             "#b8e186"
            ],
            [
             0.8,
             "#7fbc41"
            ],
            [
             0.9,
             "#4d9221"
            ],
            [
             1,
             "#276419"
            ]
           ],
           "sequential": [
            [
             0,
             "#0d0887"
            ],
            [
             0.1111111111111111,
             "#46039f"
            ],
            [
             0.2222222222222222,
             "#7201a8"
            ],
            [
             0.3333333333333333,
             "#9c179e"
            ],
            [
             0.4444444444444444,
             "#bd3786"
            ],
            [
             0.5555555555555556,
             "#d8576b"
            ],
            [
             0.6666666666666666,
             "#ed7953"
            ],
            [
             0.7777777777777778,
             "#fb9f3a"
            ],
            [
             0.8888888888888888,
             "#fdca26"
            ],
            [
             1,
             "#f0f921"
            ]
           ],
           "sequentialminus": [
            [
             0,
             "#0d0887"
            ],
            [
             0.1111111111111111,
             "#46039f"
            ],
            [
             0.2222222222222222,
             "#7201a8"
            ],
            [
             0.3333333333333333,
             "#9c179e"
            ],
            [
             0.4444444444444444,
             "#bd3786"
            ],
            [
             0.5555555555555556,
             "#d8576b"
            ],
            [
             0.6666666666666666,
             "#ed7953"
            ],
            [
             0.7777777777777778,
             "#fb9f3a"
            ],
            [
             0.8888888888888888,
             "#fdca26"
            ],
            [
             1,
             "#f0f921"
            ]
           ]
          },
          "colorway": [
           "#636efa",
           "#EF553B",
           "#00cc96",
           "#ab63fa",
           "#FFA15A",
           "#19d3f3",
           "#FF6692",
           "#B6E880",
           "#FF97FF",
           "#FECB52"
          ],
          "font": {
           "color": "#2a3f5f"
          },
          "geo": {
           "bgcolor": "white",
           "lakecolor": "white",
           "landcolor": "#E5ECF6",
           "showlakes": true,
           "showland": true,
           "subunitcolor": "white"
          },
          "hoverlabel": {
           "align": "left"
          },
          "hovermode": "closest",
          "mapbox": {
           "style": "light"
          },
          "paper_bgcolor": "white",
          "plot_bgcolor": "#E5ECF6",
          "polar": {
           "angularaxis": {
            "gridcolor": "white",
            "linecolor": "white",
            "ticks": ""
           },
           "bgcolor": "#E5ECF6",
           "radialaxis": {
            "gridcolor": "white",
            "linecolor": "white",
            "ticks": ""
           }
          },
          "scene": {
           "xaxis": {
            "backgroundcolor": "#E5ECF6",
            "gridcolor": "white",
            "gridwidth": 2,
            "linecolor": "white",
            "showbackground": true,
            "ticks": "",
            "zerolinecolor": "white"
           },
           "yaxis": {
            "backgroundcolor": "#E5ECF6",
            "gridcolor": "white",
            "gridwidth": 2,
            "linecolor": "white",
            "showbackground": true,
            "ticks": "",
            "zerolinecolor": "white"
           },
           "zaxis": {
            "backgroundcolor": "#E5ECF6",
            "gridcolor": "white",
            "gridwidth": 2,
            "linecolor": "white",
            "showbackground": true,
            "ticks": "",
            "zerolinecolor": "white"
           }
          },
          "shapedefaults": {
           "line": {
            "color": "#2a3f5f"
           }
          },
          "ternary": {
           "aaxis": {
            "gridcolor": "white",
            "linecolor": "white",
            "ticks": ""
           },
           "baxis": {
            "gridcolor": "white",
            "linecolor": "white",
            "ticks": ""
           },
           "bgcolor": "#E5ECF6",
           "caxis": {
            "gridcolor": "white",
            "linecolor": "white",
            "ticks": ""
           }
          },
          "title": {
           "x": 0.05
          },
          "xaxis": {
           "automargin": true,
           "gridcolor": "white",
           "linecolor": "white",
           "ticks": "",
           "title": {
            "standoff": 15
           },
           "zerolinecolor": "white",
           "zerolinewidth": 2
          },
          "yaxis": {
           "automargin": true,
           "gridcolor": "white",
           "linecolor": "white",
           "ticks": "",
           "title": {
            "standoff": 15
           },
           "zerolinecolor": "white",
           "zerolinewidth": 2
          }
         }
        },
        "title": {
         "text": "Embudo de eventos del mes de Agosto"
        },
        "xaxis": {
         "anchor": "y",
         "domain": [
          0,
          1
         ],
         "title": {
          "text": "Número de eventos"
         }
        },
        "yaxis": {
         "anchor": "x",
         "domain": [
          0,
          1
         ],
         "title": {
          "text": "evento"
         }
        }
       }
      }
     },
     "metadata": {},
     "output_type": "display_data"
    }
   ],
   "source": [
    "fig3 = px.funnel(embudoAgosto, \n",
    "    x = ['total', 'eventos_fuera'], \n",
    "    y = 'evento',\n",
    "    title = 'Embudo de eventos del mes de Agosto',\n",
    "    labels = {'index': 'evento', 'value': 'Número de eventos'}\n",
    ")\n",
    "\n",
    "colors3 = ['white', 'blue', 'red', 'green', 'orange']\n",
    "colors31 = ['blue', 'green', 'purple', 'orange', 'red']\n",
    "fig3.data[0].marker.color = colors3[:len(fig3.data[0].y)]\n",
    "fig3.data[0].marker.line.width = 2\n",
    "fig3.data[0].marker.line.color = 'lightgray'\n",
    "fig3.data[1].marker.color = colors31[:len(fig3.data[0].y)]\n",
    "fig3.data[1].marker.line.width = 2\n",
    "fig3.data[1].marker.line.color = 'lightgray'\n",
    "\n",
    "fig3.update_layout(\n",
    "    paper_bgcolor = 'black',\n",
    "    plot_bgcolor = 'black',\n",
    "    font_color = 'white')"
   ]
  },
  {
   "cell_type": "code",
   "execution_count": 30,
   "metadata": {},
   "outputs": [
    {
     "name": "stdout",
     "output_type": "stream",
     "text": [
      "                    evento  usuarios_unicos  porcentaje\n",
      "1         MainScreenAppear             7419    0.984736\n",
      "2       OffersScreenAppear             4593    0.609636\n",
      "0         CartScreenAppear             3734    0.495620\n",
      "3  PaymentScreenSuccessful             3539    0.469737\n",
      "4                 Tutorial              840    0.111495\n"
     ]
    }
   ],
   "source": [
    "# Encuentra la cantidad de usuarios que realizaron cada una de estas acciones. Ordena los eventos por el número de usuarios.\n",
    "# Calcula la proporción de usuarios que realizaron la acción al menos una vez.\n",
    "\n",
    "embudoAgostoUsuarios = agosto.groupby('evento')['userId'].nunique().reset_index().sort_values(by = 'userId', ascending = False)\n",
    "embudoAgostoUsuarios.columns = ['evento', 'usuarios_unicos']\n",
    "embudoAgostoUsuarios['porcentaje'] = embudoAgostoUsuarios['usuarios_unicos']/usuariosUnicosAgosto\n",
    "print(embudoAgostoUsuarios)"
   ]
  },
  {
   "cell_type": "markdown",
   "metadata": {},
   "source": [
    "¿En qué orden crees que ocurrieron las acciones? ¿Todas son parte de una sola secuencia? No es necesario tenerlas en cuenta al calcular el embudo.\n",
    "\n"
   ]
  },
  {
   "cell_type": "markdown",
   "metadata": {},
   "source": [
    "Según los datos que hemos analizado lo primero que hacen los usuarios es ir a MainScreenAppear, en segundo lugar checar las ofertas en la página OfferScreenApper, seleccionan todos los artículos que van a comparar y proceden a ir a la pagina de CartScreenApper, hacen una inspeccion de sus articulos para verificar si no les falta alguno, proceden a realizar el pago y viajan a la página de PaymentScreenSuccessful, hay muchos usuarios que no visitan los tutoriales de como preparar los alimentos.<br>\n",
    "No es necesario que sigan una secuencía ya que los usuarios vien podrían ingresar a la pagina de las ofertas antes que a la pagina de inicio por algún anuncio publicitario, o bien podrían ver primero un tutorial antes de decidirse a realizar el pago de los productos."
   ]
  },
  {
   "cell_type": "markdown",
   "metadata": {},
   "source": [
    "Utiliza el embudo de eventos para encontrar la proporción de usuarios que pasan de una etapa a la siguiente. Por ejemplo, para la secuencia de eventos A → B → C, calcula la proporción de usuarios en la etapa B a la cantidad de usuarios en la etapa A y la proporción de usuarios en la etapa C a la cantidad en la etapa B."
   ]
  },
  {
   "cell_type": "code",
   "execution_count": 31,
   "metadata": {},
   "outputs": [
    {
     "name": "stdout",
     "output_type": "stream",
     "text": [
      "                    evento  usuarios_unicos  porcentaje  usuarios_fuera\n",
      "1         MainScreenAppear             7419    0.984736             NaN\n",
      "2       OffersScreenAppear             4593    0.609636          2826.0\n",
      "0         CartScreenAppear             3734    0.495620           859.0\n",
      "3  PaymentScreenSuccessful             3539    0.469737           195.0\n",
      "4                 Tutorial              840    0.111495          2699.0\n"
     ]
    }
   ],
   "source": [
    "# Calculo de usuarios que quedaron fuera de cada evento.\n",
    "\n",
    "embudoAgostoUsuarios['usuarios_fuera'] = embudoAgostoUsuarios['usuarios_unicos'] - embudoAgostoUsuarios['usuarios_unicos'].shift().fillna(0)\n",
    "embudoAgostoUsuarios['usuarios_fuera'] = embudoAgostoUsuarios['usuarios_fuera'].abs()\n",
    "embudoAgostoUsuarios.loc[1, 'usuarios_fuera'] = np.nan\n",
    "print(embudoAgostoUsuarios)"
   ]
  },
  {
   "cell_type": "code",
   "execution_count": 32,
   "metadata": {},
   "outputs": [
    {
     "data": {
      "application/vnd.plotly.v1+json": {
       "config": {
        "plotlyServerURL": "https://plot.ly"
       },
       "data": [
        {
         "hovertemplate": "variable=usuarios_unicos<br>Número de usuarios=%{x}<br>evento=%{y}<extra></extra>",
         "legendgroup": "usuarios_unicos",
         "marker": {
          "color": [
           "white",
           "blue",
           "red",
           "green",
           "orange"
          ],
          "line": {
           "color": "lightgray",
           "width": 2
          }
         },
         "name": "usuarios_unicos",
         "orientation": "h",
         "showlegend": true,
         "type": "funnel",
         "x": [
          7419,
          4593,
          3734,
          3539,
          840
         ],
         "xaxis": "x",
         "y": [
          "MainScreenAppear",
          "OffersScreenAppear",
          "CartScreenAppear",
          "PaymentScreenSuccessful",
          "Tutorial"
         ],
         "yaxis": "y"
        },
        {
         "hovertemplate": "variable=usuarios_fuera<br>Número de usuarios=%{x}<br>evento=%{y}<extra></extra>",
         "legendgroup": "usuarios_fuera",
         "marker": {
          "color": [
           "blue",
           "green",
           "purple",
           "orange",
           "red"
          ],
          "line": {
           "color": "lightgray",
           "width": 2
          }
         },
         "name": "usuarios_fuera",
         "orientation": "h",
         "showlegend": true,
         "type": "funnel",
         "x": [
          null,
          2826,
          859,
          195,
          2699
         ],
         "xaxis": "x",
         "y": [
          "MainScreenAppear",
          "OffersScreenAppear",
          "CartScreenAppear",
          "PaymentScreenSuccessful",
          "Tutorial"
         ],
         "yaxis": "y"
        }
       ],
       "layout": {
        "font": {
         "color": "white"
        },
        "legend": {
         "title": {
          "text": "variable"
         },
         "tracegroupgap": 0
        },
        "paper_bgcolor": "black",
        "plot_bgcolor": "black",
        "template": {
         "data": {
          "bar": [
           {
            "error_x": {
             "color": "#2a3f5f"
            },
            "error_y": {
             "color": "#2a3f5f"
            },
            "marker": {
             "line": {
              "color": "#E5ECF6",
              "width": 0.5
             },
             "pattern": {
              "fillmode": "overlay",
              "size": 10,
              "solidity": 0.2
             }
            },
            "type": "bar"
           }
          ],
          "barpolar": [
           {
            "marker": {
             "line": {
              "color": "#E5ECF6",
              "width": 0.5
             },
             "pattern": {
              "fillmode": "overlay",
              "size": 10,
              "solidity": 0.2
             }
            },
            "type": "barpolar"
           }
          ],
          "carpet": [
           {
            "aaxis": {
             "endlinecolor": "#2a3f5f",
             "gridcolor": "white",
             "linecolor": "white",
             "minorgridcolor": "white",
             "startlinecolor": "#2a3f5f"
            },
            "baxis": {
             "endlinecolor": "#2a3f5f",
             "gridcolor": "white",
             "linecolor": "white",
             "minorgridcolor": "white",
             "startlinecolor": "#2a3f5f"
            },
            "type": "carpet"
           }
          ],
          "choropleth": [
           {
            "colorbar": {
             "outlinewidth": 0,
             "ticks": ""
            },
            "type": "choropleth"
           }
          ],
          "contour": [
           {
            "colorbar": {
             "outlinewidth": 0,
             "ticks": ""
            },
            "colorscale": [
             [
              0,
              "#0d0887"
             ],
             [
              0.1111111111111111,
              "#46039f"
             ],
             [
              0.2222222222222222,
              "#7201a8"
             ],
             [
              0.3333333333333333,
              "#9c179e"
             ],
             [
              0.4444444444444444,
              "#bd3786"
             ],
             [
              0.5555555555555556,
              "#d8576b"
             ],
             [
              0.6666666666666666,
              "#ed7953"
             ],
             [
              0.7777777777777778,
              "#fb9f3a"
             ],
             [
              0.8888888888888888,
              "#fdca26"
             ],
             [
              1,
              "#f0f921"
             ]
            ],
            "type": "contour"
           }
          ],
          "contourcarpet": [
           {
            "colorbar": {
             "outlinewidth": 0,
             "ticks": ""
            },
            "type": "contourcarpet"
           }
          ],
          "heatmap": [
           {
            "colorbar": {
             "outlinewidth": 0,
             "ticks": ""
            },
            "colorscale": [
             [
              0,
              "#0d0887"
             ],
             [
              0.1111111111111111,
              "#46039f"
             ],
             [
              0.2222222222222222,
              "#7201a8"
             ],
             [
              0.3333333333333333,
              "#9c179e"
             ],
             [
              0.4444444444444444,
              "#bd3786"
             ],
             [
              0.5555555555555556,
              "#d8576b"
             ],
             [
              0.6666666666666666,
              "#ed7953"
             ],
             [
              0.7777777777777778,
              "#fb9f3a"
             ],
             [
              0.8888888888888888,
              "#fdca26"
             ],
             [
              1,
              "#f0f921"
             ]
            ],
            "type": "heatmap"
           }
          ],
          "heatmapgl": [
           {
            "colorbar": {
             "outlinewidth": 0,
             "ticks": ""
            },
            "colorscale": [
             [
              0,
              "#0d0887"
             ],
             [
              0.1111111111111111,
              "#46039f"
             ],
             [
              0.2222222222222222,
              "#7201a8"
             ],
             [
              0.3333333333333333,
              "#9c179e"
             ],
             [
              0.4444444444444444,
              "#bd3786"
             ],
             [
              0.5555555555555556,
              "#d8576b"
             ],
             [
              0.6666666666666666,
              "#ed7953"
             ],
             [
              0.7777777777777778,
              "#fb9f3a"
             ],
             [
              0.8888888888888888,
              "#fdca26"
             ],
             [
              1,
              "#f0f921"
             ]
            ],
            "type": "heatmapgl"
           }
          ],
          "histogram": [
           {
            "marker": {
             "pattern": {
              "fillmode": "overlay",
              "size": 10,
              "solidity": 0.2
             }
            },
            "type": "histogram"
           }
          ],
          "histogram2d": [
           {
            "colorbar": {
             "outlinewidth": 0,
             "ticks": ""
            },
            "colorscale": [
             [
              0,
              "#0d0887"
             ],
             [
              0.1111111111111111,
              "#46039f"
             ],
             [
              0.2222222222222222,
              "#7201a8"
             ],
             [
              0.3333333333333333,
              "#9c179e"
             ],
             [
              0.4444444444444444,
              "#bd3786"
             ],
             [
              0.5555555555555556,
              "#d8576b"
             ],
             [
              0.6666666666666666,
              "#ed7953"
             ],
             [
              0.7777777777777778,
              "#fb9f3a"
             ],
             [
              0.8888888888888888,
              "#fdca26"
             ],
             [
              1,
              "#f0f921"
             ]
            ],
            "type": "histogram2d"
           }
          ],
          "histogram2dcontour": [
           {
            "colorbar": {
             "outlinewidth": 0,
             "ticks": ""
            },
            "colorscale": [
             [
              0,
              "#0d0887"
             ],
             [
              0.1111111111111111,
              "#46039f"
             ],
             [
              0.2222222222222222,
              "#7201a8"
             ],
             [
              0.3333333333333333,
              "#9c179e"
             ],
             [
              0.4444444444444444,
              "#bd3786"
             ],
             [
              0.5555555555555556,
              "#d8576b"
             ],
             [
              0.6666666666666666,
              "#ed7953"
             ],
             [
              0.7777777777777778,
              "#fb9f3a"
             ],
             [
              0.8888888888888888,
              "#fdca26"
             ],
             [
              1,
              "#f0f921"
             ]
            ],
            "type": "histogram2dcontour"
           }
          ],
          "mesh3d": [
           {
            "colorbar": {
             "outlinewidth": 0,
             "ticks": ""
            },
            "type": "mesh3d"
           }
          ],
          "parcoords": [
           {
            "line": {
             "colorbar": {
              "outlinewidth": 0,
              "ticks": ""
             }
            },
            "type": "parcoords"
           }
          ],
          "pie": [
           {
            "automargin": true,
            "type": "pie"
           }
          ],
          "scatter": [
           {
            "fillpattern": {
             "fillmode": "overlay",
             "size": 10,
             "solidity": 0.2
            },
            "type": "scatter"
           }
          ],
          "scatter3d": [
           {
            "line": {
             "colorbar": {
              "outlinewidth": 0,
              "ticks": ""
             }
            },
            "marker": {
             "colorbar": {
              "outlinewidth": 0,
              "ticks": ""
             }
            },
            "type": "scatter3d"
           }
          ],
          "scattercarpet": [
           {
            "marker": {
             "colorbar": {
              "outlinewidth": 0,
              "ticks": ""
             }
            },
            "type": "scattercarpet"
           }
          ],
          "scattergeo": [
           {
            "marker": {
             "colorbar": {
              "outlinewidth": 0,
              "ticks": ""
             }
            },
            "type": "scattergeo"
           }
          ],
          "scattergl": [
           {
            "marker": {
             "colorbar": {
              "outlinewidth": 0,
              "ticks": ""
             }
            },
            "type": "scattergl"
           }
          ],
          "scattermapbox": [
           {
            "marker": {
             "colorbar": {
              "outlinewidth": 0,
              "ticks": ""
             }
            },
            "type": "scattermapbox"
           }
          ],
          "scatterpolar": [
           {
            "marker": {
             "colorbar": {
              "outlinewidth": 0,
              "ticks": ""
             }
            },
            "type": "scatterpolar"
           }
          ],
          "scatterpolargl": [
           {
            "marker": {
             "colorbar": {
              "outlinewidth": 0,
              "ticks": ""
             }
            },
            "type": "scatterpolargl"
           }
          ],
          "scatterternary": [
           {
            "marker": {
             "colorbar": {
              "outlinewidth": 0,
              "ticks": ""
             }
            },
            "type": "scatterternary"
           }
          ],
          "surface": [
           {
            "colorbar": {
             "outlinewidth": 0,
             "ticks": ""
            },
            "colorscale": [
             [
              0,
              "#0d0887"
             ],
             [
              0.1111111111111111,
              "#46039f"
             ],
             [
              0.2222222222222222,
              "#7201a8"
             ],
             [
              0.3333333333333333,
              "#9c179e"
             ],
             [
              0.4444444444444444,
              "#bd3786"
             ],
             [
              0.5555555555555556,
              "#d8576b"
             ],
             [
              0.6666666666666666,
              "#ed7953"
             ],
             [
              0.7777777777777778,
              "#fb9f3a"
             ],
             [
              0.8888888888888888,
              "#fdca26"
             ],
             [
              1,
              "#f0f921"
             ]
            ],
            "type": "surface"
           }
          ],
          "table": [
           {
            "cells": {
             "fill": {
              "color": "#EBF0F8"
             },
             "line": {
              "color": "white"
             }
            },
            "header": {
             "fill": {
              "color": "#C8D4E3"
             },
             "line": {
              "color": "white"
             }
            },
            "type": "table"
           }
          ]
         },
         "layout": {
          "annotationdefaults": {
           "arrowcolor": "#2a3f5f",
           "arrowhead": 0,
           "arrowwidth": 1
          },
          "autotypenumbers": "strict",
          "coloraxis": {
           "colorbar": {
            "outlinewidth": 0,
            "ticks": ""
           }
          },
          "colorscale": {
           "diverging": [
            [
             0,
             "#8e0152"
            ],
            [
             0.1,
             "#c51b7d"
            ],
            [
             0.2,
             "#de77ae"
            ],
            [
             0.3,
             "#f1b6da"
            ],
            [
             0.4,
             "#fde0ef"
            ],
            [
             0.5,
             "#f7f7f7"
            ],
            [
             0.6,
             "#e6f5d0"
            ],
            [
             0.7,
             "#b8e186"
            ],
            [
             0.8,
             "#7fbc41"
            ],
            [
             0.9,
             "#4d9221"
            ],
            [
             1,
             "#276419"
            ]
           ],
           "sequential": [
            [
             0,
             "#0d0887"
            ],
            [
             0.1111111111111111,
             "#46039f"
            ],
            [
             0.2222222222222222,
             "#7201a8"
            ],
            [
             0.3333333333333333,
             "#9c179e"
            ],
            [
             0.4444444444444444,
             "#bd3786"
            ],
            [
             0.5555555555555556,
             "#d8576b"
            ],
            [
             0.6666666666666666,
             "#ed7953"
            ],
            [
             0.7777777777777778,
             "#fb9f3a"
            ],
            [
             0.8888888888888888,
             "#fdca26"
            ],
            [
             1,
             "#f0f921"
            ]
           ],
           "sequentialminus": [
            [
             0,
             "#0d0887"
            ],
            [
             0.1111111111111111,
             "#46039f"
            ],
            [
             0.2222222222222222,
             "#7201a8"
            ],
            [
             0.3333333333333333,
             "#9c179e"
            ],
            [
             0.4444444444444444,
             "#bd3786"
            ],
            [
             0.5555555555555556,
             "#d8576b"
            ],
            [
             0.6666666666666666,
             "#ed7953"
            ],
            [
             0.7777777777777778,
             "#fb9f3a"
            ],
            [
             0.8888888888888888,
             "#fdca26"
            ],
            [
             1,
             "#f0f921"
            ]
           ]
          },
          "colorway": [
           "#636efa",
           "#EF553B",
           "#00cc96",
           "#ab63fa",
           "#FFA15A",
           "#19d3f3",
           "#FF6692",
           "#B6E880",
           "#FF97FF",
           "#FECB52"
          ],
          "font": {
           "color": "#2a3f5f"
          },
          "geo": {
           "bgcolor": "white",
           "lakecolor": "white",
           "landcolor": "#E5ECF6",
           "showlakes": true,
           "showland": true,
           "subunitcolor": "white"
          },
          "hoverlabel": {
           "align": "left"
          },
          "hovermode": "closest",
          "mapbox": {
           "style": "light"
          },
          "paper_bgcolor": "white",
          "plot_bgcolor": "#E5ECF6",
          "polar": {
           "angularaxis": {
            "gridcolor": "white",
            "linecolor": "white",
            "ticks": ""
           },
           "bgcolor": "#E5ECF6",
           "radialaxis": {
            "gridcolor": "white",
            "linecolor": "white",
            "ticks": ""
           }
          },
          "scene": {
           "xaxis": {
            "backgroundcolor": "#E5ECF6",
            "gridcolor": "white",
            "gridwidth": 2,
            "linecolor": "white",
            "showbackground": true,
            "ticks": "",
            "zerolinecolor": "white"
           },
           "yaxis": {
            "backgroundcolor": "#E5ECF6",
            "gridcolor": "white",
            "gridwidth": 2,
            "linecolor": "white",
            "showbackground": true,
            "ticks": "",
            "zerolinecolor": "white"
           },
           "zaxis": {
            "backgroundcolor": "#E5ECF6",
            "gridcolor": "white",
            "gridwidth": 2,
            "linecolor": "white",
            "showbackground": true,
            "ticks": "",
            "zerolinecolor": "white"
           }
          },
          "shapedefaults": {
           "line": {
            "color": "#2a3f5f"
           }
          },
          "ternary": {
           "aaxis": {
            "gridcolor": "white",
            "linecolor": "white",
            "ticks": ""
           },
           "baxis": {
            "gridcolor": "white",
            "linecolor": "white",
            "ticks": ""
           },
           "bgcolor": "#E5ECF6",
           "caxis": {
            "gridcolor": "white",
            "linecolor": "white",
            "ticks": ""
           }
          },
          "title": {
           "x": 0.05
          },
          "xaxis": {
           "automargin": true,
           "gridcolor": "white",
           "linecolor": "white",
           "ticks": "",
           "title": {
            "standoff": 15
           },
           "zerolinecolor": "white",
           "zerolinewidth": 2
          },
          "yaxis": {
           "automargin": true,
           "gridcolor": "white",
           "linecolor": "white",
           "ticks": "",
           "title": {
            "standoff": 15
           },
           "zerolinecolor": "white",
           "zerolinewidth": 2
          }
         }
        },
        "title": {
         "text": "Embudo de usuarios en el mes de Agosto"
        },
        "xaxis": {
         "anchor": "y",
         "domain": [
          0,
          1
         ],
         "title": {
          "text": "Número de usuarios"
         }
        },
        "yaxis": {
         "anchor": "x",
         "domain": [
          0,
          1
         ],
         "title": {
          "text": "evento"
         }
        }
       }
      }
     },
     "metadata": {},
     "output_type": "display_data"
    }
   ],
   "source": [
    "# Elaboración de grafico de embudo de usuarios en el mes de agosto.\n",
    "\n",
    "fig4 = px.funnel(embudoAgostoUsuarios, \n",
    "    x = ['usuarios_unicos', 'usuarios_fuera'], \n",
    "    y = 'evento',\n",
    "    title = 'Embudo de usuarios en el mes de Agosto',\n",
    "    labels = {'index': 'evento', 'value': 'Número de usuarios'}\n",
    ")\n",
    "\n",
    "colors3 = ['white', 'blue', 'red', 'green', 'orange']\n",
    "colors31 = ['blue', 'green', 'purple', 'orange', 'red']\n",
    "fig4.data[0].marker.color = colors3[:len(fig4.data[0].y)]\n",
    "fig4.data[0].marker.line.width = 2\n",
    "fig4.data[0].marker.line.color = 'lightgray'\n",
    "fig4.data[1].marker.color = colors31[:len(fig4.data[0].y)]\n",
    "fig4.data[1].marker.line.width = 2\n",
    "fig4.data[1].marker.line.color = 'lightgray'\n",
    "\n",
    "fig4.update_layout(\n",
    "    paper_bgcolor = 'black',\n",
    "    plot_bgcolor = 'black',\n",
    "    font_color = 'white')"
   ]
  },
  {
   "cell_type": "markdown",
   "metadata": {},
   "source": [
    "¿En qué etapa pierdes más usuarios?<br>\n",
    "<br>\n",
    "De la pantalla de inicio a la de ofertas se pierden 2,826 usuarios únicos, y de la página de pago exitoso a los tutoriales se pierden 2,699 usuarios únicos.\n",
    "\n"
   ]
  },
  {
   "cell_type": "markdown",
   "metadata": {},
   "source": [
    "¿Qué porcentaje de usuarios hace todo el viaje desde su primer evento hasta el pago?"
   ]
  },
  {
   "cell_type": "code",
   "execution_count": 33,
   "metadata": {},
   "outputs": [
    {
     "name": "stdout",
     "output_type": "stream",
     "text": [
      "El procentaje de usuarios que hacen todo el viaje es de: 11.15 %\n"
     ]
    }
   ],
   "source": [
    "print(f\"El procentaje de usuarios que hacen todo el viaje es de:\", round((embudoAgostoUsuarios['porcentaje'][4])*100, 2), \"%\")"
   ]
  },
  {
   "cell_type": "markdown",
   "metadata": {},
   "source": [
    "Paso 5. Estudiar los resultados del experimento"
   ]
  },
  {
   "cell_type": "markdown",
   "metadata": {},
   "source": [
    "¿Cuántos usuarios hay en cada grupo?"
   ]
  },
  {
   "cell_type": "code",
   "execution_count": 34,
   "metadata": {},
   "outputs": [
    {
     "name": "stdout",
     "output_type": "stream",
     "text": [
      "Número de usuarios unicos en el experimento 246: 2484\n",
      "Número de usuarios unicos en el experimento 247: 2513\n",
      "Número de usuarios unicos en el experimento 248: 2537\n",
      "El % de usuarios únicos del experimento 246 corresponde al: 32.97 %\n",
      "El % de usuarios únicos del experimento 247 corresponde al: 33.36 %\n",
      "El % de usuarios únicos del experimento 248 corresponde al: 33.67 %\n"
     ]
    }
   ],
   "source": [
    "print(\"Número de usuarios unicos en el experimento 246:\", exp246['userId'].nunique())\n",
    "print(\"Número de usuarios unicos en el experimento 247:\", exp247['userId'].nunique())\n",
    "print(\"Número de usuarios unicos en el experimento 248:\", exp248['userId'].nunique())\n",
    "print(f\"El % de usuarios únicos del experimento 246 corresponde al:\", round((exp246['userId'].nunique()/usuariosUnicosAgosto)*100, 2), \"%\")\n",
    "print(f\"El % de usuarios únicos del experimento 247 corresponde al:\", round((exp247['userId'].nunique()/usuariosUnicosAgosto)*100, 2), \"%\")\n",
    "print(f\"El % de usuarios únicos del experimento 248 corresponde al:\", round((exp248['userId'].nunique()/usuariosUnicosAgosto)*100, 2), \"%\")"
   ]
  },
  {
   "cell_type": "markdown",
   "metadata": {},
   "source": [
    "Tenemos dos grupos de control en el test A/A, donde comprobamos nuestros mecanismos y cálculos. Observa si hay una diferencia estadísticamente significativa entre las muestras 246 y 247."
   ]
  },
  {
   "cell_type": "code",
   "execution_count": 35,
   "metadata": {
    "scrolled": false
   },
   "outputs": [],
   "source": [
    "# Creación de una nueva columna 'dif_segundos' con la diferencia de tiempo en segundos entre eventos.\n",
    "exp246 = exp246.copy()\n",
    "exp247 = exp247.copy()\n",
    "exp248 = exp248.copy()\n",
    "\n",
    "exp246['dif_segundos'] = exp246.groupby('userId')['fechahr'].diff().dt.total_seconds()\n",
    "exp247['dif_segundos'] = exp247.groupby('userId')['fechahr'].diff().dt.total_seconds()\n",
    "exp248['dif_segundos'] = exp248.groupby('userId')['fechahr'].diff().dt.total_seconds()"
   ]
  },
  {
   "cell_type": "code",
   "execution_count": 36,
   "metadata": {},
   "outputs": [],
   "source": [
    "muestra246 = exp246.groupby('userId')['fechahr'].diff().dt.total_seconds()\n",
    "muestra247 = exp247.groupby('userId')['fechahr'].diff().dt.total_seconds()\n",
    "muestra248 = exp248.groupby('userId')['fechahr'].diff().dt.total_seconds()\n",
    "\n",
    "muestra246 = muestra246.dropna()\n",
    "muestra247 = muestra247.dropna()\n",
    "muestra248 = muestra248.dropna()"
   ]
  },
  {
   "cell_type": "code",
   "execution_count": 37,
   "metadata": {},
   "outputs": [],
   "source": [
    "# Elaboración de una función que nos permita verificar la normalidad de los datos.\n",
    "\n",
    "def checar_normalidad(datos):\n",
    "    test_stats_normality, p_value_normality = st.shapiro(datos)\n",
    "    print(\"p value:%.05f\" % p_value_normality)\n",
    "    if p_value_normality < 0.05:\n",
    "        print(\"No se puede asumir normalidad\")\n",
    "    else:\n",
    "        print(\"Se puede asumir normalidad\")"
   ]
  },
  {
   "cell_type": "code",
   "execution_count": 38,
   "metadata": {},
   "outputs": [
    {
     "name": "stdout",
     "output_type": "stream",
     "text": [
      "p value:0.00000\n",
      "No se puede asumir normalidad\n"
     ]
    },
    {
     "name": "stderr",
     "output_type": "stream",
     "text": [
      "/opt/anaconda3/lib/python3.12/site-packages/scipy/stats/_axis_nan_policy.py:531: UserWarning:\n",
      "\n",
      "scipy.stats.shapiro: For N > 5000, computed p-value may not be accurate. Current N is 76818.\n",
      "\n"
     ]
    }
   ],
   "source": [
    "checar_normalidad(muestra246)"
   ]
  },
  {
   "cell_type": "code",
   "execution_count": 39,
   "metadata": {},
   "outputs": [
    {
     "name": "stdout",
     "output_type": "stream",
     "text": [
      "p value:0.00000\n",
      "No se puede asumir normalidad\n"
     ]
    },
    {
     "name": "stderr",
     "output_type": "stream",
     "text": [
      "/opt/anaconda3/lib/python3.12/site-packages/scipy/stats/_axis_nan_policy.py:531: UserWarning:\n",
      "\n",
      "scipy.stats.shapiro: For N > 5000, computed p-value may not be accurate. Current N is 74509.\n",
      "\n"
     ]
    }
   ],
   "source": [
    "checar_normalidad(muestra247)"
   ]
  },
  {
   "cell_type": "code",
   "execution_count": 40,
   "metadata": {},
   "outputs": [
    {
     "name": "stdout",
     "output_type": "stream",
     "text": [
      "p value:0.00000\n",
      "No se puede asumir normalidad\n"
     ]
    },
    {
     "name": "stderr",
     "output_type": "stream",
     "text": [
      "/opt/anaconda3/lib/python3.12/site-packages/scipy/stats/_axis_nan_policy.py:531: UserWarning:\n",
      "\n",
      "scipy.stats.shapiro: For N > 5000, computed p-value may not be accurate. Current N is 82026.\n",
      "\n"
     ]
    }
   ],
   "source": [
    "checar_normalidad(muestra248)"
   ]
  },
  {
   "cell_type": "code",
   "execution_count": 41,
   "metadata": {},
   "outputs": [
    {
     "data": {
      "text/plain": [
       "9894.854526282903"
      ]
     },
     "execution_count": 41,
     "metadata": {},
     "output_type": "execute_result"
    }
   ],
   "source": [
    "exp246['dif_segundos'].mean()"
   ]
  },
  {
   "cell_type": "code",
   "execution_count": 42,
   "metadata": {},
   "outputs": [
    {
     "data": {
      "text/html": [
       "<div>\n",
       "<style scoped>\n",
       "    .dataframe tbody tr th:only-of-type {\n",
       "        vertical-align: middle;\n",
       "    }\n",
       "\n",
       "    .dataframe tbody tr th {\n",
       "        vertical-align: top;\n",
       "    }\n",
       "\n",
       "    .dataframe thead th {\n",
       "        text-align: right;\n",
       "    }\n",
       "</style>\n",
       "<table border=\"1\" class=\"dataframe\">\n",
       "  <thead>\n",
       "    <tr style=\"text-align: right;\">\n",
       "      <th></th>\n",
       "      <th>evento</th>\n",
       "      <th>userId</th>\n",
       "      <th>fechahr</th>\n",
       "      <th>expId</th>\n",
       "      <th>fecha</th>\n",
       "      <th>dif_segundos</th>\n",
       "    </tr>\n",
       "  </thead>\n",
       "  <tbody>\n",
       "    <tr>\n",
       "      <th>2828</th>\n",
       "      <td>Tutorial</td>\n",
       "      <td>3737462046622621720</td>\n",
       "      <td>2019-08-01 00:07:28</td>\n",
       "      <td>246</td>\n",
       "      <td>2019-08-01</td>\n",
       "      <td>NaN</td>\n",
       "    </tr>\n",
       "    <tr>\n",
       "      <th>2829</th>\n",
       "      <td>MainScreenAppear</td>\n",
       "      <td>3737462046622621720</td>\n",
       "      <td>2019-08-01 00:08:00</td>\n",
       "      <td>246</td>\n",
       "      <td>2019-08-01</td>\n",
       "      <td>32.0</td>\n",
       "    </tr>\n",
       "    <tr>\n",
       "      <th>2830</th>\n",
       "      <td>MainScreenAppear</td>\n",
       "      <td>3737462046622621720</td>\n",
       "      <td>2019-08-01 00:08:55</td>\n",
       "      <td>246</td>\n",
       "      <td>2019-08-01</td>\n",
       "      <td>55.0</td>\n",
       "    </tr>\n",
       "    <tr>\n",
       "      <th>2831</th>\n",
       "      <td>OffersScreenAppear</td>\n",
       "      <td>3737462046622621720</td>\n",
       "      <td>2019-08-01 00:08:58</td>\n",
       "      <td>246</td>\n",
       "      <td>2019-08-01</td>\n",
       "      <td>3.0</td>\n",
       "    </tr>\n",
       "    <tr>\n",
       "      <th>2834</th>\n",
       "      <td>OffersScreenAppear</td>\n",
       "      <td>3737462046622621720</td>\n",
       "      <td>2019-08-01 00:10:26</td>\n",
       "      <td>246</td>\n",
       "      <td>2019-08-01</td>\n",
       "      <td>88.0</td>\n",
       "    </tr>\n",
       "    <tr>\n",
       "      <th>...</th>\n",
       "      <td>...</td>\n",
       "      <td>...</td>\n",
       "      <td>...</td>\n",
       "      <td>...</td>\n",
       "      <td>...</td>\n",
       "      <td>...</td>\n",
       "    </tr>\n",
       "    <tr>\n",
       "      <th>244120</th>\n",
       "      <td>MainScreenAppear</td>\n",
       "      <td>5746969938801999050</td>\n",
       "      <td>2019-08-07 21:12:11</td>\n",
       "      <td>246</td>\n",
       "      <td>2019-08-07</td>\n",
       "      <td>16.0</td>\n",
       "    </tr>\n",
       "    <tr>\n",
       "      <th>244122</th>\n",
       "      <td>MainScreenAppear</td>\n",
       "      <td>5849806612437486590</td>\n",
       "      <td>2019-08-07 21:13:59</td>\n",
       "      <td>246</td>\n",
       "      <td>2019-08-07</td>\n",
       "      <td>240.0</td>\n",
       "    </tr>\n",
       "    <tr>\n",
       "      <th>244123</th>\n",
       "      <td>MainScreenAppear</td>\n",
       "      <td>5746969938801999050</td>\n",
       "      <td>2019-08-07 21:14:43</td>\n",
       "      <td>246</td>\n",
       "      <td>2019-08-07</td>\n",
       "      <td>152.0</td>\n",
       "    </tr>\n",
       "    <tr>\n",
       "      <th>244124</th>\n",
       "      <td>MainScreenAppear</td>\n",
       "      <td>5746969938801999050</td>\n",
       "      <td>2019-08-07 21:14:58</td>\n",
       "      <td>246</td>\n",
       "      <td>2019-08-07</td>\n",
       "      <td>15.0</td>\n",
       "    </tr>\n",
       "    <tr>\n",
       "      <th>244125</th>\n",
       "      <td>OffersScreenAppear</td>\n",
       "      <td>5746969938801999050</td>\n",
       "      <td>2019-08-07 21:15:17</td>\n",
       "      <td>246</td>\n",
       "      <td>2019-08-07</td>\n",
       "      <td>19.0</td>\n",
       "    </tr>\n",
       "  </tbody>\n",
       "</table>\n",
       "<p>79302 rows × 6 columns</p>\n",
       "</div>"
      ],
      "text/plain": [
       "                    evento               userId             fechahr  expId  \\\n",
       "2828              Tutorial  3737462046622621720 2019-08-01 00:07:28    246   \n",
       "2829      MainScreenAppear  3737462046622621720 2019-08-01 00:08:00    246   \n",
       "2830      MainScreenAppear  3737462046622621720 2019-08-01 00:08:55    246   \n",
       "2831    OffersScreenAppear  3737462046622621720 2019-08-01 00:08:58    246   \n",
       "2834    OffersScreenAppear  3737462046622621720 2019-08-01 00:10:26    246   \n",
       "...                    ...                  ...                 ...    ...   \n",
       "244120    MainScreenAppear  5746969938801999050 2019-08-07 21:12:11    246   \n",
       "244122    MainScreenAppear  5849806612437486590 2019-08-07 21:13:59    246   \n",
       "244123    MainScreenAppear  5746969938801999050 2019-08-07 21:14:43    246   \n",
       "244124    MainScreenAppear  5746969938801999050 2019-08-07 21:14:58    246   \n",
       "244125  OffersScreenAppear  5746969938801999050 2019-08-07 21:15:17    246   \n",
       "\n",
       "            fecha  dif_segundos  \n",
       "2828   2019-08-01           NaN  \n",
       "2829   2019-08-01          32.0  \n",
       "2830   2019-08-01          55.0  \n",
       "2831   2019-08-01           3.0  \n",
       "2834   2019-08-01          88.0  \n",
       "...           ...           ...  \n",
       "244120 2019-08-07          16.0  \n",
       "244122 2019-08-07         240.0  \n",
       "244123 2019-08-07         152.0  \n",
       "244124 2019-08-07          15.0  \n",
       "244125 2019-08-07          19.0  \n",
       "\n",
       "[79302 rows x 6 columns]"
      ]
     },
     "execution_count": 42,
     "metadata": {},
     "output_type": "execute_result"
    }
   ],
   "source": [
    "exp246"
   ]
  },
  {
   "cell_type": "code",
   "execution_count": 43,
   "metadata": {},
   "outputs": [],
   "source": [
    "umbral = 9894.85"
   ]
  },
  {
   "cell_type": "code",
   "execution_count": 44,
   "metadata": {},
   "outputs": [],
   "source": [
    "# Creación de una función para contar los écitos y el tamaño de la muestra.\n",
    "\n",
    "def contar_exitos (muestra, umbral):\n",
    "    # Contar los éxitos (valores mayores al umbral)\n",
    "    exitos = (muestra > umbral).sum()\n",
    "    return exitos, len(muestra)"
   ]
  },
  {
   "cell_type": "code",
   "execution_count": 45,
   "metadata": {},
   "outputs": [],
   "source": [
    "x1, n1 = contar_exitos(muestra246, umbral)\n",
    "x2, n2 = contar_exitos(muestra247, umbral)\n",
    "x3, n3 = contar_exitos(muestra248, umbral)"
   ]
  },
  {
   "cell_type": "code",
   "execution_count": 46,
   "metadata": {},
   "outputs": [
    {
     "name": "stdout",
     "output_type": "stream",
     "text": [
      "Comparación muestra246 vs muestra247:\n",
      "Estadístico Z: -4.8664929885297346, Valor p: 1.1359595164588794e-06\n",
      "\n",
      "Comparación muestra246 vs muestra248:\n",
      "Estadístico Z: 2.3718407079466726, Valor p: 0.017699719624097797\n",
      "\n",
      "Comparación muestra247 vs muestra248:\n",
      "Estadístico Z: 7.30205056757418, Valor p: 2.834147050497471e-13\n",
      "\n"
     ]
    }
   ],
   "source": [
    "# Se realiza la prueba de proporciones entre las muestras\n",
    "# Comparar muestra246 y muestra247.\n",
    "count_12 = [x1, x2]\n",
    "nobs_12 = [n1, n2]\n",
    "z_stat_12, p_value_12 = proportions_ztest(count_12, nobs_12)\n",
    "\n",
    "# Comparar muestra246 y muestra248.\n",
    "count_13 = [x1, x3]\n",
    "nobs_13 = [n1, n3]\n",
    "z_stat_13, p_value_13 = proportions_ztest(count_13, nobs_13)\n",
    "\n",
    "# Comparar muestra247 y muestra248.\n",
    "count_23 = [x2, x3]\n",
    "nobs_23 = [n2, n3]\n",
    "z_stat_23, p_value_23 = proportions_ztest(count_23, nobs_23)\n",
    "\n",
    "print(f\"Comparación muestra246 vs muestra247:\")\n",
    "print(f\"Estadístico Z: {z_stat_12}, Valor p: {p_value_12}\\n\")\n",
    "\n",
    "print(f\"Comparación muestra246 vs muestra248:\")\n",
    "print(f\"Estadístico Z: {z_stat_13}, Valor p: {p_value_13}\\n\")\n",
    "\n",
    "print(f\"Comparación muestra247 vs muestra248:\")\n",
    "print(f\"Estadístico Z: {z_stat_23}, Valor p: {p_value_23}\\n\")"
   ]
  },
  {
   "cell_type": "code",
   "execution_count": 47,
   "metadata": {},
   "outputs": [
    {
     "name": "stdout",
     "output_type": "stream",
     "text": [
      "Rechazamos la hipótesis nula, las proporciones no son iguales.\n"
     ]
    }
   ],
   "source": [
    "alpha = 0.05\n",
    "if p_value_12 < alpha:\n",
    "    print(f\"Rechazamos la hipótesis nula, las proporciones no son iguales.\")\n",
    "else:\n",
    "    print(f\"No podemos rechazar la hipótesis nula, las proporciones son iguales.\")"
   ]
  },
  {
   "cell_type": "markdown",
   "metadata": {},
   "source": [
    "Se realizaron dos pruebas una con el umbral de 10 segundos y otra de 30 segundos y en ambas se tuvo que rechazar la hipótesis nula debido a que las proporciones no son iguales, de igual manera se realizo una con el promedio 9894.85 y se tuvo que rechazar la hipotesis nula."
   ]
  },
  {
   "cell_type": "code",
   "execution_count": 48,
   "metadata": {},
   "outputs": [],
   "source": [
    "# Función de prueba estadística para comparar si existe diferencia significativa entre los tiempos de los experimentos(mannwhitneyu).\n",
    "\n",
    "def checar_diferencias_estadisticas_significativas(datos1, datos2):\n",
    "    \n",
    "    u_stats, p_value = st.mannwhitneyu(datos1, datos2)\n",
    "    print(f'Estadistico U: {u_stats}')\n",
    "    print(f'p-value: {p_value}')\n",
    "    if p_value < 0.05:\n",
    "        print('Existen diferencias estadisticamente significativas entre los grupos.')\n",
    "    else:\n",
    "        print('No existen diferencias estadisticamente significativas entre los grupos.')"
   ]
  },
  {
   "cell_type": "code",
   "execution_count": 49,
   "metadata": {},
   "outputs": [
    {
     "name": "stdout",
     "output_type": "stream",
     "text": [
      "Estadistico U: 2763932369.5\n",
      "p-value: 9.15209883991746e-31\n",
      "Existen diferencias estadisticamente significativas entre los grupos.\n"
     ]
    }
   ],
   "source": [
    "checar_diferencias_estadisticas_significativas(muestra246, muestra247)"
   ]
  },
  {
   "cell_type": "code",
   "execution_count": 50,
   "metadata": {},
   "outputs": [],
   "source": [
    "experimento246 = exp246.dropna()\n",
    "experimento247 = exp247.dropna()\n",
    "experimento248 = exp248.dropna()"
   ]
  },
  {
   "cell_type": "code",
   "execution_count": 51,
   "metadata": {},
   "outputs": [],
   "source": [
    "def procesar_datos(datos):\n",
    "    # Paso 1: Agrupar por 'evento' y contar los 'userId' únicos.\n",
    "    embudo = datos.groupby('evento')['userId'].nunique().reset_index()\n",
    "    \n",
    "    # Paso 2: Ordenar por la columna 'userId' de forma descendente.\n",
    "    embudo = embudo.sort_values(by = 'userId', ascending = False)\n",
    "    \n",
    "    # Paso 3: Renombrar las columnas.\n",
    "    embudo.columns = ['evento', 'usuarios_unicos']\n",
    "    \n",
    "    # Paso 4: Calcular el porcentaje de usuarios únicos.\n",
    "    embudo['porcentaje'] = round((embudo['usuarios_unicos'] / datos['userId'].nunique())*100, 2)\n",
    "    \n",
    "    # Paso 5: Calcular la cantidad de usuarios que no pasaron de una etapa a otra.\n",
    "    embudo['usuarios_fuera'] = embudo['usuarios_unicos'] - embudo['usuarios_unicos'].shift().fillna(0)\n",
    "    embudo['usuarios_fuera'] = embudo['usuarios_fuera'].abs()\n",
    "    \n",
    "    return embudo"
   ]
  },
  {
   "cell_type": "code",
   "execution_count": 52,
   "metadata": {},
   "outputs": [
    {
     "data": {
      "text/html": [
       "<div>\n",
       "<style scoped>\n",
       "    .dataframe tbody tr th:only-of-type {\n",
       "        vertical-align: middle;\n",
       "    }\n",
       "\n",
       "    .dataframe tbody tr th {\n",
       "        vertical-align: top;\n",
       "    }\n",
       "\n",
       "    .dataframe thead th {\n",
       "        text-align: right;\n",
       "    }\n",
       "</style>\n",
       "<table border=\"1\" class=\"dataframe\">\n",
       "  <thead>\n",
       "    <tr style=\"text-align: right;\">\n",
       "      <th></th>\n",
       "      <th>evento</th>\n",
       "      <th>usuarios_unicos</th>\n",
       "      <th>porcentaje</th>\n",
       "      <th>usuarios_fuera</th>\n",
       "    </tr>\n",
       "  </thead>\n",
       "  <tbody>\n",
       "    <tr>\n",
       "      <th>1</th>\n",
       "      <td>MainScreenAppear</td>\n",
       "      <td>2395</td>\n",
       "      <td>97.83</td>\n",
       "      <td>2395.0</td>\n",
       "    </tr>\n",
       "    <tr>\n",
       "      <th>2</th>\n",
       "      <td>OffersScreenAppear</td>\n",
       "      <td>1535</td>\n",
       "      <td>62.70</td>\n",
       "      <td>860.0</td>\n",
       "    </tr>\n",
       "    <tr>\n",
       "      <th>0</th>\n",
       "      <td>CartScreenAppear</td>\n",
       "      <td>1264</td>\n",
       "      <td>51.63</td>\n",
       "      <td>271.0</td>\n",
       "    </tr>\n",
       "    <tr>\n",
       "      <th>3</th>\n",
       "      <td>PaymentScreenSuccessful</td>\n",
       "      <td>1195</td>\n",
       "      <td>48.82</td>\n",
       "      <td>69.0</td>\n",
       "    </tr>\n",
       "    <tr>\n",
       "      <th>4</th>\n",
       "      <td>Tutorial</td>\n",
       "      <td>43</td>\n",
       "      <td>1.76</td>\n",
       "      <td>1152.0</td>\n",
       "    </tr>\n",
       "  </tbody>\n",
       "</table>\n",
       "</div>"
      ],
      "text/plain": [
       "                    evento  usuarios_unicos  porcentaje  usuarios_fuera\n",
       "1         MainScreenAppear             2395       97.83          2395.0\n",
       "2       OffersScreenAppear             1535       62.70           860.0\n",
       "0         CartScreenAppear             1264       51.63           271.0\n",
       "3  PaymentScreenSuccessful             1195       48.82            69.0\n",
       "4                 Tutorial               43        1.76          1152.0"
      ]
     },
     "execution_count": 52,
     "metadata": {},
     "output_type": "execute_result"
    }
   ],
   "source": [
    "procesar_datos(experimento246)"
   ]
  },
  {
   "cell_type": "code",
   "execution_count": 53,
   "metadata": {},
   "outputs": [
    {
     "data": {
      "text/html": [
       "<div>\n",
       "<style scoped>\n",
       "    .dataframe tbody tr th:only-of-type {\n",
       "        vertical-align: middle;\n",
       "    }\n",
       "\n",
       "    .dataframe tbody tr th {\n",
       "        vertical-align: top;\n",
       "    }\n",
       "\n",
       "    .dataframe thead th {\n",
       "        text-align: right;\n",
       "    }\n",
       "</style>\n",
       "<table border=\"1\" class=\"dataframe\">\n",
       "  <thead>\n",
       "    <tr style=\"text-align: right;\">\n",
       "      <th></th>\n",
       "      <th>evento</th>\n",
       "      <th>usuarios_unicos</th>\n",
       "      <th>porcentaje</th>\n",
       "      <th>usuarios_fuera</th>\n",
       "    </tr>\n",
       "  </thead>\n",
       "  <tbody>\n",
       "    <tr>\n",
       "      <th>1</th>\n",
       "      <td>MainScreenAppear</td>\n",
       "      <td>2417</td>\n",
       "      <td>97.74</td>\n",
       "      <td>2417.0</td>\n",
       "    </tr>\n",
       "    <tr>\n",
       "      <th>2</th>\n",
       "      <td>OffersScreenAppear</td>\n",
       "      <td>1513</td>\n",
       "      <td>61.18</td>\n",
       "      <td>904.0</td>\n",
       "    </tr>\n",
       "    <tr>\n",
       "      <th>0</th>\n",
       "      <td>CartScreenAppear</td>\n",
       "      <td>1238</td>\n",
       "      <td>50.06</td>\n",
       "      <td>275.0</td>\n",
       "    </tr>\n",
       "    <tr>\n",
       "      <th>3</th>\n",
       "      <td>PaymentScreenSuccessful</td>\n",
       "      <td>1157</td>\n",
       "      <td>46.79</td>\n",
       "      <td>81.0</td>\n",
       "    </tr>\n",
       "    <tr>\n",
       "      <th>4</th>\n",
       "      <td>Tutorial</td>\n",
       "      <td>43</td>\n",
       "      <td>1.74</td>\n",
       "      <td>1114.0</td>\n",
       "    </tr>\n",
       "  </tbody>\n",
       "</table>\n",
       "</div>"
      ],
      "text/plain": [
       "                    evento  usuarios_unicos  porcentaje  usuarios_fuera\n",
       "1         MainScreenAppear             2417       97.74          2417.0\n",
       "2       OffersScreenAppear             1513       61.18           904.0\n",
       "0         CartScreenAppear             1238       50.06           275.0\n",
       "3  PaymentScreenSuccessful             1157       46.79            81.0\n",
       "4                 Tutorial               43        1.74          1114.0"
      ]
     },
     "execution_count": 53,
     "metadata": {},
     "output_type": "execute_result"
    }
   ],
   "source": [
    "procesar_datos(experimento247)"
   ]
  },
  {
   "cell_type": "code",
   "execution_count": 54,
   "metadata": {},
   "outputs": [
    {
     "data": {
      "text/html": [
       "<div>\n",
       "<style scoped>\n",
       "    .dataframe tbody tr th:only-of-type {\n",
       "        vertical-align: middle;\n",
       "    }\n",
       "\n",
       "    .dataframe tbody tr th {\n",
       "        vertical-align: top;\n",
       "    }\n",
       "\n",
       "    .dataframe thead th {\n",
       "        text-align: right;\n",
       "    }\n",
       "</style>\n",
       "<table border=\"1\" class=\"dataframe\">\n",
       "  <thead>\n",
       "    <tr style=\"text-align: right;\">\n",
       "      <th></th>\n",
       "      <th>evento</th>\n",
       "      <th>usuarios_unicos</th>\n",
       "      <th>porcentaje</th>\n",
       "      <th>usuarios_fuera</th>\n",
       "    </tr>\n",
       "  </thead>\n",
       "  <tbody>\n",
       "    <tr>\n",
       "      <th>1</th>\n",
       "      <td>MainScreenAppear</td>\n",
       "      <td>2424</td>\n",
       "      <td>97.19</td>\n",
       "      <td>2424.0</td>\n",
       "    </tr>\n",
       "    <tr>\n",
       "      <th>2</th>\n",
       "      <td>OffersScreenAppear</td>\n",
       "      <td>1523</td>\n",
       "      <td>61.07</td>\n",
       "      <td>901.0</td>\n",
       "    </tr>\n",
       "    <tr>\n",
       "      <th>0</th>\n",
       "      <td>CartScreenAppear</td>\n",
       "      <td>1229</td>\n",
       "      <td>49.28</td>\n",
       "      <td>294.0</td>\n",
       "    </tr>\n",
       "    <tr>\n",
       "      <th>3</th>\n",
       "      <td>PaymentScreenSuccessful</td>\n",
       "      <td>1174</td>\n",
       "      <td>47.07</td>\n",
       "      <td>55.0</td>\n",
       "    </tr>\n",
       "    <tr>\n",
       "      <th>4</th>\n",
       "      <td>Tutorial</td>\n",
       "      <td>47</td>\n",
       "      <td>1.88</td>\n",
       "      <td>1127.0</td>\n",
       "    </tr>\n",
       "  </tbody>\n",
       "</table>\n",
       "</div>"
      ],
      "text/plain": [
       "                    evento  usuarios_unicos  porcentaje  usuarios_fuera\n",
       "1         MainScreenAppear             2424       97.19          2424.0\n",
       "2       OffersScreenAppear             1523       61.07           901.0\n",
       "0         CartScreenAppear             1229       49.28           294.0\n",
       "3  PaymentScreenSuccessful             1174       47.07            55.0\n",
       "4                 Tutorial               47        1.88          1127.0"
      ]
     },
     "execution_count": 54,
     "metadata": {},
     "output_type": "execute_result"
    }
   ],
   "source": [
    "procesar_datos(experimento248)"
   ]
  },
  {
   "cell_type": "code",
   "execution_count": 55,
   "metadata": {},
   "outputs": [
    {
     "name": "stdout",
     "output_type": "stream",
     "text": [
      "Estadistico U: 2763932369.5\n",
      "p-value: 9.15209883991746e-31\n",
      "Existen diferencias estadisticamente significativas entre los grupos.\n"
     ]
    }
   ],
   "source": [
    "checar_diferencias_estadisticas_significativas(experimento246['dif_segundos'], experimento247['dif_segundos'])"
   ]
  },
  {
   "cell_type": "code",
   "execution_count": 56,
   "metadata": {},
   "outputs": [
    {
     "name": "stdout",
     "output_type": "stream",
     "text": [
      "Estadistico U: 3113389293.0\n",
      "p-value: 4.677242456686569e-05\n",
      "Existen diferencias estadisticamente significativas entre los grupos.\n"
     ]
    }
   ],
   "source": [
    "checar_diferencias_estadisticas_significativas(experimento246['dif_segundos'], experimento248['dif_segundos'])"
   ]
  },
  {
   "cell_type": "code",
   "execution_count": 57,
   "metadata": {
    "scrolled": true
   },
   "outputs": [
    {
     "name": "stdout",
     "output_type": "stream",
     "text": [
      "Estadistico U: 3126030895.5\n",
      "p-value: 3.615170339938529e-15\n",
      "Existen diferencias estadisticamente significativas entre los grupos.\n"
     ]
    }
   ],
   "source": [
    "checar_diferencias_estadisticas_significativas(experimento247['dif_segundos'], experimento248['dif_segundos'])"
   ]
  },
  {
   "cell_type": "code",
   "execution_count": 58,
   "metadata": {},
   "outputs": [
    {
     "data": {
      "image/png": "[encoded data removed]",
      "text/plain": [
       "<Figure size 1900x500 with 3 Axes>"
      ]
     },
     "metadata": {},
     "output_type": "display_data"
    }
   ],
   "source": [
    "fig, ax = plt.subplots(1,3, figsize = (19, 5))\n",
    "\n",
    "ax[0].hist(experimento246['fechahr'], bins = 100, color = 'skyblue')\n",
    "ax[0].set(title = 'Frecuencia del experimento 246', xlabel = 'Día', ylabel = 'Usuarios')\n",
    "ax[1].hist(experimento247['fechahr'], bins = 100, color = 'green')\n",
    "ax[1].set(title = 'Frecuencia del experimento 247', xlabel = 'Día', ylabel = 'Usuarios')\n",
    "ax[2].hist(experimento248['fechahr'], bins = 100, color = 'red')\n",
    "ax[2].set(title = 'Frecuencia del experimento 248', xlabel = 'Día', ylabel = 'Usuarios')\n",
    "fig.autofmt_xdate(rotation = 30)\n",
    "plt.show()"
   ]
  },
  {
   "cell_type": "markdown",
   "metadata": {},
   "source": [
    "En base a las pruebas estadisticas realizadas se puede llegar a la conclusión de que no se tomaron las muestras de los grupos correctamente, ya que existen diferencias significativas entre los grupos de datos."
   ]
  },
  {
   "cell_type": "code",
   "execution_count": 59,
   "metadata": {},
   "outputs": [],
   "source": [
    "# Corrección del alpha mediante el método Sidak.\n",
    "\n",
    "alpha_corrected = 1 - (1 - 0.05) ** (1 / 3)"
   ]
  },
  {
   "cell_type": "code",
   "execution_count": 60,
   "metadata": {},
   "outputs": [],
   "source": [
    "# Función de prueba estadística para comparar si existe diferencia significativa entre los tiempos de los experimentos(mannwhitneyu).\n",
    "\n",
    "\n",
    "def checar_diferencias_estadisticas_significativas_alpha_corregido(datos1, datos2):\n",
    "    \n",
    "    u_stats, p_value = st.mannwhitneyu(datos1, datos2)\n",
    "    print(f'Estadistico U: {u_stats}')\n",
    "    print(f'p-value: {p_value}')\n",
    "    if p_value < alpha_corrected:\n",
    "        print('Existen diferencias estadisticamente significativas entre los grupos.')\n",
    "    else:\n",
    "        print('No existen diferencias estadisticamente significativas entre los grupos.')"
   ]
  },
  {
   "cell_type": "code",
   "execution_count": 61,
   "metadata": {},
   "outputs": [
    {
     "name": "stdout",
     "output_type": "stream",
     "text": [
      "Estadistico U: 2763932369.5\n",
      "p-value: 9.15209883991746e-31\n",
      "Existen diferencias estadisticamente significativas entre los grupos.\n"
     ]
    }
   ],
   "source": [
    "checar_diferencias_estadisticas_significativas_alpha_corregido(experimento246['dif_segundos'], experimento247['dif_segundos'])"
   ]
  },
  {
   "cell_type": "code",
   "execution_count": 62,
   "metadata": {},
   "outputs": [
    {
     "name": "stdout",
     "output_type": "stream",
     "text": [
      "Estadistico U: 3113389293.0\n",
      "p-value: 4.677242456686569e-05\n",
      "Existen diferencias estadisticamente significativas entre los grupos.\n"
     ]
    }
   ],
   "source": [
    "checar_diferencias_estadisticas_significativas_alpha_corregido(experimento246['dif_segundos'], experimento248['dif_segundos'])"
   ]
  },
  {
   "cell_type": "code",
   "execution_count": 63,
   "metadata": {},
   "outputs": [
    {
     "name": "stdout",
     "output_type": "stream",
     "text": [
      "Estadistico U: 3126030895.5\n",
      "p-value: 3.615170339938529e-15\n",
      "Existen diferencias estadisticamente significativas entre los grupos.\n"
     ]
    }
   ],
   "source": [
    "checar_diferencias_estadisticas_significativas_alpha_corregido(experimento247['dif_segundos'], experimento248['dif_segundos'])"
   ]
  },
  {
   "cell_type": "markdown",
   "metadata": {},
   "source": [
    "Se le realizo la corrección del alpha para las pruebas estadísticas mediante el método Sidak y se puede llegar a la conclusión de que no se tomaron las muestras de los grupos correctamente, ya que existen diferencias significativas entre los grupos de datos."
   ]
  }
 ],
 "metadata": {
  "ExecuteTimeLog": [
   {
    "duration": 2642,
    "start_time": "2025-03-05T02:01:43.774Z"
   },
   {
    "duration": 707,
    "start_time": "2025-03-05T02:01:46.418Z"
   },
   {
    "duration": 0,
    "start_time": "2025-03-05T02:01:47.129Z"
   },
   {
    "duration": 0,
    "start_time": "2025-03-05T02:01:47.131Z"
   },
   {
    "duration": 0,
    "start_time": "2025-03-05T02:01:47.142Z"
   },
   {
    "duration": 0,
    "start_time": "2025-03-05T02:01:47.144Z"
   },
   {
    "duration": 0,
    "start_time": "2025-03-05T02:01:47.146Z"
   },
   {
    "duration": 0,
    "start_time": "2025-03-05T02:01:47.147Z"
   },
   {
    "duration": 0,
    "start_time": "2025-03-05T02:01:47.148Z"
   },
   {
    "duration": 0,
    "start_time": "2025-03-05T02:01:47.149Z"
   },
   {
    "duration": 0,
    "start_time": "2025-03-05T02:01:47.151Z"
   },
   {
    "duration": 0,
    "start_time": "2025-03-05T02:01:47.152Z"
   },
   {
    "duration": 0,
    "start_time": "2025-03-05T02:01:47.153Z"
   },
   {
    "duration": 0,
    "start_time": "2025-03-05T02:01:47.154Z"
   },
   {
    "duration": 0,
    "start_time": "2025-03-05T02:01:47.155Z"
   },
   {
    "duration": 0,
    "start_time": "2025-03-05T02:01:47.158Z"
   },
   {
    "duration": 0,
    "start_time": "2025-03-05T02:01:47.159Z"
   },
   {
    "duration": 0,
    "start_time": "2025-03-05T02:01:47.160Z"
   },
   {
    "duration": 0,
    "start_time": "2025-03-05T02:01:47.162Z"
   },
   {
    "duration": 0,
    "start_time": "2025-03-05T02:01:47.163Z"
   },
   {
    "duration": 0,
    "start_time": "2025-03-05T02:01:47.164Z"
   },
   {
    "duration": 0,
    "start_time": "2025-03-05T02:01:47.165Z"
   },
   {
    "duration": 0,
    "start_time": "2025-03-05T02:01:47.166Z"
   },
   {
    "duration": 0,
    "start_time": "2025-03-05T02:01:47.167Z"
   },
   {
    "duration": 0,
    "start_time": "2025-03-05T02:01:47.171Z"
   },
   {
    "duration": 0,
    "start_time": "2025-03-05T02:01:47.172Z"
   },
   {
    "duration": 0,
    "start_time": "2025-03-05T02:01:47.174Z"
   },
   {
    "duration": 0,
    "start_time": "2025-03-05T02:01:47.175Z"
   },
   {
    "duration": 0,
    "start_time": "2025-03-05T02:01:47.176Z"
   },
   {
    "duration": 0,
    "start_time": "2025-03-05T02:01:47.176Z"
   },
   {
    "duration": 0,
    "start_time": "2025-03-05T02:01:47.177Z"
   },
   {
    "duration": 0,
    "start_time": "2025-03-05T02:01:47.178Z"
   },
   {
    "duration": 0,
    "start_time": "2025-03-05T02:01:47.179Z"
   },
   {
    "duration": 0,
    "start_time": "2025-03-05T02:01:47.180Z"
   },
   {
    "duration": 0,
    "start_time": "2025-03-05T02:01:47.180Z"
   },
   {
    "duration": 0,
    "start_time": "2025-03-05T02:01:47.184Z"
   },
   {
    "duration": 0,
    "start_time": "2025-03-05T02:01:47.185Z"
   },
   {
    "duration": 0,
    "start_time": "2025-03-05T02:01:47.186Z"
   },
   {
    "duration": 0,
    "start_time": "2025-03-05T02:01:47.242Z"
   },
   {
    "duration": 0,
    "start_time": "2025-03-05T02:01:47.244Z"
   },
   {
    "duration": 0,
    "start_time": "2025-03-05T02:01:47.246Z"
   },
   {
    "duration": 0,
    "start_time": "2025-03-05T02:01:47.248Z"
   },
   {
    "duration": 0,
    "start_time": "2025-03-05T02:01:47.249Z"
   },
   {
    "duration": 0,
    "start_time": "2025-03-05T02:01:47.251Z"
   },
   {
    "duration": 0,
    "start_time": "2025-03-05T02:01:47.252Z"
   },
   {
    "duration": 0,
    "start_time": "2025-03-05T02:01:47.253Z"
   },
   {
    "duration": 0,
    "start_time": "2025-03-05T02:01:47.255Z"
   },
   {
    "duration": 0,
    "start_time": "2025-03-05T02:01:47.257Z"
   },
   {
    "duration": 0,
    "start_time": "2025-03-05T02:01:47.258Z"
   },
   {
    "duration": 0,
    "start_time": "2025-03-05T02:01:47.260Z"
   },
   {
    "duration": 0,
    "start_time": "2025-03-05T02:01:47.261Z"
   },
   {
    "duration": 146,
    "start_time": "2025-03-05T02:02:20.837Z"
   },
   {
    "duration": 3,
    "start_time": "2025-03-05T02:02:25.790Z"
   },
   {
    "duration": 101,
    "start_time": "2025-03-05T02:02:25.795Z"
   },
   {
    "duration": 4,
    "start_time": "2025-03-05T02:02:25.898Z"
   },
   {
    "duration": 42,
    "start_time": "2025-03-05T02:02:25.903Z"
   },
   {
    "duration": 2,
    "start_time": "2025-03-05T02:02:25.948Z"
   },
   {
    "duration": 5,
    "start_time": "2025-03-05T02:02:25.952Z"
   },
   {
    "duration": 83,
    "start_time": "2025-03-05T02:02:25.960Z"
   },
   {
    "duration": 16,
    "start_time": "2025-03-05T02:02:26.044Z"
   },
   {
    "duration": 13,
    "start_time": "2025-03-05T02:02:26.062Z"
   },
   {
    "duration": 101,
    "start_time": "2025-03-05T02:02:26.077Z"
   },
   {
    "duration": 3,
    "start_time": "2025-03-05T02:02:26.179Z"
   },
   {
    "duration": 75,
    "start_time": "2025-03-05T02:02:26.184Z"
   },
   {
    "duration": 30,
    "start_time": "2025-03-05T02:02:26.261Z"
   },
   {
    "duration": 385,
    "start_time": "2025-03-05T02:02:26.294Z"
   },
   {
    "duration": 8,
    "start_time": "2025-03-05T02:02:26.681Z"
   },
   {
    "duration": 67,
    "start_time": "2025-03-05T02:02:26.691Z"
   },
   {
    "duration": 41,
    "start_time": "2025-03-05T02:02:26.760Z"
   },
   {
    "duration": 3,
    "start_time": "2025-03-05T02:02:26.803Z"
   },
   {
    "duration": 37,
    "start_time": "2025-03-05T02:02:26.807Z"
   },
   {
    "duration": 329,
    "start_time": "2025-03-05T02:02:26.846Z"
   },
   {
    "duration": 294,
    "start_time": "2025-03-05T02:02:27.176Z"
   },
   {
    "duration": 0,
    "start_time": "2025-03-05T02:02:27.472Z"
   },
   {
    "duration": 0,
    "start_time": "2025-03-05T02:02:27.474Z"
   },
   {
    "duration": 0,
    "start_time": "2025-03-05T02:02:27.475Z"
   },
   {
    "duration": 0,
    "start_time": "2025-03-05T02:02:27.476Z"
   },
   {
    "duration": 0,
    "start_time": "2025-03-05T02:02:27.478Z"
   },
   {
    "duration": 0,
    "start_time": "2025-03-05T02:02:27.479Z"
   },
   {
    "duration": 0,
    "start_time": "2025-03-05T02:02:27.480Z"
   },
   {
    "duration": 0,
    "start_time": "2025-03-05T02:02:27.481Z"
   },
   {
    "duration": 0,
    "start_time": "2025-03-05T02:02:27.483Z"
   },
   {
    "duration": 0,
    "start_time": "2025-03-05T02:02:27.484Z"
   },
   {
    "duration": 0,
    "start_time": "2025-03-05T02:02:27.485Z"
   },
   {
    "duration": 0,
    "start_time": "2025-03-05T02:02:27.486Z"
   },
   {
    "duration": 0,
    "start_time": "2025-03-05T02:02:27.488Z"
   },
   {
    "duration": 1,
    "start_time": "2025-03-05T02:02:27.490Z"
   },
   {
    "duration": 0,
    "start_time": "2025-03-05T02:02:27.492Z"
   },
   {
    "duration": 0,
    "start_time": "2025-03-05T02:02:27.493Z"
   },
   {
    "duration": 0,
    "start_time": "2025-03-05T02:02:27.494Z"
   },
   {
    "duration": 0,
    "start_time": "2025-03-05T02:02:27.496Z"
   },
   {
    "duration": 0,
    "start_time": "2025-03-05T02:02:27.497Z"
   },
   {
    "duration": 0,
    "start_time": "2025-03-05T02:02:27.498Z"
   },
   {
    "duration": 0,
    "start_time": "2025-03-05T02:02:27.644Z"
   },
   {
    "duration": 0,
    "start_time": "2025-03-05T02:02:27.645Z"
   },
   {
    "duration": 0,
    "start_time": "2025-03-05T02:02:27.646Z"
   },
   {
    "duration": 0,
    "start_time": "2025-03-05T02:02:27.648Z"
   },
   {
    "duration": 0,
    "start_time": "2025-03-05T02:02:27.649Z"
   },
   {
    "duration": 0,
    "start_time": "2025-03-05T02:02:27.649Z"
   },
   {
    "duration": 0,
    "start_time": "2025-03-05T02:02:27.650Z"
   },
   {
    "duration": 0,
    "start_time": "2025-03-05T02:02:27.651Z"
   },
   {
    "duration": 0,
    "start_time": "2025-03-05T02:02:27.652Z"
   },
   {
    "duration": 0,
    "start_time": "2025-03-05T02:02:27.653Z"
   },
   {
    "duration": 11,
    "start_time": "2025-03-05T02:02:38.770Z"
   },
   {
    "duration": 14,
    "start_time": "2025-03-05T02:02:39.492Z"
   },
   {
    "duration": 5,
    "start_time": "2025-03-05T02:02:39.651Z"
   },
   {
    "duration": 14,
    "start_time": "2025-03-05T02:02:39.817Z"
   },
   {
    "duration": 17,
    "start_time": "2025-03-05T02:02:40.009Z"
   },
   {
    "duration": 7,
    "start_time": "2025-03-05T02:02:40.199Z"
   },
   {
    "duration": 28,
    "start_time": "2025-03-05T02:02:40.560Z"
   },
   {
    "duration": 46,
    "start_time": "2025-03-05T02:02:40.755Z"
   },
   {
    "duration": 43,
    "start_time": "2025-03-05T02:02:40.929Z"
   },
   {
    "duration": 7,
    "start_time": "2025-03-05T02:02:41.795Z"
   },
   {
    "duration": 44,
    "start_time": "2025-03-05T02:02:41.996Z"
   },
   {
    "duration": 4,
    "start_time": "2025-03-05T02:02:42.575Z"
   },
   {
    "duration": 10,
    "start_time": "2025-03-05T02:02:43.261Z"
   },
   {
    "duration": 1171,
    "start_time": "2025-03-05T02:02:43.627Z"
   },
   {
    "duration": 1175,
    "start_time": "2025-03-05T02:02:44.800Z"
   },
   {
    "duration": 3,
    "start_time": "2025-03-05T02:02:45.976Z"
   },
   {
    "duration": 9,
    "start_time": "2025-03-05T02:02:45.981Z"
   },
   {
    "duration": 8,
    "start_time": "2025-03-05T02:02:45.991Z"
   },
   {
    "duration": 8,
    "start_time": "2025-03-05T02:02:46.002Z"
   },
   {
    "duration": 31,
    "start_time": "2025-03-05T02:02:46.012Z"
   },
   {
    "duration": 78,
    "start_time": "2025-03-05T02:02:46.044Z"
   },
   {
    "duration": 34,
    "start_time": "2025-03-05T02:02:46.123Z"
   },
   {
    "duration": 7,
    "start_time": "2025-03-05T02:02:46.160Z"
   },
   {
    "duration": 4,
    "start_time": "2025-03-05T02:02:46.169Z"
   },
   {
    "duration": 20,
    "start_time": "2025-03-05T02:02:46.174Z"
   },
   {
    "duration": 17,
    "start_time": "2025-03-05T02:02:46.196Z"
   },
   {
    "duration": 44,
    "start_time": "2025-03-05T02:02:46.216Z"
   },
   {
    "duration": 66,
    "start_time": "2025-03-05T02:02:46.387Z"
   },
   {
    "duration": 69,
    "start_time": "2025-03-05T02:02:47.187Z"
   },
   {
    "duration": 66,
    "start_time": "2025-03-05T02:02:47.659Z"
   },
   {
    "duration": 12,
    "start_time": "2025-03-05T17:58:36.246Z"
   },
   {
    "duration": 0,
    "start_time": "2025-03-05T17:58:36.260Z"
   },
   {
    "duration": 0,
    "start_time": "2025-03-05T17:58:36.261Z"
   },
   {
    "duration": 0,
    "start_time": "2025-03-05T17:58:36.262Z"
   },
   {
    "duration": 0,
    "start_time": "2025-03-05T17:58:36.263Z"
   },
   {
    "duration": 0,
    "start_time": "2025-03-05T17:58:36.264Z"
   },
   {
    "duration": 0,
    "start_time": "2025-03-05T17:58:36.265Z"
   },
   {
    "duration": 0,
    "start_time": "2025-03-05T17:58:36.267Z"
   },
   {
    "duration": 0,
    "start_time": "2025-03-05T17:58:36.268Z"
   },
   {
    "duration": 171,
    "start_time": "2025-03-05T17:58:36.271Z"
   },
   {
    "duration": 0,
    "start_time": "2025-03-05T17:58:36.445Z"
   },
   {
    "duration": 0,
    "start_time": "2025-03-05T17:58:36.446Z"
   },
   {
    "duration": 0,
    "start_time": "2025-03-05T17:58:36.447Z"
   },
   {
    "duration": 0,
    "start_time": "2025-03-05T17:58:36.448Z"
   },
   {
    "duration": 0,
    "start_time": "2025-03-05T17:58:36.449Z"
   },
   {
    "duration": 0,
    "start_time": "2025-03-05T17:58:36.451Z"
   },
   {
    "duration": 0,
    "start_time": "2025-03-05T17:58:36.452Z"
   },
   {
    "duration": 0,
    "start_time": "2025-03-05T17:58:36.454Z"
   },
   {
    "duration": 0,
    "start_time": "2025-03-05T17:58:36.456Z"
   },
   {
    "duration": 0,
    "start_time": "2025-03-05T17:58:36.458Z"
   },
   {
    "duration": 0,
    "start_time": "2025-03-05T17:58:36.459Z"
   },
   {
    "duration": 0,
    "start_time": "2025-03-05T17:58:36.461Z"
   },
   {
    "duration": 0,
    "start_time": "2025-03-05T17:58:36.462Z"
   },
   {
    "duration": 0,
    "start_time": "2025-03-05T17:58:36.463Z"
   },
   {
    "duration": 0,
    "start_time": "2025-03-05T17:58:36.465Z"
   },
   {
    "duration": 0,
    "start_time": "2025-03-05T17:58:36.466Z"
   },
   {
    "duration": 0,
    "start_time": "2025-03-05T17:58:36.467Z"
   },
   {
    "duration": 0,
    "start_time": "2025-03-05T17:58:36.468Z"
   },
   {
    "duration": 0,
    "start_time": "2025-03-05T17:58:36.469Z"
   },
   {
    "duration": 0,
    "start_time": "2025-03-05T17:58:36.507Z"
   },
   {
    "duration": 0,
    "start_time": "2025-03-05T17:58:36.508Z"
   },
   {
    "duration": 0,
    "start_time": "2025-03-05T17:58:36.509Z"
   },
   {
    "duration": 0,
    "start_time": "2025-03-05T17:58:36.510Z"
   },
   {
    "duration": 0,
    "start_time": "2025-03-05T17:58:36.511Z"
   },
   {
    "duration": 0,
    "start_time": "2025-03-05T17:58:36.512Z"
   },
   {
    "duration": 0,
    "start_time": "2025-03-05T17:58:36.513Z"
   },
   {
    "duration": 0,
    "start_time": "2025-03-05T17:58:36.514Z"
   },
   {
    "duration": 0,
    "start_time": "2025-03-05T17:58:36.515Z"
   },
   {
    "duration": 0,
    "start_time": "2025-03-05T17:58:36.516Z"
   },
   {
    "duration": 0,
    "start_time": "2025-03-05T17:58:36.517Z"
   },
   {
    "duration": 0,
    "start_time": "2025-03-05T17:58:36.518Z"
   },
   {
    "duration": 0,
    "start_time": "2025-03-05T17:58:36.519Z"
   },
   {
    "duration": 0,
    "start_time": "2025-03-05T17:58:36.519Z"
   },
   {
    "duration": 0,
    "start_time": "2025-03-05T17:58:36.520Z"
   },
   {
    "duration": 0,
    "start_time": "2025-03-05T17:58:36.523Z"
   },
   {
    "duration": 0,
    "start_time": "2025-03-05T17:58:36.523Z"
   },
   {
    "duration": 0,
    "start_time": "2025-03-05T17:58:36.525Z"
   },
   {
    "duration": 0,
    "start_time": "2025-03-05T17:58:36.526Z"
   },
   {
    "duration": 0,
    "start_time": "2025-03-05T17:58:36.526Z"
   },
   {
    "duration": 0,
    "start_time": "2025-03-05T17:58:36.527Z"
   },
   {
    "duration": 0,
    "start_time": "2025-03-05T17:58:36.528Z"
   },
   {
    "duration": 0,
    "start_time": "2025-03-05T17:58:36.529Z"
   },
   {
    "duration": 6,
    "start_time": "2025-03-05T18:00:08.226Z"
   },
   {
    "duration": 0,
    "start_time": "2025-03-05T18:00:08.234Z"
   },
   {
    "duration": 0,
    "start_time": "2025-03-05T18:00:08.235Z"
   },
   {
    "duration": 0,
    "start_time": "2025-03-05T18:00:08.237Z"
   },
   {
    "duration": 0,
    "start_time": "2025-03-05T18:00:08.238Z"
   },
   {
    "duration": 0,
    "start_time": "2025-03-05T18:00:08.240Z"
   },
   {
    "duration": 0,
    "start_time": "2025-03-05T18:00:08.241Z"
   },
   {
    "duration": 0,
    "start_time": "2025-03-05T18:00:08.242Z"
   },
   {
    "duration": 0,
    "start_time": "2025-03-05T18:00:08.245Z"
   },
   {
    "duration": 0,
    "start_time": "2025-03-05T18:00:08.246Z"
   },
   {
    "duration": 0,
    "start_time": "2025-03-05T18:00:08.247Z"
   },
   {
    "duration": 14,
    "start_time": "2025-03-05T18:00:08.251Z"
   },
   {
    "duration": 0,
    "start_time": "2025-03-05T18:00:08.267Z"
   },
   {
    "duration": 0,
    "start_time": "2025-03-05T18:00:08.268Z"
   },
   {
    "duration": 0,
    "start_time": "2025-03-05T18:00:08.270Z"
   },
   {
    "duration": 0,
    "start_time": "2025-03-05T18:00:08.271Z"
   },
   {
    "duration": 0,
    "start_time": "2025-03-05T18:00:08.272Z"
   },
   {
    "duration": 0,
    "start_time": "2025-03-05T18:00:08.306Z"
   },
   {
    "duration": 0,
    "start_time": "2025-03-05T18:00:08.307Z"
   },
   {
    "duration": 0,
    "start_time": "2025-03-05T18:00:08.308Z"
   },
   {
    "duration": 0,
    "start_time": "2025-03-05T18:00:08.309Z"
   },
   {
    "duration": 0,
    "start_time": "2025-03-05T18:00:08.310Z"
   },
   {
    "duration": 0,
    "start_time": "2025-03-05T18:00:08.311Z"
   },
   {
    "duration": 0,
    "start_time": "2025-03-05T18:00:08.311Z"
   },
   {
    "duration": 0,
    "start_time": "2025-03-05T18:00:08.312Z"
   },
   {
    "duration": 0,
    "start_time": "2025-03-05T18:00:08.313Z"
   },
   {
    "duration": 0,
    "start_time": "2025-03-05T18:00:08.315Z"
   },
   {
    "duration": 0,
    "start_time": "2025-03-05T18:00:08.316Z"
   },
   {
    "duration": 0,
    "start_time": "2025-03-05T18:00:08.316Z"
   },
   {
    "duration": 0,
    "start_time": "2025-03-05T18:00:08.318Z"
   },
   {
    "duration": 0,
    "start_time": "2025-03-05T18:00:08.319Z"
   },
   {
    "duration": 0,
    "start_time": "2025-03-05T18:00:08.321Z"
   },
   {
    "duration": 0,
    "start_time": "2025-03-05T18:00:08.323Z"
   },
   {
    "duration": 0,
    "start_time": "2025-03-05T18:00:08.325Z"
   },
   {
    "duration": 0,
    "start_time": "2025-03-05T18:00:08.327Z"
   },
   {
    "duration": 0,
    "start_time": "2025-03-05T18:00:08.329Z"
   },
   {
    "duration": 0,
    "start_time": "2025-03-05T18:00:08.330Z"
   },
   {
    "duration": 0,
    "start_time": "2025-03-05T18:00:08.332Z"
   },
   {
    "duration": 0,
    "start_time": "2025-03-05T18:00:08.333Z"
   },
   {
    "duration": 0,
    "start_time": "2025-03-05T18:00:08.334Z"
   },
   {
    "duration": 0,
    "start_time": "2025-03-05T18:00:08.334Z"
   },
   {
    "duration": 0,
    "start_time": "2025-03-05T18:00:08.336Z"
   },
   {
    "duration": 0,
    "start_time": "2025-03-05T18:00:08.336Z"
   },
   {
    "duration": 0,
    "start_time": "2025-03-05T18:00:08.337Z"
   },
   {
    "duration": 0,
    "start_time": "2025-03-05T18:00:08.338Z"
   },
   {
    "duration": 0,
    "start_time": "2025-03-05T18:00:08.339Z"
   },
   {
    "duration": 0,
    "start_time": "2025-03-05T18:00:08.341Z"
   },
   {
    "duration": 0,
    "start_time": "2025-03-05T18:00:08.342Z"
   },
   {
    "duration": 0,
    "start_time": "2025-03-05T18:00:08.406Z"
   },
   {
    "duration": 0,
    "start_time": "2025-03-05T18:00:08.408Z"
   },
   {
    "duration": 0,
    "start_time": "2025-03-05T18:00:08.410Z"
   },
   {
    "duration": 0,
    "start_time": "2025-03-05T18:00:08.411Z"
   },
   {
    "duration": 9,
    "start_time": "2025-03-05T18:00:16.486Z"
   },
   {
    "duration": 0,
    "start_time": "2025-03-05T18:00:16.497Z"
   },
   {
    "duration": 0,
    "start_time": "2025-03-05T18:00:16.499Z"
   },
   {
    "duration": 0,
    "start_time": "2025-03-05T18:00:16.500Z"
   },
   {
    "duration": 0,
    "start_time": "2025-03-05T18:00:16.501Z"
   },
   {
    "duration": 0,
    "start_time": "2025-03-05T18:00:16.502Z"
   },
   {
    "duration": 0,
    "start_time": "2025-03-05T18:00:16.504Z"
   },
   {
    "duration": 0,
    "start_time": "2025-03-05T18:00:16.505Z"
   },
   {
    "duration": 0,
    "start_time": "2025-03-05T18:00:16.506Z"
   },
   {
    "duration": 0,
    "start_time": "2025-03-05T18:00:16.508Z"
   },
   {
    "duration": 0,
    "start_time": "2025-03-05T18:00:16.510Z"
   },
   {
    "duration": 0,
    "start_time": "2025-03-05T18:00:16.511Z"
   },
   {
    "duration": 0,
    "start_time": "2025-03-05T18:00:16.512Z"
   },
   {
    "duration": 0,
    "start_time": "2025-03-05T18:00:16.513Z"
   },
   {
    "duration": 0,
    "start_time": "2025-03-05T18:00:16.515Z"
   },
   {
    "duration": 12,
    "start_time": "2025-03-05T18:00:16.519Z"
   },
   {
    "duration": 0,
    "start_time": "2025-03-05T18:00:16.533Z"
   },
   {
    "duration": 0,
    "start_time": "2025-03-05T18:00:16.535Z"
   },
   {
    "duration": 0,
    "start_time": "2025-03-05T18:00:16.536Z"
   },
   {
    "duration": 0,
    "start_time": "2025-03-05T18:00:16.537Z"
   },
   {
    "duration": 0,
    "start_time": "2025-03-05T18:00:16.538Z"
   },
   {
    "duration": 0,
    "start_time": "2025-03-05T18:00:16.539Z"
   },
   {
    "duration": 0,
    "start_time": "2025-03-05T18:00:16.539Z"
   },
   {
    "duration": 0,
    "start_time": "2025-03-05T18:00:16.540Z"
   },
   {
    "duration": 0,
    "start_time": "2025-03-05T18:00:16.541Z"
   },
   {
    "duration": 0,
    "start_time": "2025-03-05T18:00:16.542Z"
   },
   {
    "duration": 0,
    "start_time": "2025-03-05T18:00:16.543Z"
   },
   {
    "duration": 0,
    "start_time": "2025-03-05T18:00:16.544Z"
   },
   {
    "duration": 0,
    "start_time": "2025-03-05T18:00:16.545Z"
   },
   {
    "duration": 0,
    "start_time": "2025-03-05T18:00:16.605Z"
   },
   {
    "duration": 0,
    "start_time": "2025-03-05T18:00:16.606Z"
   },
   {
    "duration": 0,
    "start_time": "2025-03-05T18:00:16.607Z"
   },
   {
    "duration": 0,
    "start_time": "2025-03-05T18:00:16.608Z"
   },
   {
    "duration": 0,
    "start_time": "2025-03-05T18:00:16.609Z"
   },
   {
    "duration": 0,
    "start_time": "2025-03-05T18:00:16.611Z"
   },
   {
    "duration": 0,
    "start_time": "2025-03-05T18:00:16.612Z"
   },
   {
    "duration": 0,
    "start_time": "2025-03-05T18:00:16.613Z"
   },
   {
    "duration": 0,
    "start_time": "2025-03-05T18:00:16.615Z"
   },
   {
    "duration": 0,
    "start_time": "2025-03-05T18:00:16.616Z"
   },
   {
    "duration": 0,
    "start_time": "2025-03-05T18:00:16.621Z"
   },
   {
    "duration": 0,
    "start_time": "2025-03-05T18:00:16.622Z"
   },
   {
    "duration": 0,
    "start_time": "2025-03-05T18:00:16.626Z"
   },
   {
    "duration": 0,
    "start_time": "2025-03-05T18:00:16.627Z"
   },
   {
    "duration": 0,
    "start_time": "2025-03-05T18:00:16.628Z"
   },
   {
    "duration": 0,
    "start_time": "2025-03-05T18:00:16.630Z"
   },
   {
    "duration": 0,
    "start_time": "2025-03-05T18:00:16.631Z"
   },
   {
    "duration": 0,
    "start_time": "2025-03-05T18:00:16.631Z"
   },
   {
    "duration": 0,
    "start_time": "2025-03-05T18:00:16.633Z"
   },
   {
    "duration": 0,
    "start_time": "2025-03-05T18:00:16.634Z"
   },
   {
    "duration": 0,
    "start_time": "2025-03-05T18:00:16.635Z"
   },
   {
    "duration": 0,
    "start_time": "2025-03-05T18:00:16.636Z"
   },
   {
    "duration": 0,
    "start_time": "2025-03-05T18:00:16.637Z"
   },
   {
    "duration": 2676,
    "start_time": "2025-03-05T18:02:26.704Z"
   },
   {
    "duration": 131,
    "start_time": "2025-03-05T18:02:39.788Z"
   },
   {
    "duration": 6,
    "start_time": "2025-03-05T18:03:15.157Z"
   },
   {
    "duration": 49,
    "start_time": "2025-03-05T18:03:18.699Z"
   },
   {
    "duration": 3,
    "start_time": "2025-03-05T18:03:22.701Z"
   },
   {
    "duration": 9,
    "start_time": "2025-03-05T18:03:25.557Z"
   },
   {
    "duration": 70,
    "start_time": "2025-03-05T18:03:38.542Z"
   },
   {
    "duration": 16,
    "start_time": "2025-03-05T18:03:41.314Z"
   },
   {
    "duration": 14,
    "start_time": "2025-03-05T18:03:44.705Z"
   },
   {
    "duration": 91,
    "start_time": "2025-03-05T18:03:48.060Z"
   },
   {
    "duration": 4,
    "start_time": "2025-03-05T18:03:51.974Z"
   },
   {
    "duration": 66,
    "start_time": "2025-03-05T18:03:54.766Z"
   },
   {
    "duration": 37,
    "start_time": "2025-03-05T18:03:59.749Z"
   },
   {
    "duration": 384,
    "start_time": "2025-03-05T18:04:33.802Z"
   },
   {
    "duration": 9,
    "start_time": "2025-03-05T18:04:41.050Z"
   },
   {
    "duration": 38,
    "start_time": "2025-03-05T18:04:44.282Z"
   },
   {
    "duration": 37,
    "start_time": "2025-03-05T18:04:51.029Z"
   },
   {
    "duration": 3,
    "start_time": "2025-03-05T18:04:56.529Z"
   },
   {
    "duration": 5,
    "start_time": "2025-03-05T18:04:58.776Z"
   },
   {
    "duration": 321,
    "start_time": "2025-03-05T18:14:47.281Z"
   },
   {
    "duration": 495,
    "start_time": "2025-03-05T18:14:55.587Z"
   },
   {
    "duration": 153,
    "start_time": "2025-03-05T18:32:22.059Z"
   },
   {
    "duration": 2658,
    "start_time": "2025-03-06T02:39:16.439Z"
   },
   {
    "duration": 136,
    "start_time": "2025-03-06T02:39:19.100Z"
   },
   {
    "duration": 6,
    "start_time": "2025-03-06T02:39:19.238Z"
   },
   {
    "duration": 46,
    "start_time": "2025-03-06T02:39:19.246Z"
   },
   {
    "duration": 3,
    "start_time": "2025-03-06T02:39:19.295Z"
   },
   {
    "duration": 29,
    "start_time": "2025-03-06T02:39:19.299Z"
   },
   {
    "duration": 75,
    "start_time": "2025-03-06T02:39:19.330Z"
   },
   {
    "duration": 29,
    "start_time": "2025-03-06T02:39:19.407Z"
   },
   {
    "duration": 13,
    "start_time": "2025-03-06T02:39:19.438Z"
   },
   {
    "duration": 111,
    "start_time": "2025-03-06T02:39:19.454Z"
   },
   {
    "duration": 4,
    "start_time": "2025-03-06T02:39:19.566Z"
   },
   {
    "duration": 76,
    "start_time": "2025-03-06T02:39:19.572Z"
   },
   {
    "duration": 29,
    "start_time": "2025-03-06T02:39:19.650Z"
   },
   {
    "duration": 397,
    "start_time": "2025-03-06T02:39:19.680Z"
   },
   {
    "duration": 9,
    "start_time": "2025-03-06T02:39:20.079Z"
   },
   {
    "duration": 54,
    "start_time": "2025-03-06T02:39:20.090Z"
   },
   {
    "duration": 37,
    "start_time": "2025-03-06T02:39:20.146Z"
   },
   {
    "duration": 3,
    "start_time": "2025-03-06T02:39:20.184Z"
   },
   {
    "duration": 4,
    "start_time": "2025-03-06T02:39:20.189Z"
   },
   {
    "duration": 344,
    "start_time": "2025-03-06T02:39:20.223Z"
   },
   {
    "duration": 145,
    "start_time": "2025-03-06T02:39:20.570Z"
   },
   {
    "duration": 16,
    "start_time": "2025-03-06T02:39:20.717Z"
   },
   {
    "duration": 13,
    "start_time": "2025-03-06T02:39:20.735Z"
   },
   {
    "duration": 5,
    "start_time": "2025-03-06T02:39:20.750Z"
   },
   {
    "duration": 13,
    "start_time": "2025-03-06T02:39:20.757Z"
   },
   {
    "duration": 16,
    "start_time": "2025-03-06T02:39:20.772Z"
   },
   {
    "duration": 37,
    "start_time": "2025-03-06T02:39:20.790Z"
   },
   {
    "duration": 23,
    "start_time": "2025-03-06T02:39:20.832Z"
   },
   {
    "duration": 44,
    "start_time": "2025-03-06T02:39:20.857Z"
   },
   {
    "duration": 60,
    "start_time": "2025-03-06T02:39:20.903Z"
   },
   {
    "duration": 7,
    "start_time": "2025-03-06T02:39:20.965Z"
   },
   {
    "duration": 60,
    "start_time": "2025-03-06T02:39:20.973Z"
   },
   {
    "duration": 3,
    "start_time": "2025-03-06T02:39:21.036Z"
   },
   {
    "duration": 8,
    "start_time": "2025-03-06T02:39:21.041Z"
   },
   {
    "duration": 1209,
    "start_time": "2025-03-06T02:39:21.051Z"
   },
   {
    "duration": 1063,
    "start_time": "2025-03-06T02:39:22.262Z"
   },
   {
    "duration": 3,
    "start_time": "2025-03-06T02:39:23.327Z"
   },
   {
    "duration": 7,
    "start_time": "2025-03-06T02:39:23.334Z"
   },
   {
    "duration": 8,
    "start_time": "2025-03-06T02:39:23.343Z"
   },
   {
    "duration": 8,
    "start_time": "2025-03-06T02:39:23.352Z"
   },
   {
    "duration": 3,
    "start_time": "2025-03-06T02:39:23.362Z"
   },
   {
    "duration": 96,
    "start_time": "2025-03-06T02:39:23.367Z"
   },
   {
    "duration": 21,
    "start_time": "2025-03-06T02:39:23.465Z"
   },
   {
    "duration": 8,
    "start_time": "2025-03-06T02:39:23.487Z"
   },
   {
    "duration": 4,
    "start_time": "2025-03-06T02:39:23.497Z"
   },
   {
    "duration": 38,
    "start_time": "2025-03-06T02:39:23.502Z"
   },
   {
    "duration": 18,
    "start_time": "2025-03-06T02:39:23.542Z"
   },
   {
    "duration": 19,
    "start_time": "2025-03-06T02:39:23.562Z"
   },
   {
    "duration": 88,
    "start_time": "2025-03-06T02:39:23.582Z"
   },
   {
    "duration": 85,
    "start_time": "2025-03-06T02:39:23.671Z"
   },
   {
    "duration": 75,
    "start_time": "2025-03-06T02:39:23.759Z"
   },
   {
    "duration": 2662,
    "start_time": "2025-03-06T13:50:51.062Z"
   },
   {
    "duration": 128,
    "start_time": "2025-03-06T13:50:53.726Z"
   },
   {
    "duration": 6,
    "start_time": "2025-03-06T13:50:53.856Z"
   },
   {
    "duration": 59,
    "start_time": "2025-03-06T13:50:53.863Z"
   },
   {
    "duration": 3,
    "start_time": "2025-03-06T13:50:53.924Z"
   },
   {
    "duration": 8,
    "start_time": "2025-03-06T13:50:53.929Z"
   },
   {
    "duration": 83,
    "start_time": "2025-03-06T13:50:53.939Z"
   },
   {
    "duration": 16,
    "start_time": "2025-03-06T13:50:54.024Z"
   },
   {
    "duration": 11,
    "start_time": "2025-03-06T13:50:54.042Z"
   },
   {
    "duration": 105,
    "start_time": "2025-03-06T13:50:54.055Z"
   },
   {
    "duration": 3,
    "start_time": "2025-03-06T13:50:54.162Z"
   },
   {
    "duration": 78,
    "start_time": "2025-03-06T13:50:54.166Z"
   },
   {
    "duration": 28,
    "start_time": "2025-03-06T13:50:54.246Z"
   },
   {
    "duration": 377,
    "start_time": "2025-03-06T13:50:54.286Z"
   },
   {
    "duration": 7,
    "start_time": "2025-03-06T13:50:54.665Z"
   },
   {
    "duration": 41,
    "start_time": "2025-03-06T13:50:54.674Z"
   },
   {
    "duration": 36,
    "start_time": "2025-03-06T13:50:54.717Z"
   },
   {
    "duration": 2,
    "start_time": "2025-03-06T13:50:54.755Z"
   },
   {
    "duration": 30,
    "start_time": "2025-03-06T13:50:54.759Z"
   },
   {
    "duration": 332,
    "start_time": "2025-03-06T13:50:54.790Z"
   },
   {
    "duration": 157,
    "start_time": "2025-03-06T13:50:55.123Z"
   },
   {
    "duration": 13,
    "start_time": "2025-03-06T13:50:55.282Z"
   },
   {
    "duration": 12,
    "start_time": "2025-03-06T13:50:55.296Z"
   },
   {
    "duration": 4,
    "start_time": "2025-03-06T13:50:55.309Z"
   },
   {
    "duration": 14,
    "start_time": "2025-03-06T13:50:55.315Z"
   },
   {
    "duration": 17,
    "start_time": "2025-03-06T13:50:55.331Z"
   },
   {
    "duration": 39,
    "start_time": "2025-03-06T13:50:55.350Z"
   },
   {
    "duration": 22,
    "start_time": "2025-03-06T13:50:55.392Z"
   },
   {
    "duration": 44,
    "start_time": "2025-03-06T13:50:55.416Z"
   },
   {
    "duration": 60,
    "start_time": "2025-03-06T13:50:55.462Z"
   },
   {
    "duration": 6,
    "start_time": "2025-03-06T13:50:55.524Z"
   },
   {
    "duration": 62,
    "start_time": "2025-03-06T13:50:55.532Z"
   },
   {
    "duration": 3,
    "start_time": "2025-03-06T13:50:55.596Z"
   },
   {
    "duration": 9,
    "start_time": "2025-03-06T13:50:55.600Z"
   },
   {
    "duration": 1173,
    "start_time": "2025-03-06T13:50:55.611Z"
   },
   {
    "duration": 1052,
    "start_time": "2025-03-06T13:50:56.787Z"
   },
   {
    "duration": 3,
    "start_time": "2025-03-06T13:50:57.842Z"
   },
   {
    "duration": 8,
    "start_time": "2025-03-06T13:50:57.847Z"
   },
   {
    "duration": 8,
    "start_time": "2025-03-06T13:50:57.858Z"
   },
   {
    "duration": 8,
    "start_time": "2025-03-06T13:50:57.886Z"
   },
   {
    "duration": 3,
    "start_time": "2025-03-06T13:50:57.899Z"
   },
   {
    "duration": 63,
    "start_time": "2025-03-06T13:50:57.904Z"
   },
   {
    "duration": 20,
    "start_time": "2025-03-06T13:50:57.987Z"
   },
   {
    "duration": 8,
    "start_time": "2025-03-06T13:50:58.009Z"
   },
   {
    "duration": 5,
    "start_time": "2025-03-06T13:50:58.018Z"
   },
   {
    "duration": 19,
    "start_time": "2025-03-06T13:50:58.025Z"
   },
   {
    "duration": 44,
    "start_time": "2025-03-06T13:50:58.046Z"
   },
   {
    "duration": 19,
    "start_time": "2025-03-06T13:50:58.091Z"
   },
   {
    "duration": 81,
    "start_time": "2025-03-06T13:50:58.112Z"
   },
   {
    "duration": 68,
    "start_time": "2025-03-06T13:50:58.195Z"
   },
   {
    "duration": 82,
    "start_time": "2025-03-06T13:50:58.265Z"
   },
   {
    "duration": 278,
    "start_time": "2025-03-06T14:03:08.772Z"
   },
   {
    "duration": 1023,
    "start_time": "2025-03-06T14:04:39.322Z"
   },
   {
    "duration": 5,
    "start_time": "2025-03-06T14:09:09.700Z"
   },
   {
    "duration": 5,
    "start_time": "2025-03-06T14:10:37.725Z"
   },
   {
    "duration": 358,
    "start_time": "2025-03-06T14:11:36.041Z"
   },
   {
    "duration": 5,
    "start_time": "2025-03-06T14:15:47.164Z"
   },
   {
    "duration": 730,
    "start_time": "2025-03-06T14:16:05.040Z"
   },
   {
    "duration": 2642,
    "start_time": "2025-03-06T15:12:07.575Z"
   },
   {
    "duration": 126,
    "start_time": "2025-03-06T15:12:10.220Z"
   },
   {
    "duration": 5,
    "start_time": "2025-03-06T15:12:10.348Z"
   },
   {
    "duration": 54,
    "start_time": "2025-03-06T15:12:10.355Z"
   },
   {
    "duration": 3,
    "start_time": "2025-03-06T15:12:10.412Z"
   },
   {
    "duration": 8,
    "start_time": "2025-03-06T15:12:10.417Z"
   },
   {
    "duration": 85,
    "start_time": "2025-03-06T15:12:10.427Z"
   },
   {
    "duration": 15,
    "start_time": "2025-03-06T15:12:10.514Z"
   },
   {
    "duration": 12,
    "start_time": "2025-03-06T15:12:10.531Z"
   },
   {
    "duration": 109,
    "start_time": "2025-03-06T15:12:10.545Z"
   },
   {
    "duration": 4,
    "start_time": "2025-03-06T15:12:10.656Z"
   },
   {
    "duration": 84,
    "start_time": "2025-03-06T15:12:10.662Z"
   },
   {
    "duration": 28,
    "start_time": "2025-03-06T15:12:10.748Z"
   },
   {
    "duration": 387,
    "start_time": "2025-03-06T15:12:10.780Z"
   },
   {
    "duration": 8,
    "start_time": "2025-03-06T15:12:11.169Z"
   },
   {
    "duration": 49,
    "start_time": "2025-03-06T15:12:11.179Z"
   },
   {
    "duration": 38,
    "start_time": "2025-03-06T15:12:11.231Z"
   },
   {
    "duration": 3,
    "start_time": "2025-03-06T15:12:11.271Z"
   },
   {
    "duration": 29,
    "start_time": "2025-03-06T15:12:11.276Z"
   },
   {
    "duration": 342,
    "start_time": "2025-03-06T15:12:11.307Z"
   },
   {
    "duration": 150,
    "start_time": "2025-03-06T15:12:11.651Z"
   },
   {
    "duration": 11,
    "start_time": "2025-03-06T15:12:11.805Z"
   },
   {
    "duration": 12,
    "start_time": "2025-03-06T15:12:11.818Z"
   },
   {
    "duration": 5,
    "start_time": "2025-03-06T15:12:11.832Z"
   },
   {
    "duration": 13,
    "start_time": "2025-03-06T15:12:11.838Z"
   },
   {
    "duration": 132,
    "start_time": "2025-03-06T15:12:11.853Z"
   },
   {
    "duration": 19,
    "start_time": "2025-03-06T15:12:11.987Z"
   },
   {
    "duration": 24,
    "start_time": "2025-03-06T15:12:12.008Z"
   },
   {
    "duration": 46,
    "start_time": "2025-03-06T15:12:12.034Z"
   },
   {
    "duration": 64,
    "start_time": "2025-03-06T15:12:12.082Z"
   },
   {
    "duration": 6,
    "start_time": "2025-03-06T15:12:12.148Z"
   },
   {
    "duration": 72,
    "start_time": "2025-03-06T15:12:12.156Z"
   },
   {
    "duration": 5,
    "start_time": "2025-03-06T15:12:12.232Z"
   },
   {
    "duration": 9,
    "start_time": "2025-03-06T15:12:12.240Z"
   },
   {
    "duration": 1149,
    "start_time": "2025-03-06T15:12:12.251Z"
   },
   {
    "duration": 1197,
    "start_time": "2025-03-06T15:12:13.401Z"
   },
   {
    "duration": 6,
    "start_time": "2025-03-06T15:12:14.600Z"
   },
   {
    "duration": 9,
    "start_time": "2025-03-06T15:12:14.607Z"
   },
   {
    "duration": 8,
    "start_time": "2025-03-06T15:12:14.618Z"
   },
   {
    "duration": 8,
    "start_time": "2025-03-06T15:12:14.628Z"
   },
   {
    "duration": 3,
    "start_time": "2025-03-06T15:12:14.641Z"
   },
   {
    "duration": 99,
    "start_time": "2025-03-06T15:12:14.646Z"
   },
   {
    "duration": 21,
    "start_time": "2025-03-06T15:12:14.747Z"
   },
   {
    "duration": 8,
    "start_time": "2025-03-06T15:12:14.770Z"
   },
   {
    "duration": 4,
    "start_time": "2025-03-06T15:12:14.780Z"
   },
   {
    "duration": 23,
    "start_time": "2025-03-06T15:12:14.804Z"
   },
   {
    "duration": 25,
    "start_time": "2025-03-06T15:12:14.829Z"
   },
   {
    "duration": 20,
    "start_time": "2025-03-06T15:12:14.856Z"
   },
   {
    "duration": 90,
    "start_time": "2025-03-06T15:12:14.878Z"
   },
   {
    "duration": 77,
    "start_time": "2025-03-06T15:12:14.972Z"
   },
   {
    "duration": 76,
    "start_time": "2025-03-06T15:12:15.051Z"
   },
   {
    "duration": 1229,
    "start_time": "2025-03-06T15:12:15.129Z"
   },
   {
    "duration": 0,
    "start_time": "2025-03-06T15:12:16.361Z"
   },
   {
    "duration": 2692,
    "start_time": "2025-03-06T16:17:02.928Z"
   },
   {
    "duration": 133,
    "start_time": "2025-03-06T16:17:05.622Z"
   },
   {
    "duration": 7,
    "start_time": "2025-03-06T16:17:05.757Z"
   },
   {
    "duration": 53,
    "start_time": "2025-03-06T16:17:05.765Z"
   },
   {
    "duration": 2,
    "start_time": "2025-03-06T16:17:05.821Z"
   },
   {
    "duration": 8,
    "start_time": "2025-03-06T16:17:05.825Z"
   },
   {
    "duration": 91,
    "start_time": "2025-03-06T16:17:05.835Z"
   },
   {
    "duration": 15,
    "start_time": "2025-03-06T16:17:05.928Z"
   },
   {
    "duration": 12,
    "start_time": "2025-03-06T16:17:05.945Z"
   },
   {
    "duration": 106,
    "start_time": "2025-03-06T16:17:05.959Z"
   },
   {
    "duration": 4,
    "start_time": "2025-03-06T16:17:06.067Z"
   },
   {
    "duration": 77,
    "start_time": "2025-03-06T16:17:06.073Z"
   },
   {
    "duration": 30,
    "start_time": "2025-03-06T16:17:06.152Z"
   },
   {
    "duration": 399,
    "start_time": "2025-03-06T16:17:06.185Z"
   },
   {
    "duration": 8,
    "start_time": "2025-03-06T16:17:06.587Z"
   },
   {
    "duration": 42,
    "start_time": "2025-03-06T16:17:06.596Z"
   },
   {
    "duration": 38,
    "start_time": "2025-03-06T16:17:06.639Z"
   },
   {
    "duration": 32,
    "start_time": "2025-03-06T16:17:06.678Z"
   },
   {
    "duration": 5,
    "start_time": "2025-03-06T16:17:06.712Z"
   },
   {
    "duration": 338,
    "start_time": "2025-03-06T16:17:06.719Z"
   },
   {
    "duration": 180,
    "start_time": "2025-03-06T16:17:07.059Z"
   },
   {
    "duration": 12,
    "start_time": "2025-03-06T16:17:07.241Z"
   },
   {
    "duration": 12,
    "start_time": "2025-03-06T16:17:07.254Z"
   },
   {
    "duration": 6,
    "start_time": "2025-03-06T16:17:07.268Z"
   },
   {
    "duration": 39,
    "start_time": "2025-03-06T16:17:07.276Z"
   },
   {
    "duration": 17,
    "start_time": "2025-03-06T16:17:07.316Z"
   },
   {
    "duration": 7,
    "start_time": "2025-03-06T16:17:07.335Z"
   },
   {
    "duration": 22,
    "start_time": "2025-03-06T16:17:07.344Z"
   },
   {
    "duration": 74,
    "start_time": "2025-03-06T16:17:07.368Z"
   },
   {
    "duration": 42,
    "start_time": "2025-03-06T16:17:07.443Z"
   },
   {
    "duration": 26,
    "start_time": "2025-03-06T16:17:07.487Z"
   },
   {
    "duration": 47,
    "start_time": "2025-03-06T16:17:07.514Z"
   },
   {
    "duration": 4,
    "start_time": "2025-03-06T16:17:07.563Z"
   },
   {
    "duration": 9,
    "start_time": "2025-03-06T16:17:07.569Z"
   },
   {
    "duration": 1313,
    "start_time": "2025-03-06T16:17:07.580Z"
   },
   {
    "duration": 1166,
    "start_time": "2025-03-06T16:17:08.895Z"
   },
   {
    "duration": 3,
    "start_time": "2025-03-06T16:17:10.064Z"
   },
   {
    "duration": 8,
    "start_time": "2025-03-06T16:17:10.069Z"
   },
   {
    "duration": 8,
    "start_time": "2025-03-06T16:17:10.079Z"
   },
   {
    "duration": 9,
    "start_time": "2025-03-06T16:17:10.109Z"
   },
   {
    "duration": 3,
    "start_time": "2025-03-06T16:17:10.123Z"
   },
   {
    "duration": 64,
    "start_time": "2025-03-06T16:17:10.128Z"
   },
   {
    "duration": 21,
    "start_time": "2025-03-06T16:17:10.210Z"
   },
   {
    "duration": 8,
    "start_time": "2025-03-06T16:17:10.233Z"
   },
   {
    "duration": 4,
    "start_time": "2025-03-06T16:17:10.243Z"
   },
   {
    "duration": 20,
    "start_time": "2025-03-06T16:17:10.249Z"
   },
   {
    "duration": 48,
    "start_time": "2025-03-06T16:17:10.271Z"
   },
   {
    "duration": 20,
    "start_time": "2025-03-06T16:17:10.321Z"
   },
   {
    "duration": 77,
    "start_time": "2025-03-06T16:17:10.343Z"
   },
   {
    "duration": 69,
    "start_time": "2025-03-06T16:17:10.422Z"
   },
   {
    "duration": 75,
    "start_time": "2025-03-06T16:17:10.493Z"
   },
   {
    "duration": 1316,
    "start_time": "2025-03-06T16:17:10.570Z"
   },
   {
    "duration": 0,
    "start_time": "2025-03-06T16:17:11.888Z"
   },
   {
    "duration": 580,
    "start_time": "2025-03-06T16:22:28.647Z"
   },
   {
    "duration": 790,
    "start_time": "2025-03-06T16:23:08.435Z"
   },
   {
    "duration": 579,
    "start_time": "2025-03-06T16:23:27.647Z"
   },
   {
    "duration": 1248,
    "start_time": "2025-03-06T16:56:52.973Z"
   },
   {
    "duration": 242,
    "start_time": "2025-03-06T16:58:19.706Z"
   },
   {
    "duration": 1129,
    "start_time": "2025-03-06T16:58:56.276Z"
   },
   {
    "duration": 1277,
    "start_time": "2025-03-06T16:59:15.998Z"
   },
   {
    "duration": 13,
    "start_time": "2025-03-06T17:01:46.842Z"
   },
   {
    "duration": 1267,
    "start_time": "2025-03-06T17:09:22.449Z"
   },
   {
    "duration": 1235,
    "start_time": "2025-03-06T17:09:50.092Z"
   },
   {
    "duration": 526,
    "start_time": "2025-03-06T17:10:45.176Z"
   },
   {
    "duration": 1246,
    "start_time": "2025-03-06T17:11:07.889Z"
   },
   {
    "duration": 1072,
    "start_time": "2025-03-06T17:12:15.685Z"
   },
   {
    "duration": 1271,
    "start_time": "2025-03-06T17:12:30.574Z"
   },
   {
    "duration": 5,
    "start_time": "2025-03-06T17:12:33.559Z"
   },
   {
    "duration": 8,
    "start_time": "2025-03-06T17:12:36.613Z"
   },
   {
    "duration": 13,
    "start_time": "2025-03-06T17:12:39.760Z"
   },
   {
    "duration": 9,
    "start_time": "2025-03-06T17:12:42.727Z"
   },
   {
    "duration": 3,
    "start_time": "2025-03-06T17:12:53.776Z"
   },
   {
    "duration": 74,
    "start_time": "2025-03-06T17:12:55.894Z"
   },
   {
    "duration": 12,
    "start_time": "2025-03-06T17:15:29.695Z"
   },
   {
    "duration": 15,
    "start_time": "2025-03-06T17:18:09.332Z"
   },
   {
    "duration": 6,
    "start_time": "2025-03-06T17:45:29.107Z"
   },
   {
    "duration": 13,
    "start_time": "2025-03-06T17:48:09.722Z"
   },
   {
    "duration": 2616,
    "start_time": "2025-03-07T01:17:11.580Z"
   },
   {
    "duration": 142,
    "start_time": "2025-03-07T01:17:14.199Z"
   },
   {
    "duration": 6,
    "start_time": "2025-03-07T01:17:14.343Z"
   },
   {
    "duration": 48,
    "start_time": "2025-03-07T01:17:14.351Z"
   },
   {
    "duration": 2,
    "start_time": "2025-03-07T01:17:14.401Z"
   },
   {
    "duration": 30,
    "start_time": "2025-03-07T01:17:14.405Z"
   },
   {
    "duration": 68,
    "start_time": "2025-03-07T01:17:14.436Z"
   },
   {
    "duration": 28,
    "start_time": "2025-03-07T01:17:14.505Z"
   },
   {
    "duration": 12,
    "start_time": "2025-03-07T01:17:14.535Z"
   },
   {
    "duration": 104,
    "start_time": "2025-03-07T01:17:14.550Z"
   },
   {
    "duration": 3,
    "start_time": "2025-03-07T01:17:14.656Z"
   },
   {
    "duration": 77,
    "start_time": "2025-03-07T01:17:14.660Z"
   },
   {
    "duration": 28,
    "start_time": "2025-03-07T01:17:14.739Z"
   },
   {
    "duration": 368,
    "start_time": "2025-03-07T01:17:14.770Z"
   },
   {
    "duration": 7,
    "start_time": "2025-03-07T01:17:15.140Z"
   },
   {
    "duration": 41,
    "start_time": "2025-03-07T01:17:15.148Z"
   },
   {
    "duration": 44,
    "start_time": "2025-03-07T01:17:15.231Z"
   },
   {
    "duration": 4,
    "start_time": "2025-03-07T01:17:15.276Z"
   },
   {
    "duration": 4,
    "start_time": "2025-03-07T01:17:15.282Z"
   },
   {
    "duration": 358,
    "start_time": "2025-03-07T01:17:15.288Z"
   },
   {
    "duration": 143,
    "start_time": "2025-03-07T01:17:15.648Z"
   },
   {
    "duration": 11,
    "start_time": "2025-03-07T01:17:15.793Z"
   },
   {
    "duration": 26,
    "start_time": "2025-03-07T01:17:15.805Z"
   },
   {
    "duration": 5,
    "start_time": "2025-03-07T01:17:15.833Z"
   },
   {
    "duration": 13,
    "start_time": "2025-03-07T01:17:15.840Z"
   },
   {
    "duration": 17,
    "start_time": "2025-03-07T01:17:15.854Z"
   },
   {
    "duration": 5,
    "start_time": "2025-03-07T01:17:15.873Z"
   },
   {
    "duration": 54,
    "start_time": "2025-03-07T01:17:15.882Z"
   },
   {
    "duration": 49,
    "start_time": "2025-03-07T01:17:15.938Z"
   },
   {
    "duration": 57,
    "start_time": "2025-03-07T01:17:15.988Z"
   },
   {
    "duration": 7,
    "start_time": "2025-03-07T01:17:16.047Z"
   },
   {
    "duration": 44,
    "start_time": "2025-03-07T01:17:16.055Z"
   },
   {
    "duration": 3,
    "start_time": "2025-03-07T01:17:16.101Z"
   },
   {
    "duration": 33,
    "start_time": "2025-03-07T01:17:16.106Z"
   },
   {
    "duration": 1167,
    "start_time": "2025-03-07T01:17:16.141Z"
   },
   {
    "duration": 1122,
    "start_time": "2025-03-07T01:17:17.309Z"
   },
   {
    "duration": 3,
    "start_time": "2025-03-07T01:17:18.435Z"
   },
   {
    "duration": 9,
    "start_time": "2025-03-07T01:17:18.439Z"
   },
   {
    "duration": 365,
    "start_time": "2025-03-07T01:17:18.450Z"
   },
   {
    "duration": 0,
    "start_time": "2025-03-07T01:17:18.817Z"
   },
   {
    "duration": 0,
    "start_time": "2025-03-07T01:17:18.818Z"
   },
   {
    "duration": 0,
    "start_time": "2025-03-07T01:17:18.820Z"
   },
   {
    "duration": 0,
    "start_time": "2025-03-07T01:17:18.831Z"
   },
   {
    "duration": 1,
    "start_time": "2025-03-07T01:17:18.832Z"
   },
   {
    "duration": 0,
    "start_time": "2025-03-07T01:17:18.834Z"
   },
   {
    "duration": 0,
    "start_time": "2025-03-07T01:17:18.835Z"
   },
   {
    "duration": 0,
    "start_time": "2025-03-07T01:17:18.836Z"
   },
   {
    "duration": 0,
    "start_time": "2025-03-07T01:17:18.837Z"
   },
   {
    "duration": 0,
    "start_time": "2025-03-07T01:17:18.838Z"
   },
   {
    "duration": 0,
    "start_time": "2025-03-07T01:17:18.839Z"
   },
   {
    "duration": 0,
    "start_time": "2025-03-07T01:17:18.840Z"
   },
   {
    "duration": 0,
    "start_time": "2025-03-07T01:17:18.841Z"
   },
   {
    "duration": 3,
    "start_time": "2025-03-07T01:18:39.185Z"
   },
   {
    "duration": 104,
    "start_time": "2025-03-07T01:18:39.191Z"
   },
   {
    "duration": 4,
    "start_time": "2025-03-07T01:18:39.296Z"
   },
   {
    "duration": 37,
    "start_time": "2025-03-07T01:18:39.302Z"
   },
   {
    "duration": 3,
    "start_time": "2025-03-07T01:18:39.342Z"
   },
   {
    "duration": 5,
    "start_time": "2025-03-07T01:18:39.346Z"
   },
   {
    "duration": 81,
    "start_time": "2025-03-07T01:18:39.353Z"
   },
   {
    "duration": 16,
    "start_time": "2025-03-07T01:18:39.437Z"
   },
   {
    "duration": 11,
    "start_time": "2025-03-07T01:18:39.455Z"
   },
   {
    "duration": 93,
    "start_time": "2025-03-07T01:18:39.468Z"
   },
   {
    "duration": 5,
    "start_time": "2025-03-07T01:18:39.563Z"
   },
   {
    "duration": 68,
    "start_time": "2025-03-07T01:18:39.570Z"
   },
   {
    "duration": 27,
    "start_time": "2025-03-07T01:18:39.640Z"
   },
   {
    "duration": 35,
    "start_time": "2025-03-07T01:18:39.671Z"
   },
   {
    "duration": 26,
    "start_time": "2025-03-07T01:18:39.708Z"
   },
   {
    "duration": 36,
    "start_time": "2025-03-07T01:18:39.736Z"
   },
   {
    "duration": 39,
    "start_time": "2025-03-07T01:18:39.774Z"
   },
   {
    "duration": 3,
    "start_time": "2025-03-07T01:18:39.831Z"
   },
   {
    "duration": 4,
    "start_time": "2025-03-07T01:18:39.836Z"
   },
   {
    "duration": 355,
    "start_time": "2025-03-07T01:18:39.842Z"
   },
   {
    "duration": 142,
    "start_time": "2025-03-07T01:18:40.199Z"
   },
   {
    "duration": 9,
    "start_time": "2025-03-07T01:18:40.343Z"
   },
   {
    "duration": 11,
    "start_time": "2025-03-07T01:18:40.353Z"
   },
   {
    "duration": 4,
    "start_time": "2025-03-07T01:18:40.366Z"
   },
   {
    "duration": 14,
    "start_time": "2025-03-07T01:18:40.372Z"
   },
   {
    "duration": 47,
    "start_time": "2025-03-07T01:18:40.387Z"
   },
   {
    "duration": 6,
    "start_time": "2025-03-07T01:18:40.436Z"
   },
   {
    "duration": 22,
    "start_time": "2025-03-07T01:18:40.444Z"
   },
   {
    "duration": 42,
    "start_time": "2025-03-07T01:18:40.467Z"
   },
   {
    "duration": 39,
    "start_time": "2025-03-07T01:18:40.531Z"
   },
   {
    "duration": 7,
    "start_time": "2025-03-07T01:18:40.572Z"
   },
   {
    "duration": 66,
    "start_time": "2025-03-07T01:18:40.580Z"
   },
   {
    "duration": 3,
    "start_time": "2025-03-07T01:18:40.647Z"
   },
   {
    "duration": 9,
    "start_time": "2025-03-07T01:18:40.652Z"
   },
   {
    "duration": 1257,
    "start_time": "2025-03-07T01:18:40.662Z"
   },
   {
    "duration": 1131,
    "start_time": "2025-03-07T01:18:41.922Z"
   },
   {
    "duration": 3,
    "start_time": "2025-03-07T01:18:43.055Z"
   },
   {
    "duration": 9,
    "start_time": "2025-03-07T01:18:43.059Z"
   },
   {
    "duration": 8,
    "start_time": "2025-03-07T01:18:43.070Z"
   },
   {
    "duration": 8,
    "start_time": "2025-03-07T01:18:43.079Z"
   },
   {
    "duration": 3,
    "start_time": "2025-03-07T01:18:43.092Z"
   },
   {
    "duration": 104,
    "start_time": "2025-03-07T01:18:43.097Z"
   },
   {
    "duration": 31,
    "start_time": "2025-03-07T01:18:43.203Z"
   },
   {
    "duration": 6,
    "start_time": "2025-03-07T01:18:43.236Z"
   },
   {
    "duration": 26,
    "start_time": "2025-03-07T01:18:43.244Z"
   },
   {
    "duration": 21,
    "start_time": "2025-03-07T01:18:43.272Z"
   },
   {
    "duration": 41,
    "start_time": "2025-03-07T01:18:43.295Z"
   },
   {
    "duration": 65,
    "start_time": "2025-03-07T01:18:43.338Z"
   },
   {
    "duration": 81,
    "start_time": "2025-03-07T01:18:43.405Z"
   },
   {
    "duration": 74,
    "start_time": "2025-03-07T01:18:43.488Z"
   },
   {
    "duration": 582,
    "start_time": "2025-03-07T01:18:43.564Z"
   },
   {
    "duration": 2590,
    "start_time": "2025-03-07T15:18:37.703Z"
   },
   {
    "duration": 125,
    "start_time": "2025-03-07T15:18:40.295Z"
   },
   {
    "duration": 6,
    "start_time": "2025-03-07T15:18:40.422Z"
   },
   {
    "duration": 47,
    "start_time": "2025-03-07T15:18:40.429Z"
   },
   {
    "duration": 2,
    "start_time": "2025-03-07T15:18:40.479Z"
   },
   {
    "duration": 33,
    "start_time": "2025-03-07T15:18:40.483Z"
   },
   {
    "duration": 66,
    "start_time": "2025-03-07T15:18:40.517Z"
   },
   {
    "duration": 27,
    "start_time": "2025-03-07T15:18:40.585Z"
   },
   {
    "duration": 13,
    "start_time": "2025-03-07T15:18:40.614Z"
   },
   {
    "duration": 97,
    "start_time": "2025-03-07T15:18:40.628Z"
   },
   {
    "duration": 4,
    "start_time": "2025-03-07T15:18:40.727Z"
   },
   {
    "duration": 61,
    "start_time": "2025-03-07T15:18:40.732Z"
   },
   {
    "duration": 40,
    "start_time": "2025-03-07T15:18:40.795Z"
   },
   {
    "duration": 352,
    "start_time": "2025-03-07T15:18:40.839Z"
   },
   {
    "duration": 5,
    "start_time": "2025-03-07T15:18:41.193Z"
   },
   {
    "duration": 45,
    "start_time": "2025-03-07T15:18:41.199Z"
   },
   {
    "duration": 69,
    "start_time": "2025-03-07T15:18:41.246Z"
   },
   {
    "duration": 3,
    "start_time": "2025-03-07T15:18:41.317Z"
   },
   {
    "duration": 5,
    "start_time": "2025-03-07T15:18:41.321Z"
   },
   {
    "duration": 327,
    "start_time": "2025-03-07T15:18:41.328Z"
   },
   {
    "duration": 155,
    "start_time": "2025-03-07T15:18:41.658Z"
   },
   {
    "duration": 10,
    "start_time": "2025-03-07T15:18:41.815Z"
   },
   {
    "duration": 11,
    "start_time": "2025-03-07T15:18:41.826Z"
   },
   {
    "duration": 4,
    "start_time": "2025-03-07T15:18:41.839Z"
   },
   {
    "duration": 14,
    "start_time": "2025-03-07T15:18:41.845Z"
   },
   {
    "duration": 19,
    "start_time": "2025-03-07T15:18:41.860Z"
   },
   {
    "duration": 6,
    "start_time": "2025-03-07T15:18:41.913Z"
   },
   {
    "duration": 22,
    "start_time": "2025-03-07T15:18:41.921Z"
   },
   {
    "duration": 47,
    "start_time": "2025-03-07T15:18:41.944Z"
   },
   {
    "duration": 56,
    "start_time": "2025-03-07T15:18:41.993Z"
   },
   {
    "duration": 6,
    "start_time": "2025-03-07T15:18:42.051Z"
   },
   {
    "duration": 58,
    "start_time": "2025-03-07T15:18:42.059Z"
   },
   {
    "duration": 3,
    "start_time": "2025-03-07T15:18:42.119Z"
   },
   {
    "duration": 9,
    "start_time": "2025-03-07T15:18:42.124Z"
   },
   {
    "duration": 1140,
    "start_time": "2025-03-07T15:18:42.134Z"
   },
   {
    "duration": 1021,
    "start_time": "2025-03-07T15:18:43.277Z"
   },
   {
    "duration": 4,
    "start_time": "2025-03-07T15:18:44.299Z"
   },
   {
    "duration": 9,
    "start_time": "2025-03-07T15:18:44.311Z"
   },
   {
    "duration": 8,
    "start_time": "2025-03-07T15:18:44.321Z"
   },
   {
    "duration": 8,
    "start_time": "2025-03-07T15:18:44.330Z"
   },
   {
    "duration": 3,
    "start_time": "2025-03-07T15:18:44.342Z"
   },
   {
    "duration": 88,
    "start_time": "2025-03-07T15:18:44.347Z"
   },
   {
    "duration": 20,
    "start_time": "2025-03-07T15:18:44.437Z"
   },
   {
    "duration": 3,
    "start_time": "2025-03-07T15:18:44.459Z"
   },
   {
    "duration": 21,
    "start_time": "2025-03-07T15:18:44.464Z"
   },
   {
    "duration": 35,
    "start_time": "2025-03-07T15:18:44.487Z"
   },
   {
    "duration": 19,
    "start_time": "2025-03-07T15:18:44.524Z"
   },
   {
    "duration": 81,
    "start_time": "2025-03-07T15:18:44.544Z"
   },
   {
    "duration": 74,
    "start_time": "2025-03-07T15:18:44.626Z"
   },
   {
    "duration": 68,
    "start_time": "2025-03-07T15:18:44.711Z"
   },
   {
    "duration": 654,
    "start_time": "2025-03-07T15:18:44.780Z"
   },
   {
    "duration": 2,
    "start_time": "2025-03-07T15:24:02.233Z"
   },
   {
    "duration": 3,
    "start_time": "2025-03-07T15:26:10.219Z"
   },
   {
    "duration": 618,
    "start_time": "2025-03-07T15:27:51.465Z"
   },
   {
    "duration": 6,
    "start_time": "2025-03-07T15:28:25.694Z"
   },
   {
    "duration": 3,
    "start_time": "2025-03-07T15:28:35.559Z"
   },
   {
    "duration": 5,
    "start_time": "2025-03-07T15:28:37.871Z"
   },
   {
    "duration": 17,
    "start_time": "2025-03-07T15:36:34.937Z"
   },
   {
    "duration": 8,
    "start_time": "2025-03-07T15:38:38.027Z"
   },
   {
    "duration": 17,
    "start_time": "2025-03-07T15:38:51.269Z"
   },
   {
    "duration": 6,
    "start_time": "2025-03-07T15:39:39.556Z"
   },
   {
    "duration": 2774,
    "start_time": "2025-03-07T16:40:33.912Z"
   },
   {
    "duration": 136,
    "start_time": "2025-03-07T16:40:36.689Z"
   },
   {
    "duration": 6,
    "start_time": "2025-03-07T16:40:36.827Z"
   },
   {
    "duration": 70,
    "start_time": "2025-03-07T16:40:36.835Z"
   },
   {
    "duration": 3,
    "start_time": "2025-03-07T16:40:36.908Z"
   },
   {
    "duration": 8,
    "start_time": "2025-03-07T16:40:36.913Z"
   },
   {
    "duration": 84,
    "start_time": "2025-03-07T16:40:36.923Z"
   },
   {
    "duration": 18,
    "start_time": "2025-03-07T16:40:37.010Z"
   },
   {
    "duration": 14,
    "start_time": "2025-03-07T16:40:37.030Z"
   },
   {
    "duration": 127,
    "start_time": "2025-03-07T16:40:37.046Z"
   },
   {
    "duration": 11,
    "start_time": "2025-03-07T16:40:37.175Z"
   },
   {
    "duration": 83,
    "start_time": "2025-03-07T16:40:37.188Z"
   },
   {
    "duration": 42,
    "start_time": "2025-03-07T16:40:37.273Z"
   },
   {
    "duration": 374,
    "start_time": "2025-03-07T16:40:37.319Z"
   },
   {
    "duration": 10,
    "start_time": "2025-03-07T16:40:37.695Z"
   },
   {
    "duration": 93,
    "start_time": "2025-03-07T16:40:37.707Z"
   },
   {
    "duration": 53,
    "start_time": "2025-03-07T16:40:37.802Z"
   },
   {
    "duration": 4,
    "start_time": "2025-03-07T16:40:37.857Z"
   },
   {
    "duration": 27,
    "start_time": "2025-03-07T16:40:37.862Z"
   },
   {
    "duration": 382,
    "start_time": "2025-03-07T16:40:37.891Z"
   },
   {
    "duration": 165,
    "start_time": "2025-03-07T16:40:38.275Z"
   },
   {
    "duration": 15,
    "start_time": "2025-03-07T16:40:38.442Z"
   },
   {
    "duration": 28,
    "start_time": "2025-03-07T16:40:38.459Z"
   },
   {
    "duration": 4,
    "start_time": "2025-03-07T16:40:38.490Z"
   },
   {
    "duration": 14,
    "start_time": "2025-03-07T16:40:38.496Z"
   },
   {
    "duration": 18,
    "start_time": "2025-03-07T16:40:38.512Z"
   },
   {
    "duration": 6,
    "start_time": "2025-03-07T16:40:38.532Z"
   },
   {
    "duration": 54,
    "start_time": "2025-03-07T16:40:38.541Z"
   },
   {
    "duration": 48,
    "start_time": "2025-03-07T16:40:38.597Z"
   },
   {
    "duration": 63,
    "start_time": "2025-03-07T16:40:38.647Z"
   },
   {
    "duration": 7,
    "start_time": "2025-03-07T16:40:38.712Z"
   },
   {
    "duration": 71,
    "start_time": "2025-03-07T16:40:38.721Z"
   },
   {
    "duration": 4,
    "start_time": "2025-03-07T16:40:38.794Z"
   },
   {
    "duration": 10,
    "start_time": "2025-03-07T16:40:38.800Z"
   },
   {
    "duration": 1177,
    "start_time": "2025-03-07T16:40:38.812Z"
   },
   {
    "duration": 1041,
    "start_time": "2025-03-07T16:40:39.990Z"
   },
   {
    "duration": 2,
    "start_time": "2025-03-07T16:40:41.033Z"
   },
   {
    "duration": 9,
    "start_time": "2025-03-07T16:40:41.037Z"
   },
   {
    "duration": 7,
    "start_time": "2025-03-07T16:40:41.048Z"
   },
   {
    "duration": 28,
    "start_time": "2025-03-07T16:40:41.059Z"
   },
   {
    "duration": 2,
    "start_time": "2025-03-07T16:40:41.093Z"
   },
   {
    "duration": 3,
    "start_time": "2025-03-07T16:40:41.097Z"
   },
   {
    "duration": 5,
    "start_time": "2025-03-07T16:40:41.103Z"
   },
   {
    "duration": 8,
    "start_time": "2025-03-07T16:40:41.109Z"
   },
   {
    "duration": 4,
    "start_time": "2025-03-07T16:40:41.118Z"
   },
   {
    "duration": 6,
    "start_time": "2025-03-07T16:40:41.124Z"
   },
   {
    "duration": 104,
    "start_time": "2025-03-07T16:40:41.132Z"
   },
   {
    "duration": 21,
    "start_time": "2025-03-07T16:40:41.238Z"
   },
   {
    "duration": 4,
    "start_time": "2025-03-07T16:40:41.261Z"
   },
   {
    "duration": 42,
    "start_time": "2025-03-07T16:40:41.267Z"
   },
   {
    "duration": 20,
    "start_time": "2025-03-07T16:40:41.310Z"
   },
   {
    "duration": 19,
    "start_time": "2025-03-07T16:40:41.331Z"
   },
   {
    "duration": 92,
    "start_time": "2025-03-07T16:40:41.352Z"
   },
   {
    "duration": 78,
    "start_time": "2025-03-07T16:40:41.446Z"
   },
   {
    "duration": 96,
    "start_time": "2025-03-07T16:40:41.526Z"
   },
   {
    "duration": 678,
    "start_time": "2025-03-07T16:40:41.624Z"
   },
   {
    "duration": 3,
    "start_time": "2025-03-07T16:44:09.491Z"
   },
   {
    "duration": 3,
    "start_time": "2025-03-07T16:44:36.522Z"
   },
   {
    "duration": 3,
    "start_time": "2025-03-07T16:44:47.190Z"
   },
   {
    "duration": 3,
    "start_time": "2025-03-07T16:44:55.227Z"
   },
   {
    "duration": 2,
    "start_time": "2025-03-07T16:47:06.528Z"
   },
   {
    "duration": 3,
    "start_time": "2025-03-07T16:47:08.800Z"
   },
   {
    "duration": 4,
    "start_time": "2025-03-07T16:47:10.950Z"
   },
   {
    "duration": 6,
    "start_time": "2025-03-07T16:47:14.248Z"
   },
   {
    "duration": 3,
    "start_time": "2025-03-07T16:47:18.463Z"
   },
   {
    "duration": 12,
    "start_time": "2025-03-07T16:49:14.747Z"
   },
   {
    "duration": 13,
    "start_time": "2025-03-07T16:49:23.533Z"
   },
   {
    "duration": 5,
    "start_time": "2025-03-07T16:49:44.707Z"
   },
   {
    "duration": 36,
    "start_time": "2025-03-07T16:50:50.376Z"
   },
   {
    "duration": 5,
    "start_time": "2025-03-07T16:51:01.644Z"
   },
   {
    "duration": 5,
    "start_time": "2025-03-07T16:51:14.526Z"
   },
   {
    "duration": 7,
    "start_time": "2025-03-07T16:51:19.109Z"
   },
   {
    "duration": 2,
    "start_time": "2025-03-07T16:51:28.272Z"
   },
   {
    "duration": 6,
    "start_time": "2025-03-07T16:51:39.259Z"
   },
   {
    "duration": 3,
    "start_time": "2025-03-07T16:51:42.225Z"
   },
   {
    "duration": 3,
    "start_time": "2025-03-07T16:52:19.280Z"
   },
   {
    "duration": 5,
    "start_time": "2025-03-07T16:52:23.647Z"
   },
   {
    "duration": 7,
    "start_time": "2025-03-07T16:52:28.254Z"
   },
   {
    "duration": 161,
    "start_time": "2025-03-07T18:17:58.659Z"
   },
   {
    "duration": 2648,
    "start_time": "2025-03-07T18:18:08.861Z"
   },
   {
    "duration": 133,
    "start_time": "2025-03-07T18:18:11.713Z"
   },
   {
    "duration": 6,
    "start_time": "2025-03-07T18:18:16.071Z"
   },
   {
    "duration": 46,
    "start_time": "2025-03-07T18:18:17.273Z"
   },
   {
    "duration": 3,
    "start_time": "2025-03-07T18:18:18.712Z"
   },
   {
    "duration": 8,
    "start_time": "2025-03-07T18:18:19.684Z"
   },
   {
    "duration": 69,
    "start_time": "2025-03-07T18:18:21.294Z"
   },
   {
    "duration": 15,
    "start_time": "2025-03-07T18:18:22.557Z"
   },
   {
    "duration": 12,
    "start_time": "2025-03-07T18:18:23.824Z"
   },
   {
    "duration": 86,
    "start_time": "2025-03-07T18:18:24.964Z"
   },
   {
    "duration": 3,
    "start_time": "2025-03-07T18:18:26.296Z"
   },
   {
    "duration": 65,
    "start_time": "2025-03-07T18:18:27.356Z"
   },
   {
    "duration": 29,
    "start_time": "2025-03-07T18:18:29.643Z"
   },
   {
    "duration": 302,
    "start_time": "2025-03-07T18:18:32.296Z"
   },
   {
    "duration": 7,
    "start_time": "2025-03-07T18:22:05.911Z"
   },
   {
    "duration": 37,
    "start_time": "2025-03-07T18:22:07.249Z"
   },
   {
    "duration": 38,
    "start_time": "2025-03-07T18:22:08.677Z"
   },
   {
    "duration": 2,
    "start_time": "2025-03-07T18:22:10.882Z"
   },
   {
    "duration": 4,
    "start_time": "2025-03-07T18:22:12.104Z"
   },
   {
    "duration": 410,
    "start_time": "2025-03-07T18:22:13.337Z"
   },
   {
    "duration": 156,
    "start_time": "2025-03-07T18:22:15.331Z"
   },
   {
    "duration": 11,
    "start_time": "2025-03-07T18:22:18.334Z"
   },
   {
    "duration": 12,
    "start_time": "2025-03-07T18:22:19.437Z"
   },
   {
    "duration": 4,
    "start_time": "2025-03-07T18:22:20.674Z"
   },
   {
    "duration": 14,
    "start_time": "2025-03-07T18:22:21.972Z"
   },
   {
    "duration": 19,
    "start_time": "2025-03-07T18:22:23.193Z"
   },
   {
    "duration": 7,
    "start_time": "2025-03-07T18:22:24.393Z"
   },
   {
    "duration": 23,
    "start_time": "2025-03-07T18:22:26.597Z"
   },
   {
    "duration": 44,
    "start_time": "2025-03-07T18:22:27.879Z"
   },
   {
    "duration": 50,
    "start_time": "2025-03-07T18:22:29.579Z"
   },
   {
    "duration": 7,
    "start_time": "2025-03-07T18:22:35.761Z"
   },
   {
    "duration": 42,
    "start_time": "2025-03-07T18:22:37.172Z"
   },
   {
    "duration": 3,
    "start_time": "2025-03-07T18:22:40.849Z"
   },
   {
    "duration": 9,
    "start_time": "2025-03-07T18:22:43.558Z"
   },
   {
    "duration": 1034,
    "start_time": "2025-03-07T18:22:46.019Z"
   },
   {
    "duration": 1137,
    "start_time": "2025-03-07T18:22:50.010Z"
   },
   {
    "duration": 3,
    "start_time": "2025-03-07T18:22:51.574Z"
   },
   {
    "duration": 8,
    "start_time": "2025-03-07T18:22:52.734Z"
   },
   {
    "duration": 8,
    "start_time": "2025-03-07T18:22:54.027Z"
   },
   {
    "duration": 8,
    "start_time": "2025-03-07T18:22:55.098Z"
   },
   {
    "duration": 5,
    "start_time": "2025-03-07T18:22:56.171Z"
   },
   {
    "duration": 13,
    "start_time": "2025-03-07T18:22:58.160Z"
   },
   {
    "duration": 2,
    "start_time": "2025-03-07T18:22:59.647Z"
   },
   {
    "duration": 3,
    "start_time": "2025-03-07T18:23:00.849Z"
   },
   {
    "duration": 4,
    "start_time": "2025-03-07T18:23:02.142Z"
   },
   {
    "duration": 6,
    "start_time": "2025-03-07T18:23:03.746Z"
   },
   {
    "duration": 3,
    "start_time": "2025-03-07T18:23:04.999Z"
   },
   {
    "duration": 4,
    "start_time": "2025-03-07T18:23:07.378Z"
   },
   {
    "duration": 71,
    "start_time": "2025-03-07T18:23:09.026Z"
   },
   {
    "duration": 22,
    "start_time": "2025-03-07T18:23:11.214Z"
   },
   {
    "duration": 5,
    "start_time": "2025-03-07T18:23:12.276Z"
   },
   {
    "duration": 20,
    "start_time": "2025-03-07T18:23:13.254Z"
   },
   {
    "duration": 21,
    "start_time": "2025-03-07T18:23:14.433Z"
   },
   {
    "duration": 21,
    "start_time": "2025-03-07T18:23:15.411Z"
   },
   {
    "duration": 65,
    "start_time": "2025-03-07T18:23:16.370Z"
   },
   {
    "duration": 70,
    "start_time": "2025-03-07T18:23:17.312Z"
   },
   {
    "duration": 66,
    "start_time": "2025-03-07T18:23:18.378Z"
   },
   {
    "duration": 569,
    "start_time": "2025-03-07T18:23:19.356Z"
   },
   {
    "duration": 4,
    "start_time": "2025-03-07T18:26:30.214Z"
   },
   {
    "duration": 64,
    "start_time": "2025-03-07T18:27:06.099Z"
   },
   {
    "duration": 69,
    "start_time": "2025-03-07T18:27:40.259Z"
   },
   {
    "duration": 75,
    "start_time": "2025-03-07T18:27:49.097Z"
   },
   {
    "duration": 3,
    "start_time": "2025-03-07T18:30:38.437Z"
   },
   {
    "duration": 4,
    "start_time": "2025-03-07T18:30:42.272Z"
   },
   {
    "duration": 73,
    "start_time": "2025-03-07T18:30:45.371Z"
   },
   {
    "duration": 70,
    "start_time": "2025-03-07T18:30:48.208Z"
   },
   {
    "duration": 71,
    "start_time": "2025-03-07T18:30:50.818Z"
   }
  ],
  "kernelspec": {
   "display_name": "base",
   "language": "python",
   "name": "python3"
  },
  "language_info": {
   "codemirror_mode": {
    "name": "ipython",
    "version": 3
   },
   "file_extension": ".py",
   "mimetype": "text/x-python",
   "name": "python",
   "nbconvert_exporter": "python",
   "pygments_lexer": "ipython3",
   "version": "3.12.4"
  },
  "toc": {
   "base_numbering": 1,
   "nav_menu": {},
   "number_sections": true,
   "sideBar": true,
   "skip_h1_title": true,
   "title_cell": "Table of Contents",
   "title_sidebar": "Contents",
   "toc_cell": false,
   "toc_position": {},
   "toc_section_display": true,
   "toc_window_display": false
  }
 },
 "nbformat": 4,
 "nbformat_minor": 2
}
